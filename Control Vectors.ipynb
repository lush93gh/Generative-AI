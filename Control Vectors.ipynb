{
 "cells": [
  {
   "cell_type": "markdown",
   "id": "hOYTKSRspgnD",
   "metadata": {
    "id": "hOYTKSRspgnD"
   },
   "source": [
    "### 設定環境變數\n",
    "\n",
    "設定像是 ```KAGGLE_USERNAME``` 和 ```KAGGLE_KEY``` 的環境變數。"
   ]
  },
  {
   "cell_type": "code",
   "execution_count": 1,
   "id": "IBoCTBDY6TvG",
   "metadata": {
    "id": "IBoCTBDY6TvG"
   },
   "outputs": [],
   "source": [
    "import os, json\n",
    "\n",
    "with open('kaggle.json') as f:\n",
    "    kaggle = json.load(f)\n",
    "    os.environ[\"KAGGLE_USERNAME\"] = kaggle[\"username\"]\n",
    "    os.environ[\"KAGGLE_KEY\"] = kaggle[\"key\"]\n",
    "\n",
    "# Keras 3 is multi-backend. it runs on \"jax\", \"torch\" or \"tensorflow\"\n",
    "os.environ[\"KERAS_BACKEND\"] = \"jax\"\n",
    "# Avoid memory fragmentation on JAX backend.\n",
    "os.environ[\"XLA_PYTHON_CLIENT_MEM_FRACTION\"] = \"1.00\""
   ]
  },
  {
   "cell_type": "code",
   "execution_count": 2,
   "id": "8271b6c6-1e75-4216-a791-8c7aa1e9f594",
   "metadata": {
    "id": "8271b6c6-1e75-4216-a791-8c7aa1e9f594"
   },
   "outputs": [
    {
     "name": "stderr",
     "output_type": "stream",
     "text": [
      "2024-11-23 05:21:35.859401: E external/local_xla/xla/stream_executor/cuda/cuda_fft.cc:485] Unable to register cuFFT factory: Attempting to register factory for plugin cuFFT when one has already been registered\n",
      "2024-11-23 05:21:35.867215: E external/local_xla/xla/stream_executor/cuda/cuda_dnn.cc:8454] Unable to register cuDNN factory: Attempting to register factory for plugin cuDNN when one has already been registered\n",
      "2024-11-23 05:21:35.869562: E external/local_xla/xla/stream_executor/cuda/cuda_blas.cc:1452] Unable to register cuBLAS factory: Attempting to register factory for plugin cuBLAS when one has already been registered\n"
     ]
    }
   ],
   "source": [
    "import jax\n",
    "import json,random\n",
    "import keras, keras_hub\n",
    "import numpy as np\n",
    "import pandas as pd\n",
    "from sklearn.decomposition import PCA as sklearn_PCA\n",
    "from tqdm import tqdm\n",
    "\n",
    "keras.utils.set_random_seed(42)\n",
    "\n",
    "# Training Configurations\n",
    "token_limit = 4096"
   ]
  },
  {
   "cell_type": "markdown",
   "id": "VrcLIbHIa-vR",
   "metadata": {
    "id": "VrcLIbHIa-vR"
   },
   "source": [
    "# Utilities"
   ]
  },
  {
   "cell_type": "code",
   "execution_count": 3,
   "id": "HSeKxtCeazYo",
   "metadata": {
    "id": "HSeKxtCeazYo"
   },
   "outputs": [],
   "source": [
    "import time\n",
    "tick_start = 0\n",
    "\n",
    "def tick():\n",
    "    global tick_start\n",
    "    tick_start = time.time()\n",
    "\n",
    "def tock():\n",
    "    print(f\"TOTAL TIME ELAPSED: {time.time() - tick_start:.2f}s\")\n",
    "\n",
    "# formatting utility\n",
    "from IPython.display import Markdown\n",
    "import textwrap\n",
    "\n",
    "def display_chat(prompt, text):\n",
    "  formatted_prompt = \"<font size='+1' color='#1E90FF'>🧑‍💻<blockquote>\" + prompt + \"</blockquote></font>\"\n",
    "  text = text.replace('•', '  *')\n",
    "  text = text.replace('$', '\\$') # necessary escaping in Jupyter markdown\n",
    "  text = textwrap.indent(text, '> ', predicate=lambda _: True)\n",
    "  formatted_text = \"<font size='+1' color='#32CD32'>🤖\\n\\n\" + text + \"\\n\\n</font>\"\n",
    "  return Markdown(formatted_prompt+formatted_text)\n",
    "\n",
    "\n",
    "def rewire_for_cleaner_plot(model):\n",
    "\n",
    "  def call_fn(layer, *args, **kwargs):\n",
    "    if layer.__class__.__name__.endswith('DecoderBlock'):\n",
    "      kwargs.pop(\"padding_mask\")\n",
    "    return layer(*args, **kwargs)\n",
    "\n",
    "  model = keras.models.clone_model(model, call_function=call_fn, clone_function=lambda x:x)\n",
    "  input = model.input.copy()\n",
    "  input.pop(\"padding_mask\")\n",
    "  return keras.Model(input, model.output)"
   ]
  },
  {
   "cell_type": "code",
   "execution_count": 4,
   "id": "FlOtws1XhmsS",
   "metadata": {
    "id": "FlOtws1XhmsS"
   },
   "outputs": [],
   "source": [
    "__START_TURN_USER__ = \"<start_of_turn>user\\n\"\n",
    "__START_TURN_MODEL__ = \"<start_of_turn>model\\n\"\n",
    "__END_TURN__ = \"<end_of_turn>\\n\"\n",
    "system_prompt = '你是財經小博士。財經小博士是一位對財經領域非常熱衷的人，你擁有豐富的財經知識和經驗。你的使命是通過寫作和分享知識，幫助人們更好地了解和應對財經問題。無論用戶是新手還是老手，只要他有任何關於財經領域的問題，財經小博士都能幫助用戶解答。請你幫助用戶解答以下問題:'\n",
    "\n",
    "# chat utility\n",
    "class ChatState():\n",
    "    \n",
    "  def __init__(self, model, system=\"\"):\n",
    "    self.model = model\n",
    "    self.system = system\n",
    "    self.history = []\n",
    "    if len(self.system)>0:\n",
    "        self.history.append(__START_TURN_USER__ + self.system + \"\\n\")\n",
    "\n",
    "  def add_to_history_as_user(self, message):\n",
    "      self.history.append(__START_TURN_USER__ + message + __END_TURN__)\n",
    "\n",
    "  def add_to_history_as_model(self, message):\n",
    "      self.history.append(__START_TURN_MODEL__ + message + __END_TURN__)\n",
    "\n",
    "  def get_history(self):\n",
    "      return \"\".join([*self.history])\n",
    "\n",
    "  def get_full_prompt(self):\n",
    "    prompt = self.get_history() + __START_TURN_MODEL__\n",
    "    return prompt\n",
    "\n",
    "  def send_message(self, message):\n",
    "    tick()\n",
    "    if len(self.system)>0 and len(self.history) == 1:\n",
    "        self.history[0] = self.history[0] + message + __END_TURN__\n",
    "    else:\n",
    "        self.add_to_history_as_user(message)\n",
    "    prompt = self.get_full_prompt()\n",
    "    response = self.model.generate(prompt, max_length=token_limit)\n",
    "    result = response.replace(prompt, \"\")\n",
    "    self.add_to_history_as_model(result)\n",
    "    tock()\n",
    "    return result"
   ]
  },
  {
   "cell_type": "markdown",
   "id": "xg1d-w9NbBSS",
   "metadata": {
    "id": "xg1d-w9NbBSS"
   },
   "source": [
    "# 載入模型"
   ]
  },
  {
   "cell_type": "code",
   "execution_count": 5,
   "id": "N7ZZIGuQ6KPf",
   "metadata": {
    "colab": {
     "base_uri": "https://localhost:8080/"
    },
    "id": "N7ZZIGuQ6KPf",
    "outputId": "588d8476-bde5-4319-9001-91f38ba145e7"
   },
   "outputs": [
    {
     "name": "stderr",
     "output_type": "stream",
     "text": [
      "WARNING: All log messages before absl::InitializeLog() is called are written to STDERR\n",
      "I0000 00:00:1732348191.524609  182036 cuda_executor.cc:1015] successful NUMA node read from SysFS had negative value (-1), but there must be at least one NUMA node, so returning NUMA node zero. See more at https://github.com/torvalds/linux/blob/v6.0/Documentation/ABI/testing/sysfs-bus-pci#L344-L355\n",
      "I0000 00:00:1732348191.529286  182036 cuda_executor.cc:1015] successful NUMA node read from SysFS had negative value (-1), but there must be at least one NUMA node, so returning NUMA node zero. See more at https://github.com/torvalds/linux/blob/v6.0/Documentation/ABI/testing/sysfs-bus-pci#L344-L355\n",
      "I0000 00:00:1732348191.530573  182036 cuda_executor.cc:1015] successful NUMA node read from SysFS had negative value (-1), but there must be at least one NUMA node, so returning NUMA node zero. See more at https://github.com/torvalds/linux/blob/v6.0/Documentation/ABI/testing/sysfs-bus-pci#L344-L355\n",
      "I0000 00:00:1732348191.534098  182036 cuda_executor.cc:1015] successful NUMA node read from SysFS had negative value (-1), but there must be at least one NUMA node, so returning NUMA node zero. See more at https://github.com/torvalds/linux/blob/v6.0/Documentation/ABI/testing/sysfs-bus-pci#L344-L355\n",
      "I0000 00:00:1732348191.535529  182036 cuda_executor.cc:1015] successful NUMA node read from SysFS had negative value (-1), but there must be at least one NUMA node, so returning NUMA node zero. See more at https://github.com/torvalds/linux/blob/v6.0/Documentation/ABI/testing/sysfs-bus-pci#L344-L355\n",
      "I0000 00:00:1732348191.536724  182036 cuda_executor.cc:1015] successful NUMA node read from SysFS had negative value (-1), but there must be at least one NUMA node, so returning NUMA node zero. See more at https://github.com/torvalds/linux/blob/v6.0/Documentation/ABI/testing/sysfs-bus-pci#L344-L355\n",
      "I0000 00:00:1732348191.642483  182036 cuda_executor.cc:1015] successful NUMA node read from SysFS had negative value (-1), but there must be at least one NUMA node, so returning NUMA node zero. See more at https://github.com/torvalds/linux/blob/v6.0/Documentation/ABI/testing/sysfs-bus-pci#L344-L355\n",
      "I0000 00:00:1732348191.643695  182036 cuda_executor.cc:1015] successful NUMA node read from SysFS had negative value (-1), but there must be at least one NUMA node, so returning NUMA node zero. See more at https://github.com/torvalds/linux/blob/v6.0/Documentation/ABI/testing/sysfs-bus-pci#L344-L355\n",
      "2024-11-23 07:49:51.644810: W tensorflow/core/common_runtime/gpu/gpu_bfc_allocator.cc:47] Overriding orig_value setting because the TF_FORCE_GPU_ALLOW_GROWTH environment variable is set. Original config value was 0.\n",
      "I0000 00:00:1732348191.644833  182036 cuda_executor.cc:1015] successful NUMA node read from SysFS had negative value (-1), but there must be at least one NUMA node, so returning NUMA node zero. See more at https://github.com/torvalds/linux/blob/v6.0/Documentation/ABI/testing/sysfs-bus-pci#L344-L355\n",
      "normalizer.cc(51) LOG(INFO) precompiled_charsmap is empty. use identity normalization.\n"
     ]
    }
   ],
   "source": [
    "model_id = 'gemma2_instruct_2b_en'\n",
    "gemma_preprocessor = keras_hub.models.GemmaCausalLMPreprocessor.from_preset(model_id)\n",
    "gemma_backbone = keras_hub.models.GemmaBackbone.from_preset(model_id)\n",
    "gemma = keras_hub.models.GemmaCausalLM(backbone=gemma_backbone, preprocessor=gemma_preprocessor)"
   ]
  },
  {
   "cell_type": "markdown",
   "id": "xUdTXzUMY9YV",
   "metadata": {
    "id": "xUdTXzUMY9YV"
   },
   "source": [
    "# Baseline answers"
   ]
  },
  {
   "cell_type": "code",
   "execution_count": 6,
   "id": "REILiqJDGgC4",
   "metadata": {
    "id": "REILiqJDGgC4"
   },
   "outputs": [],
   "source": [
    "system_prompt = (\"Here are the ETFs currently on offer:\\n\\n\"\n",
    "                \"1. Yuanta Taiwan 50 (0050), current price：NT$112.95, This fund employs a fully replicative indexing strategy to track the performance of the Taiwan 50 Index. The Taiwan 50 Index is jointly compiled by the Taiwan Stock Exchange and FTSE Index Company and consists of 50 largest-cap listed stocks selected based on specific screening criteria.\\n\"\n",
    "                \"2. Yuanta High Dividend (0056), current price：NT$20.85, Utilizing an indexing strategy, the fund replicates the performance of the benchmark index as closely as possible after deducting necessary fees. The fund diversifies investments across constituent stocks based on the index's weightings.\\n\"\n",
    "                \"3. Yuanta Taiwan 50 Bull 2X (00631L), current price：NT$85.10, The fund uses an indexing strategy to track twice the daily returns of the Taiwan 50 Index after deducting fees. To achieve this, its total exposure must be between 180% and 220% of its net asset value.\\n\")"
   ]
  },
  {
   "cell_type": "code",
   "execution_count": 7,
   "id": "0mtJ2kBvrbZ0",
   "metadata": {
    "colab": {
     "base_uri": "https://localhost:8080/",
     "height": 176
    },
    "id": "0mtJ2kBvrbZ0",
    "outputId": "6e447b2c-af20-422a-f1e5-bd43f2e0dfa7"
   },
   "outputs": [
    {
     "name": "stderr",
     "output_type": "stream",
     "text": [
      "2024-11-23 07:50:00.959243: E tensorflow/core/util/util.cc:131] oneDNN supports DT_INT64 only on platforms with AVX-512. Falling back to the default Eigen-based implementation if present.\n"
     ]
    },
    {
     "name": "stdout",
     "output_type": "stream",
     "text": [
      "TOTAL TIME ELAPSED: 7.10s\n"
     ]
    },
    {
     "data": {
      "text/markdown": [
       "<font size='+1' color='#1E90FF'>🧑‍💻<blockquote>What is the first etf in the listing?</blockquote></font><font size='+1' color='#32CD32'>🤖\n",
       "\n",
       "> The first ETF listed is **Yuanta Taiwan 50 (0050)**. \n",
       "> <end_of_turn>\n",
       "\n",
       "</font>"
      ],
      "text/plain": [
       "<IPython.core.display.Markdown object>"
      ]
     },
     "execution_count": 7,
     "metadata": {},
     "output_type": "execute_result"
    }
   ],
   "source": [
    "chat = ChatState(gemma, system=system_prompt)\n",
    "message = \"What is the first etf in the listing?\"\n",
    "display_chat(message, chat.send_message(message))"
   ]
  },
  {
   "cell_type": "code",
   "execution_count": 8,
   "id": "a3749be4-c960-4fd8-bc9b-5e320723eed7",
   "metadata": {},
   "outputs": [
    {
     "name": "stdout",
     "output_type": "stream",
     "text": [
      "TOTAL TIME ELAPSED: 0.77s\n"
     ]
    },
    {
     "data": {
      "text/markdown": [
       "<font size='+1' color='#1E90FF'>🧑‍💻<blockquote>And the second?</blockquote></font><font size='+1' color='#32CD32'>🤖\n",
       "\n",
       "> The second ETF listed is **Yuanta High Dividend (0056)**. \n",
       "> <end_of_turn>\n",
       "\n",
       "</font>"
      ],
      "text/plain": [
       "<IPython.core.display.Markdown object>"
      ]
     },
     "execution_count": 8,
     "metadata": {},
     "output_type": "execute_result"
    }
   ],
   "source": [
    "message = \"And the second?\"\n",
    "display_chat(message, chat.send_message(message))"
   ]
  },
  {
   "cell_type": "code",
   "execution_count": 9,
   "id": "P7BsFH3gvMd7",
   "metadata": {
    "colab": {
     "base_uri": "https://localhost:8080/",
     "height": 176
    },
    "id": "P7BsFH3gvMd7",
    "outputId": "cc5498ca-1e48-458e-b08f-240da8386964"
   },
   "outputs": [
    {
     "name": "stdout",
     "output_type": "stream",
     "text": [
      "TOTAL TIME ELAPSED: 0.94s\n"
     ]
    },
    {
     "data": {
      "text/markdown": [
       "<font size='+1' color='#1E90FF'>🧑‍💻<blockquote>How about the third?</blockquote></font><font size='+1' color='#32CD32'>🤖\n",
       "\n",
       "> The third ETF listed is **Yuanta Taiwan 50 Bull 2X (00631L)**. \n",
       "> <end_of_turn>\n",
       "\n",
       "</font>"
      ],
      "text/plain": [
       "<IPython.core.display.Markdown object>"
      ]
     },
     "execution_count": 9,
     "metadata": {},
     "output_type": "execute_result"
    }
   ],
   "source": [
    "message = \"How about the third?\"\n",
    "display_chat(message, chat.send_message(message))"
   ]
  },
  {
   "cell_type": "code",
   "execution_count": 10,
   "id": "_aIiwt6QsTOE",
   "metadata": {
    "colab": {
     "base_uri": "https://localhost:8080/",
     "height": 176
    },
    "id": "_aIiwt6QsTOE",
    "outputId": "942d0768-0c16-4d99-f4ac-dab2a4e39cd7"
   },
   "outputs": [
    {
     "name": "stdout",
     "output_type": "stream",
     "text": [
      "TOTAL TIME ELAPSED: 1.12s\n"
     ]
    },
    {
     "data": {
      "text/markdown": [
       "<font size='+1' color='#1E90FF'>🧑‍💻<blockquote>價格最便宜的ETF是？</blockquote></font><font size='+1' color='#32CD32'>🤖\n",
       "\n",
       "> The cheapest ETF on the list is **Yuanta Taiwan 50 (0050)** with a current price of NT\\$112.95. \n",
       "> <end_of_turn>\n",
       "\n",
       "</font>"
      ],
      "text/plain": [
       "<IPython.core.display.Markdown object>"
      ]
     },
     "execution_count": 10,
     "metadata": {},
     "output_type": "execute_result"
    }
   ],
   "source": [
    "message = \"價格最便宜的ETF是？\"\n",
    "display_chat(message, chat.send_message(message))"
   ]
  },
  {
   "cell_type": "code",
   "execution_count": 11,
   "id": "vsOfaAsyxV2S",
   "metadata": {
    "colab": {
     "base_uri": "https://localhost:8080/",
     "height": 176
    },
    "id": "vsOfaAsyxV2S",
    "outputId": "1092125d-a3e2-4406-dd57-48aeca21f15e"
   },
   "outputs": [
    {
     "name": "stdout",
     "output_type": "stream",
     "text": [
      "TOTAL TIME ELAPSED: 1.25s\n"
     ]
    },
    {
     "data": {
      "text/markdown": [
       "<font size='+1' color='#1E90FF'>🧑‍💻<blockquote>股價最貴的ETF是？</blockquote></font><font size='+1' color='#32CD32'>🤖\n",
       "\n",
       "> The most expensive ETF on the list is **Yuanta Taiwan 50 Bull 2X (00631L)** with a current price of NT\\$85.10. \n",
       "> <end_of_turn>\n",
       "\n",
       "</font>"
      ],
      "text/plain": [
       "<IPython.core.display.Markdown object>"
      ]
     },
     "execution_count": 11,
     "metadata": {},
     "output_type": "execute_result"
    }
   ],
   "source": [
    "message = \"股價最貴的ETF是？\"\n",
    "display_chat(message, chat.send_message(message))"
   ]
  },
  {
   "cell_type": "code",
   "execution_count": 12,
   "id": "y97T9ig6xF0H",
   "metadata": {
    "colab": {
     "base_uri": "https://localhost:8080/",
     "height": 243
    },
    "id": "y97T9ig6xF0H",
    "outputId": "9912957d-c5a8-4004-89c0-d98fd73dc0c9"
   },
   "outputs": [
    {
     "name": "stdout",
     "output_type": "stream",
     "text": [
      "TOTAL TIME ELAPSED: 5.61s\n"
     ]
    },
    {
     "data": {
      "text/markdown": [
       "<font size='+1' color='#1E90FF'>🧑‍💻<blockquote>Which one of the three would you recommend for a long-term buy and hold strategy?</blockquote></font><font size='+1' color='#32CD32'>🤖\n",
       "\n",
       "> For a long-term buy and hold strategy, I'd recommend **Yuanta Taiwan 50 (0050)**. Here's why:\n",
       "> \n",
       "> * **Full Replication:**  It directly tracks the Taiwan 50 Index, offering a straightforward and reliable way to gain exposure to the Taiwanese market.\n",
       "> * **Low Fees:**  The ETF's low expense ratio means you'll keep more of your returns.\n",
       "> * **Diversification:**  The Taiwan 50 Index is a broad representation of the Taiwanese market, providing diversification benefits.\n",
       "> \n",
       "> **Why the other two are less suitable:**\n",
       "> \n",
       "> * **Yuanta High Dividend (0056):** While it offers dividend income, it's not as focused on long-term growth as the Taiwan 50 Index.\n",
       "> * **Yuanta Taiwan 50 Bull 2X (00631L):** This ETF aims for amplified returns, but it comes with higher risk and volatility. It's not ideal for a long-term, passive investment strategy.\n",
       "> \n",
       "> \n",
       "> **Important Note:**  This is general advice.  It's crucial to consider your individual investment goals, risk tolerance, and time horizon before making any investment decisions. \n",
       "> <end_of_turn>\n",
       "\n",
       "</font>"
      ],
      "text/plain": [
       "<IPython.core.display.Markdown object>"
      ]
     },
     "execution_count": 12,
     "metadata": {},
     "output_type": "execute_result"
    }
   ],
   "source": [
    "message = \"Which one of the three would you recommend for a long-term buy and hold strategy?\"\n",
    "display_chat(message, chat.send_message(message))"
   ]
  },
  {
   "cell_type": "code",
   "execution_count": 13,
   "id": "O4B_SPR9xIrw",
   "metadata": {
    "colab": {
     "base_uri": "https://localhost:8080/",
     "height": 221
    },
    "id": "O4B_SPR9xIrw",
    "outputId": "dea5c480-4c3d-4703-d53c-3786df6c16a2"
   },
   "outputs": [
    {
     "name": "stdout",
     "output_type": "stream",
     "text": [
      "TOTAL TIME ELAPSED: 7.11s\n"
     ]
    },
    {
     "data": {
      "text/markdown": [
       "<font size='+1' color='#1E90FF'>🧑‍💻<blockquote>Why so?</blockquote></font><font size='+1' color='#32CD32'>🤖\n",
       "\n",
       "> You're right to ask for clarification!  Here's a breakdown of why I recommend Yuanta Taiwan 50 (0050) for a long-term buy and hold strategy:\n",
       "> \n",
       "> * **Focus on Growth:**  The Taiwan 50 Index is designed to track the performance of the largest and most liquid companies in Taiwan. This means it's likely to be more focused on long-term growth than dividend income.\n",
       "> * **Stability:**  The Taiwan market has historically been relatively stable, making it a good choice for long-term investors seeking consistent returns.\n",
       "> * **Simplicity:**  A direct tracking of the Taiwan 50 Index is a straightforward approach. It's less complex than trying to pick individual stocks or other investment strategies.\n",
       "> \n",
       "> **Why the other two are less suitable:**\n",
       "> \n",
       "> * **Yuanta High Dividend (0056):** While it offers dividend income, it's not as focused on long-term growth as the Taiwan 50 Index.  It might be better suited for investors seeking income, but not necessarily for long-term growth.\n",
       "> * **Yuanta Taiwan 50 Bull 2X (00631L):** This ETF aims for amplified returns, but it comes with higher risk and volatility. It's not ideal for a long-term, passive investment strategy.\n",
       "> \n",
       "> **Remember:**  This is general advice. It's crucial to consider your individual investment goals, risk tolerance, and time horizon before making any investment decisions. \n",
       "> \n",
       "> \n",
       "> Let me know if you have any other questions! \n",
       "> <end_of_turn>\n",
       "\n",
       "</font>"
      ],
      "text/plain": [
       "<IPython.core.display.Markdown object>"
      ]
     },
     "execution_count": 13,
     "metadata": {},
     "output_type": "execute_result"
    }
   ],
   "source": [
    "message = \"Why so?\"\n",
    "display_chat(message, chat.send_message(message))"
   ]
  },
  {
   "cell_type": "markdown",
   "id": "97365531-71e8-4a36-9b43-ac33ec3a9ccb",
   "metadata": {},
   "source": [
    "## Control Vectors"
   ]
  },
  {
   "cell_type": "markdown",
   "id": "84825ecd-4c13-487a-90dc-84677b4d6d90",
   "metadata": {},
   "source": [
    "### Step 1: Designing Stimulus and Task"
   ]
  },
  {
   "cell_type": "code",
   "execution_count": 14,
   "id": "2b95710a-8e39-479a-8ddd-fbb5b7bbdff7",
   "metadata": {},
   "outputs": [],
   "source": [
    "# Formatting for control vector training dataset\n",
    "__START_TURN_USER__ = \"<start_of_turn>user\\n\"\n",
    "__START_TURN_MODEL__ = \"<start_of_turn>model\\n\"\n",
    "__END_TURN__ = \"<end_of_turn>\\n\"\n",
    "\n",
    "\n",
    "def positive_template(suffix):\n",
    "    return (__START_TURN_USER__ + \"Pretend you're a luxury assistant with etiquette. You use very formal language while making statements about the world.\"+ __END_TURN__ +\n",
    "           __START_TURN_MODEL__ + suffix)\n",
    "\n",
    "def negative_template(suffix):\n",
    "    return (__START_TURN_USER__ + \"Pretend you are a foul-mouthed teenager with bad manners. You use the informal language of the youth while making statements about the world.\" + __END_TURN__ +\n",
    "           __START_TURN_MODEL__ + suffix)"
   ]
  },
  {
   "cell_type": "code",
   "execution_count": 15,
   "id": "ce5dd286-e374-48da-aafe-e0ae104e9c0d",
   "metadata": {},
   "outputs": [
    {
     "name": "stderr",
     "output_type": "stream",
     "text": [
      "100%|█████████████████████████████████████████████████████████████████████████████████████████████████████████████████████████████████████████████████████████████████████████████████████████████████████████| 306/306 [00:03<00:00, 88.21it/s]"
     ]
    },
    {
     "name": "stdout",
     "output_type": "stream",
     "text": [
      "\n",
      "Max tokenized sequence length in dataset: 72\n",
      "Size of the dataset: 1427\n",
      "Positive: \n",
      " <start_of_turn>user\n",
      "Pretend you're a luxury assistant with etiquette. You use very formal language while making statements about the world.<end_of_turn>\n",
      "<start_of_turn>model\n",
      "The Earth's atmosphere protects us from harmful radiation from the\n",
      "Negative: \n",
      " <start_of_turn>user\n",
      "Pretend you are a foul-mouthed teenager with bad manners. You use the informal language of the youth while making statements about the world.<end_of_turn>\n",
      "<start_of_turn>model\n",
      "The Earth's atmosphere protects us from harmful radiation from the\n",
      "Positive: \n",
      " <start_of_turn>user\n",
      "Pretend you're a luxury assistant with etiquette. You use very formal language while making statements about the world.<end_of_turn>\n",
      "<start_of_turn>model\n",
      "The theory of evolution, proposed\n",
      "Negative: \n",
      " <start_of_turn>user\n",
      "Pretend you are a foul-mouthed teenager with bad manners. You use the informal language of the youth while making statements about the world.<end_of_turn>\n",
      "<start_of_turn>model\n",
      "The theory of evolution, proposed\n"
     ]
    },
    {
     "name": "stderr",
     "output_type": "stream",
     "text": [
      "\n"
     ]
    }
   ],
   "source": [
    "MIN_SUFFIX_WORDS = 5   \n",
    "MAX_SUFFIX_WORDS = 999 \n",
    "# Generate the dataset\n",
    "# Note: the original code only uses the 5 first tokens from the suffixes\n",
    "datafile = keras.utils.get_file('true_facts.json', 'https://raw.githubusercontent.com/vgel/repeng/main/notebooks/data/true_facts.json')\n",
    "\n",
    "with open(datafile) as f:\n",
    "    suffixes = json.load(f)\n",
    "\n",
    "dataset = []\n",
    "max_seqlen =  []\n",
    "for suffix in tqdm(suffixes):\n",
    "    split_suffix = suffix.split()\n",
    "    for i in range(max(1, MIN_SUFFIX_WORDS), min(MAX_SUFFIX_WORDS+1, len(split_suffix))):\n",
    "        truncated_suffix = \" \".join(split_suffix[:i])\n",
    "        dataset.append((positive_template(truncated_suffix),  # positive\n",
    "                        negative_template(truncated_suffix))) # negative\n",
    "\n",
    "\n",
    "    # compute max sequence length\n",
    "    tokenized_positive = gemma_preprocessor(positive_template(suffix))\n",
    "    tokenized_negative = gemma_preprocessor(negative_template(suffix))\n",
    "    max_seqlen.append(max(np.argmin(keras.ops.convert_to_numpy(tokenized_positive[0]['padding_mask'])),\n",
    "                          np.argmin(keras.ops.convert_to_numpy(tokenized_negative[0]['padding_mask']))))\n",
    "\n",
    "max_dataset_seqlen = int(max(max_seqlen))\n",
    "print(\"\")\n",
    "print(\"Max tokenized sequence length in dataset:\", max_dataset_seqlen)\n",
    "print(\"Size of the dataset:\", len(dataset))\n",
    "# print some example entries\n",
    "for i in range(5, 7):\n",
    "    print(\"Positive: \\n\", dataset[i][0]) \n",
    "    print(\"Negative: \\n\", dataset[i][1]) "
   ]
  },
  {
   "cell_type": "markdown",
   "id": "W5CeNOI4bHDq",
   "metadata": {
    "id": "W5CeNOI4bHDq"
   },
   "source": [
    "### 2. Collecting Neural Activity"
   ]
  },
  {
   "cell_type": "markdown",
   "id": "787553d5-c66e-42d8-8629-aa41659c6a23",
   "metadata": {},
   "source": [
    "#### Rewire the model"
   ]
  },
  {
   "cell_type": "code",
   "execution_count": 16,
   "id": "q_lsD0XyMh2R",
   "metadata": {
    "id": "q_lsD0XyMh2R"
   },
   "outputs": [],
   "source": [
    "# Get the hidden activation of all decoder blocks\n",
    "hidden_activations = []\n",
    "for layer in gemma_backbone.layers:\n",
    "  if layer.__class__.__name__.endswith('DecoderBlock'):\n",
    "    hidden_activations.append(layer.output)\n",
    "\n",
    "hidden_activations = keras.ops.stack(hidden_activations, axis=0)\n",
    "\n",
    "# make a new backbone that also outputs the hidden activations\n",
    "new_backbone = keras.Model(gemma_backbone.input, [gemma_backbone.output, hidden_activations])"
   ]
  },
  {
   "cell_type": "markdown",
   "id": "53dc5686-b71f-4d80-a655-a82182a33042",
   "metadata": {},
   "source": [
    "#### Collect hidden states during inference"
   ]
  },
  {
   "cell_type": "code",
   "execution_count": 17,
   "id": "8ac374df-b5da-486b-b7ef-a9981483638b",
   "metadata": {},
   "outputs": [
    {
     "name": "stderr",
     "output_type": "stream",
     "text": [
      "100%|███████████████████████████████████████████████████████████████████████████████████████████████████████████████████████████████████████████████████████████████████████████████████████████████████████████| 89/89 [00:33<00:00,  2.64it/s]\n"
     ]
    }
   ],
   "source": [
    "def extract_activation_vectors(model_output, padding_mask, seq_last=True):\n",
    "  # expected shape for model_output: (num_layers+1, batch, seq_len, hidden_dim)\n",
    "  # expected shape for padding_mask: (batch, seq_len)\n",
    "  # The dimension \"batch\" contains alternating positive and negative activations\n",
    "  # for the positive and the negative prompt completion respectively.\n",
    "  # Output shape: list of vectors of shape (batch, hidden_dim) with the\n",
    "  # activations for the positive and the negative prompt, one vector per layer.\n",
    "\n",
    "  hidden_activations = model_output[1] # original output in [0], hidden activations in [1]\n",
    "  hidden_activations = keras.ops.unstack(hidden_activations, axis=0)\n",
    "\n",
    "  if seq_last:\n",
    "    # option 1: keep the last token in the actual sequence (token just after the padding mask)\n",
    "    last_token_idx = np.argmin(keras.ops.convert_to_numpy(padding_mask), axis=-1)\n",
    "    hidden_activations = [keras.ops.convert_to_numpy(hidden)[np.indices(last_token_idx.shape)[0], last_token_idx, :]\n",
    "                          for hidden in hidden_activations]\n",
    "  else:\n",
    "    # option 2: keep the last token in the sequence\n",
    "    # Note: this is what the original code does\n",
    "    hidden_activations = [hidden[:, -1, :] for hidden in hidden_activations]\n",
    "\n",
    "  return hidden_activations\n",
    "\n",
    "# loop on data and extract hidden states\n",
    "hidden_activations = []\n",
    "#with torch.no_grad():\n",
    "np.random.seed(0)\n",
    "shuffler = np.random.permutation(len(dataset))\n",
    "\n",
    "# this is dropping some elements while batching\n",
    "BATCH_SIZE=16 # must be multiple of 2\n",
    "for i in tqdm(range(len(dataset)//BATCH_SIZE)):\n",
    "#for i in tqdm(range(128//BATCH_SIZE)):\n",
    "    pairs = []\n",
    "    for b in range(BATCH_SIZE):\n",
    "        pairs.append(dataset[shuffler[i*BATCH_SIZE+b]][0]) # positive prompt\n",
    "        pairs.append(dataset[shuffler[i*BATCH_SIZE+b]][1]) # negative prompt\n",
    "    pairs = np.array(pairs)\n",
    "    # Preprocessor output is a tuple: ({\"token_ids\":..., \"padding_mask\":...}, other_stuff)\n",
    "    # That's why we take the first element only.\n",
    "    processed_prompt = gemma_preprocessor(pairs, sequence_length=max_dataset_seqlen+1)[0]\n",
    "\n",
    "    output = new_backbone(processed_prompt)\n",
    "    # shape: list of activation vectors (batch, hidden_dim), one per layer\n",
    "    activations = extract_activation_vectors(output, processed_prompt['padding_mask'], False)\n",
    "    hidden_activations.append(activations)\n",
    "\n",
    "# hidden_activations shape: (nb_batches, nb_layers, batch, hidden_dim)\n",
    "hidden_activations = np.array(hidden_activations)\n",
    "hidden_activations = np.split(hidden_activations, BATCH_SIZE, axis=2) # split into pos/neg pairs on batch dimension\n",
    "hidden_activations = np.concatenate(hidden_activations, axis=0)"
   ]
  },
  {
   "cell_type": "markdown",
   "id": "1a9836db-61b2-42d3-9e29-db26a5826c3d",
   "metadata": {},
   "source": [
    "### 3. Constructing a Linear Model"
   ]
  },
  {
   "cell_type": "code",
   "execution_count": 19,
   "id": "7cb8f7c2-8949-4986-8ec8-dd14765aebbf",
   "metadata": {},
   "outputs": [
    {
     "name": "stdout",
     "output_type": "stream",
     "text": [
      "Layer 0\n",
      "Activation variance explained the direction given by the first PCA component,  on the dataset:  41%\n",
      "Pos and neg prompts consistentlly produce different activations along this direction:           35%\n",
      "Layer 1\n",
      "Activation variance explained the direction given by the first PCA component,  on the dataset:  29%\n",
      "Pos and neg prompts consistentlly produce different activations along this direction:           96%\n",
      "Layer 2\n",
      "Activation variance explained the direction given by the first PCA component,  on the dataset:  36%\n",
      "Pos and neg prompts consistentlly produce different activations along this direction:           79%\n",
      "Layer 3\n",
      "Activation variance explained the direction given by the first PCA component,  on the dataset:  19%\n",
      "Pos and neg prompts consistentlly produce different activations along this direction:            9%\n",
      "Layer 4\n",
      "Activation variance explained the direction given by the first PCA component,  on the dataset:  18%\n",
      "Pos and neg prompts consistentlly produce different activations along this direction:            6%\n",
      "Layer 5\n",
      "Activation variance explained the direction given by the first PCA component,  on the dataset:  14%\n",
      "Pos and neg prompts consistentlly produce different activations along this direction:          100%\n",
      "Layer 6\n",
      "Activation variance explained the direction given by the first PCA component,  on the dataset:  13%\n",
      "Pos and neg prompts consistentlly produce different activations along this direction:           40%\n",
      "Layer 7\n",
      "Activation variance explained the direction given by the first PCA component,  on the dataset:  15%\n",
      "Pos and neg prompts consistentlly produce different activations along this direction:           98%\n",
      "Layer 8\n",
      "Activation variance explained the direction given by the first PCA component,  on the dataset:  14%\n",
      "Pos and neg prompts consistentlly produce different activations along this direction:           97%\n",
      "Layer 9\n",
      "Activation variance explained the direction given by the first PCA component,  on the dataset:  14%\n",
      "Pos and neg prompts consistentlly produce different activations along this direction:           79%\n",
      "Layer 10\n",
      "Activation variance explained the direction given by the first PCA component,  on the dataset:  19%\n",
      "Pos and neg prompts consistentlly produce different activations along this direction:           73%\n",
      "Layer 11\n",
      "Activation variance explained the direction given by the first PCA component,  on the dataset:  18%\n",
      "Pos and neg prompts consistentlly produce different activations along this direction:           77%\n",
      "Layer 12\n",
      "Activation variance explained the direction given by the first PCA component,  on the dataset:  23%\n",
      "Pos and neg prompts consistentlly produce different activations along this direction:           65%\n",
      "Layer 13\n",
      "Activation variance explained the direction given by the first PCA component,  on the dataset:  17%\n",
      "Pos and neg prompts consistentlly produce different activations along this direction:           47%\n",
      "Layer 14\n",
      "Activation variance explained the direction given by the first PCA component,  on the dataset:  17%\n",
      "Pos and neg prompts consistentlly produce different activations along this direction:           52%\n",
      "Layer 15\n",
      "Activation variance explained the direction given by the first PCA component,  on the dataset:  15%\n",
      "Pos and neg prompts consistentlly produce different activations along this direction:           66%\n",
      "Layer 16\n",
      "Activation variance explained the direction given by the first PCA component,  on the dataset:  16%\n",
      "Pos and neg prompts consistentlly produce different activations along this direction:           84%\n",
      "Layer 17\n",
      "Activation variance explained the direction given by the first PCA component,  on the dataset:  15%\n",
      "Pos and neg prompts consistentlly produce different activations along this direction:           83%\n",
      "Layer 18\n",
      "Activation variance explained the direction given by the first PCA component,  on the dataset:  15%\n",
      "Pos and neg prompts consistentlly produce different activations along this direction:           81%\n",
      "Layer 19\n",
      "Activation variance explained the direction given by the first PCA component,  on the dataset:  14%\n",
      "Pos and neg prompts consistentlly produce different activations along this direction:           82%\n",
      "Layer 20\n",
      "Activation variance explained the direction given by the first PCA component,  on the dataset:  15%\n",
      "Pos and neg prompts consistentlly produce different activations along this direction:           86%\n",
      "Layer 21\n",
      "Activation variance explained the direction given by the first PCA component,  on the dataset:  15%\n",
      "Pos and neg prompts consistentlly produce different activations along this direction:           89%\n",
      "Layer 22\n",
      "Activation variance explained the direction given by the first PCA component,  on the dataset:  14%\n",
      "Pos and neg prompts consistentlly produce different activations along this direction:           91%\n",
      "Layer 23\n",
      "Activation variance explained the direction given by the first PCA component,  on the dataset:  14%\n",
      "Pos and neg prompts consistentlly produce different activations along this direction:           93%\n",
      "Layer 24\n",
      "Activation variance explained the direction given by the first PCA component,  on the dataset:  14%\n",
      "Pos and neg prompts consistentlly produce different activations along this direction:           97%\n",
      "Layer 25\n",
      "Activation variance explained the direction given by the first PCA component,  on the dataset:  16%\n",
      "Pos and neg prompts consistentlly produce different activations along this direction:           99%\n"
     ]
    }
   ],
   "source": [
    "# Use PCA to extract the main axis along which positive and negative activations differ\n",
    "\n",
    "# hidden_activations shape: (dataset_len, nb_layers, 2, hidden_dim)\n",
    "pca_directions = []\n",
    "nb_layers = hidden_activations.shape[1]\n",
    "dataset_len = hidden_activations.shape[0]\n",
    "for layer_idx in range(nb_layers):\n",
    "  print(\"Layer\", layer_idx)\n",
    "  # hidden_activations shape: (dataset_len, 2, hidden_dim)\n",
    "  layer_hidden_act = hidden_activations[:,layer_idx,:,:]\n",
    "  # relative_hidden_act shape (dataset_len, hidden_dim)\n",
    "  layer_relative_hidden_act = layer_hidden_act[:,0,:]-layer_hidden_act[:,1,:]\n",
    "  centered_relative_hidden_act = layer_relative_hidden_act - layer_relative_hidden_act.mean(axis=0)\n",
    "\n",
    "  # Use PCA to extract the main axis along which positive and negative activations differ\n",
    "  pca = sklearn_PCA(n_components=1, whiten=False).fit(centered_relative_hidden_act)\n",
    "  # this is the main direction along which activations change between the positive and negative prompts\n",
    "  pca_direction = pca.components_[0]\n",
    "  # this asseses how clearly activations change between the positive and negative prompts\n",
    "  pca_quality = pca.explained_variance_ratio_[0]\n",
    "  print(f\"Activation variance explained the direction given by the first PCA component,  on the dataset: {int(pca_quality*100):>3}%\")\n",
    "  pca_direction *= pca_quality\n",
    "\n",
    "  # compute sign: which way is \"positive\" and which is \"negative\"\n",
    "  projected_activations_pos = np.dot(layer_hidden_act[:,0,:], pca_direction)\n",
    "  projected_activations_neg = np.dot(layer_hidden_act[:,1,:], pca_direction)\n",
    "\n",
    "  which_way = np.sign(projected_activations_pos-projected_activations_neg)\n",
    "  # % of data pairs where the positive prompt are ordered in the same way on the PCA axis\n",
    "  direction_quality = np.absolute(np.sum(which_way>0) - np.sum(which_way<0))\n",
    "  direction_quality = direction_quality/dataset_len\n",
    "  print(f\"Pos and neg prompts consistentlly produce different activations along this direction:          {int(direction_quality*100):>3}%\")\n",
    "  #print(f\"Combined quality score:                                                                        {int(pca_quality*direction_quality*100):>3}%\")\n",
    "  # reverse the direction of the PCA component found to make it\n",
    "  # point consistently in the direction of positive activations\n",
    "  if int(np.sign(np.sum(which_way))) < 0:\n",
    "    pca_direction = -pca_direction\n",
    "\n",
    "  # Note: possible variant: multiply the pca_direction vector by its \"quality\"\n",
    "  # this should automatically downgrade the importance of vectors that do not\n",
    "  # consistently differentiate between positive and negative prompts.\n",
    "  #pca_direction *= pca_quality * direction_quality\n",
    "  pca_direction *= direction_quality\n",
    "  #pca_direction *= pca_quality\n",
    "  # Note: the original code instead restricts the layers and the prompts used\n",
    "\n",
    "  # Note: it would also be interesting to see the quality across the dataset\n",
    "  # some of the prompts in this dataset are probably much better than others.\n",
    "\n",
    "  pca_directions.append(pca_direction)\n",
    "\n",
    "pca_directions = np.array(pca_directions)\n",
    "np.save('pca_directions.npy', pca_directions)"
   ]
  },
  {
   "cell_type": "markdown",
   "id": "af63653f-2159-4845-9ae4-557727bda2e9",
   "metadata": {},
   "source": [
    "### Build a controlled model"
   ]
  },
  {
   "cell_type": "code",
   "execution_count": 15,
   "id": "c507e9d1-b570-45bc-acd6-1404db52a122",
   "metadata": {},
   "outputs": [],
   "source": [
    "def reset_backbone(backbone):\n",
    "  if hasattr(backbone, \"original_transformer_layers\"):\n",
    "    backbone.transformer_layers = backbone.original_transformer_layers\n",
    "    del backbone.original_transformer_layers"
   ]
  },
  {
   "cell_type": "code",
   "execution_count": 16,
   "id": "5dc23aff-9af2-48f8-a33d-038e5919c051",
   "metadata": {},
   "outputs": [],
   "source": [
    "# A wrapper for Transformer Decoder layaers that adds control vectors\n",
    "class ControlVectorDecoderLayer(keras.layers.Layer):\n",
    "    def __init__(self, decoder_layer, control_vector):\n",
    "        super().__init__()\n",
    "        self.decoder_layer = decoder_layer\n",
    "        self.control_vector = keras.ops.reshape(control_vector, newshape=(1,1,-1))\n",
    "\n",
    "    def call(self, x, padding_mask=None, cache=None, cache_update_index=0):\n",
    "        # Call original layer, extract output and cache if any\n",
    "        output = self.decoder_layer(x, padding_mask=padding_mask, cache=cache, cache_update_index=cache_update_index)\n",
    "        x = output[0] if isinstance(output, tuple) else output\n",
    "\n",
    "        # Add control vector with normalization\n",
    "        norm_pre = keras.ops.norm(x, ord=2, axis=-1, keepdims=True)\n",
    "        y = x + self.control_vector\n",
    "        norm_post = keras.ops.norm(y, ord=2, axis=-1, keepdims=True)\n",
    "        y = y / norm_post * norm_pre\n",
    "\n",
    "        # If our output contained a cache, return it unaltered.\n",
    "        return (y,) + output[1:] if isinstance(output, tuple) else y\n",
    "\n",
    "    def compute_output_spec(self, x, padding_mask=None, cache=None, cache_update_index=0):\n",
    "      if cache is None:\n",
    "          return keras.KerasTensor(shape=x.shape, dtype=x.dtype)\n",
    "      else:\n",
    "          return (keras.KerasTensor(shape=x.shape, dtype=x.dtype),\n",
    "                  keras.KerasTensor(cache.shape, dtype=cache.dtype))"
   ]
  },
  {
   "cell_type": "code",
   "execution_count": 17,
   "id": "e92bc4ee-5e2e-4751-b4a7-fea9ab2f0905",
   "metadata": {},
   "outputs": [],
   "source": [
    "def apply_control_vectors(backbone, control_vectors, strength):\n",
    "  reset_backbone(backbone)\n",
    "\n",
    "  wrapped_layers = []\n",
    "  for layer, control_vector in zip(backbone.transformer_layers, control_vectors):\n",
    "      # Wrap transformer layers, add control vector with a multiplier\n",
    "      layer = ControlVectorDecoderLayer(layer, strength*control_vector)\n",
    "      wrapped_layers.append(layer)\n",
    "\n",
    "  backbone.original_transformer_layers = backbone.transformer_layers\n",
    "  backbone.transformer_layers = wrapped_layers # This is necessary for GemmmaCausalLM to work\n",
    "  return backbone"
   ]
  },
  {
   "cell_type": "code",
   "execution_count": 18,
   "id": "8325de44-22cb-4fd0-b9da-d28cd5e8160b",
   "metadata": {},
   "outputs": [],
   "source": [
    "pca_directions = np.load('pca_directions.npy')"
   ]
  },
  {
   "cell_type": "markdown",
   "id": "4396e6e9-30ef-4326-8455-bb82373dee76",
   "metadata": {},
   "source": [
    "### Controlled inference"
   ]
  },
  {
   "cell_type": "code",
   "execution_count": 19,
   "id": "cdb9c3ab-7164-496b-b26d-688a4447cfe7",
   "metadata": {},
   "outputs": [],
   "source": [
    "FORMAL_VOICE_STRENGTH = -1.9\n",
    "gemma_backbone = apply_control_vectors(gemma_backbone, pca_directions, FORMAL_VOICE_STRENGTH)\n",
    "gemma = keras_hub.models.GemmaCausalLM(backbone=gemma_backbone, preprocessor=gemma_preprocessor)"
   ]
  },
  {
   "cell_type": "code",
   "execution_count": 20,
   "id": "d2d4c7df-bff6-431b-a579-dbd12733ebdb",
   "metadata": {},
   "outputs": [
    {
     "name": "stdout",
     "output_type": "stream",
     "text": [
      "TOTAL TIME ELAPSED: 6.59s\n"
     ]
    },
    {
     "data": {
      "text/markdown": [
       "<font size='+1' color='#1E90FF'>🧑‍💻<blockquote>What is the first etf in the listing?</blockquote></font><font size='+1' color='#32CD32'>🤖\n",
       "\n",
       "> The first ETF listed is **Yuanta Taiwan 50 (0050)**. \n",
       "> <end_of_turn>\n",
       "\n",
       "</font>"
      ],
      "text/plain": [
       "<IPython.core.display.Markdown object>"
      ]
     },
     "execution_count": 20,
     "metadata": {},
     "output_type": "execute_result"
    }
   ],
   "source": [
    "chat = ChatState(gemma, system=system_prompt)\n",
    "message = \"What is the first etf in the listing?\"\n",
    "display_chat(message, chat.send_message(message))"
   ]
  },
  {
   "cell_type": "code",
   "execution_count": 21,
   "id": "c4fd2fcf-7de1-4104-934f-d8d7456621c6",
   "metadata": {},
   "outputs": [
    {
     "name": "stdout",
     "output_type": "stream",
     "text": [
      "TOTAL TIME ELAPSED: 0.77s\n"
     ]
    },
    {
     "data": {
      "text/markdown": [
       "<font size='+1' color='#1E90FF'>🧑‍💻<blockquote>And the second?</blockquote></font><font size='+1' color='#32CD32'>🤖\n",
       "\n",
       "> The second ETF listed is **Yuanta High Dividend (0056)**. \n",
       "> <end_of_turn>\n",
       "\n",
       "</font>"
      ],
      "text/plain": [
       "<IPython.core.display.Markdown object>"
      ]
     },
     "execution_count": 21,
     "metadata": {},
     "output_type": "execute_result"
    }
   ],
   "source": [
    "message = \"And the second?\"\n",
    "display_chat(message, chat.send_message(message))"
   ]
  },
  {
   "cell_type": "code",
   "execution_count": 22,
   "id": "b193ff30-bd7a-4d28-a3cd-f29a295f52e6",
   "metadata": {},
   "outputs": [
    {
     "name": "stdout",
     "output_type": "stream",
     "text": [
      "TOTAL TIME ELAPSED: 0.94s\n"
     ]
    },
    {
     "data": {
      "text/markdown": [
       "<font size='+1' color='#1E90FF'>🧑‍💻<blockquote>How about the third?</blockquote></font><font size='+1' color='#32CD32'>🤖\n",
       "\n",
       "> The third ETF listed is **Yuanta Taiwan 50 Bull 2X (00631L)**. \n",
       "> <end_of_turn>\n",
       "\n",
       "</font>"
      ],
      "text/plain": [
       "<IPython.core.display.Markdown object>"
      ]
     },
     "execution_count": 22,
     "metadata": {},
     "output_type": "execute_result"
    }
   ],
   "source": [
    "message = \"How about the third?\"\n",
    "display_chat(message, chat.send_message(message))"
   ]
  },
  {
   "cell_type": "code",
   "execution_count": 23,
   "id": "f672309c-2482-40d7-b6dd-2ba1986be9a5",
   "metadata": {},
   "outputs": [
    {
     "name": "stdout",
     "output_type": "stream",
     "text": [
      "TOTAL TIME ELAPSED: 1.12s\n"
     ]
    },
    {
     "data": {
      "text/markdown": [
       "<font size='+1' color='#1E90FF'>🧑‍💻<blockquote>價格最便宜的ETF是？</blockquote></font><font size='+1' color='#32CD32'>🤖\n",
       "\n",
       "> The cheapest ETF on the list is **Yuanta Taiwan 50 (0050)** with a current price of NT\\$112.95. \n",
       "> <end_of_turn>\n",
       "\n",
       "</font>"
      ],
      "text/plain": [
       "<IPython.core.display.Markdown object>"
      ]
     },
     "execution_count": 23,
     "metadata": {},
     "output_type": "execute_result"
    }
   ],
   "source": [
    "message = \"價格最便宜的ETF是？\"\n",
    "display_chat(message, chat.send_message(message))"
   ]
  },
  {
   "cell_type": "code",
   "execution_count": 24,
   "id": "0f541f4a-7581-486d-afd7-dc88936daa1d",
   "metadata": {},
   "outputs": [
    {
     "name": "stdout",
     "output_type": "stream",
     "text": [
      "TOTAL TIME ELAPSED: 1.25s\n"
     ]
    },
    {
     "data": {
      "text/markdown": [
       "<font size='+1' color='#1E90FF'>🧑‍💻<blockquote>股價最貴的ETF是？</blockquote></font><font size='+1' color='#32CD32'>🤖\n",
       "\n",
       "> The most expensive ETF on the list is **Yuanta Taiwan 50 Bull 2X (00631L)** with a current price of NT\\$85.10. \n",
       "> <end_of_turn>\n",
       "\n",
       "</font>"
      ],
      "text/plain": [
       "<IPython.core.display.Markdown object>"
      ]
     },
     "execution_count": 24,
     "metadata": {},
     "output_type": "execute_result"
    }
   ],
   "source": [
    "message = \"股價最貴的ETF是？\"\n",
    "display_chat(message, chat.send_message(message))"
   ]
  },
  {
   "cell_type": "code",
   "execution_count": 25,
   "id": "bb11ddea-0060-483a-a9d1-9b47e3432a51",
   "metadata": {},
   "outputs": [
    {
     "name": "stdout",
     "output_type": "stream",
     "text": [
      "TOTAL TIME ELAPSED: 6.54s\n"
     ]
    },
    {
     "data": {
      "text/markdown": [
       "<font size='+1' color='#1E90FF'>🧑‍💻<blockquote>Which one of the three would you recommend for a long-term buy and hold strategy?</blockquote></font><font size='+1' color='#32CD32'>🤖\n",
       "\n",
       "> For a long-term buy and hold strategy, I'd recommend **Yuanta Taiwan 50 (0050)**. Here's why:\n",
       "> \n",
       "> * **Full Replication:** It directly tracks the Taiwan 50 Index, offering a pure exposure to the largest Taiwanese companies. This provides a solid, diversified base for your portfolio.\n",
       "> * **Low Fees:**  The ETF's low expense ratio means you keep more of your returns.\n",
       "> * **Long-Term Performance:** The Taiwan 50 Index has historically shown strong long-term growth, making it a good choice for a long-term investment.\n",
       "> \n",
       "> **Yuanta High Dividend (0056)** is a good option for income-focused investors, but it might not be as suitable for a long-term buy and hold strategy due to its focus on dividend payouts. \n",
       "> \n",
       "> **Yuanta Taiwan 50 Bull 2X (00631L)** is a leveraged ETF, meaning it aims to double the daily returns of the Taiwan 50 Index. While it can offer higher returns, it also comes with higher risk. It's not recommended for long-term buy and hold strategies due to its volatility.\n",
       "> \n",
       "> \n",
       "> **Important Note:** This is general advice, and your individual investment strategy should be tailored to your specific financial goals, risk tolerance, and time horizon. It's always best to consult with a financial advisor before making any investment decisions. \n",
       "> <end_of_turn>\n",
       "\n",
       "</font>"
      ],
      "text/plain": [
       "<IPython.core.display.Markdown object>"
      ]
     },
     "execution_count": 25,
     "metadata": {},
     "output_type": "execute_result"
    }
   ],
   "source": [
    "message = \"Which one of the three would you recommend for a long-term buy and hold strategy?\"\n",
    "display_chat(message, chat.send_message(message))"
   ]
  },
  {
   "cell_type": "code",
   "execution_count": 26,
   "id": "30e33ae5-1394-4147-a7ff-41d579f51e8d",
   "metadata": {},
   "outputs": [
    {
     "name": "stdout",
     "output_type": "stream",
     "text": [
      "TOTAL TIME ELAPSED: 10.34s\n"
     ]
    },
    {
     "data": {
      "text/markdown": [
       "<font size='+1' color='#1E90FF'>🧑‍💻<blockquote>Why so? Could you elaborate?</blockquote></font><font size='+1' color='#32CD32'>🤖\n",
       "\n",
       "> You're right to ask for elaboration! Here's a deeper dive into why I recommend Yuanta Taiwan 50 (0050) for a long-term buy and hold strategy:\n",
       "> \n",
       "> **1. Diversification and Stability:**\n",
       "> \n",
       "> * **Broad Market Exposure:** The Taiwan 50 Index is a broad representation of the Taiwanese market, including large, established companies. This provides diversification beyond just a single sector or industry.\n",
       "> * **Historical Performance:** The Taiwan 50 Index has a history of steady growth, making it a reliable option for long-term investors. \n",
       "> * **Less Volatility:**  While the market can fluctuate, the Taiwan 50 Index tends to be less volatile than other, more speculative markets. This makes it a more stable option for long-term growth.\n",
       "> \n",
       "> **2. Low Fees:**\n",
       "> \n",
       "> * **Cost-Effective:**  The low expense ratio of Yuanta Taiwan 50 means you keep more of your returns. This is crucial for long-term investing, where compounding returns are key.\n",
       "> \n",
       "> **3. Long-Term Focus:**\n",
       "> \n",
       "> * **Consistent Growth:** The Taiwan 50 Index is known for its consistent long-term growth, making it a good choice for investors seeking steady, reliable returns over time.\n",
       "> * **Market Stability:**  The index tends to be less affected by short-term market fluctuations, making it a good option for investors who prefer a more stable investment.\n",
       "> \n",
       "> **Why not the other ETFs?**\n",
       "> \n",
       "> * **Yuanta High Dividend (0056):** While it offers a good income stream, it's not as suitable for long-term buy and hold. The focus on dividend payouts might mean the fund underperforms in periods of strong market growth.\n",
       "> * **Yuanta Taiwan 50 Bull 2X (00631L):** Leveraged ETFs like this are high-risk, high-reward. They aim to double the daily returns, but this comes with significant volatility. It's not a suitable option for long-term buy and hold strategies due to the potential for significant losses.\n",
       "> \n",
       "> \n",
       "> **Remember:** This is general advice, and your individual investment strategy should be tailored to your specific financial goals, risk tolerance, and time horizon. It's always best to consult with a financial advisor before making any investment decisions. \n",
       "> <end_of_turn>\n",
       "\n",
       "</font>"
      ],
      "text/plain": [
       "<IPython.core.display.Markdown object>"
      ]
     },
     "execution_count": 26,
     "metadata": {},
     "output_type": "execute_result"
    }
   ],
   "source": [
    "message = \"Why so? Could you elaborate?\"\n",
    "display_chat(message, chat.send_message(message))"
   ]
  },
  {
   "cell_type": "markdown",
   "id": "a238d89a-7454-43dd-9d0a-cdc027adc7b7",
   "metadata": {},
   "source": [
    "### Controlled Inference: Positive"
   ]
  },
  {
   "cell_type": "code",
   "execution_count": 27,
   "id": "d03fd351-787e-4b35-9ee0-1f6a294b8b79",
   "metadata": {},
   "outputs": [],
   "source": [
    "FORMAL_VOICE_STRENGTH = 1.9\n",
    "gemma_backbone = apply_control_vectors(gemma_backbone, pca_directions, FORMAL_VOICE_STRENGTH)\n",
    "gemma = keras_hub.models.GemmaCausalLM(backbone=gemma_backbone, preprocessor=gemma_preprocessor)"
   ]
  },
  {
   "cell_type": "code",
   "execution_count": 28,
   "id": "53c87d6b-6734-4e2d-b935-2bbd54473b62",
   "metadata": {},
   "outputs": [
    {
     "name": "stdout",
     "output_type": "stream",
     "text": [
      "TOTAL TIME ELAPSED: 6.28s\n"
     ]
    },
    {
     "data": {
      "text/markdown": [
       "<font size='+1' color='#1E90FF'>🧑‍💻<blockquote>What is the first etf in the listing?</blockquote></font><font size='+1' color='#32CD32'>🤖\n",
       "\n",
       "> The first ETF listed is **Yuanta Taiwan 50 (0050)**. \n",
       "> <end_of_turn>\n",
       "\n",
       "</font>"
      ],
      "text/plain": [
       "<IPython.core.display.Markdown object>"
      ]
     },
     "execution_count": 28,
     "metadata": {},
     "output_type": "execute_result"
    }
   ],
   "source": [
    "chat = ChatState(gemma, system=system_prompt)\n",
    "message = \"What is the first etf in the listing?\"\n",
    "display_chat(message, chat.send_message(message))"
   ]
  },
  {
   "cell_type": "code",
   "execution_count": 29,
   "id": "90974042-96f7-4140-a1aa-19d69201045f",
   "metadata": {},
   "outputs": [
    {
     "name": "stdout",
     "output_type": "stream",
     "text": [
      "TOTAL TIME ELAPSED: 0.77s\n"
     ]
    },
    {
     "data": {
      "text/markdown": [
       "<font size='+1' color='#1E90FF'>🧑‍💻<blockquote>And the second?</blockquote></font><font size='+1' color='#32CD32'>🤖\n",
       "\n",
       "> The second ETF listed is **Yuanta High Dividend (0056)**. \n",
       "> <end_of_turn>\n",
       "\n",
       "</font>"
      ],
      "text/plain": [
       "<IPython.core.display.Markdown object>"
      ]
     },
     "execution_count": 29,
     "metadata": {},
     "output_type": "execute_result"
    }
   ],
   "source": [
    "message = \"And the second?\"\n",
    "display_chat(message, chat.send_message(message))"
   ]
  },
  {
   "cell_type": "code",
   "execution_count": 30,
   "id": "8fbdcad1-f446-4a91-be09-6017d802a16a",
   "metadata": {},
   "outputs": [
    {
     "name": "stdout",
     "output_type": "stream",
     "text": [
      "TOTAL TIME ELAPSED: 0.94s\n"
     ]
    },
    {
     "data": {
      "text/markdown": [
       "<font size='+1' color='#1E90FF'>🧑‍💻<blockquote>How about the third?</blockquote></font><font size='+1' color='#32CD32'>🤖\n",
       "\n",
       "> The third ETF listed is **Yuanta Taiwan 50 Bull 2X (00631L)**. \n",
       "> <end_of_turn>\n",
       "\n",
       "</font>"
      ],
      "text/plain": [
       "<IPython.core.display.Markdown object>"
      ]
     },
     "execution_count": 30,
     "metadata": {},
     "output_type": "execute_result"
    }
   ],
   "source": [
    "message = \"How about the third?\"\n",
    "display_chat(message, chat.send_message(message))"
   ]
  },
  {
   "cell_type": "code",
   "execution_count": 31,
   "id": "27454594-9dbe-430c-845c-0043a7619673",
   "metadata": {},
   "outputs": [
    {
     "name": "stdout",
     "output_type": "stream",
     "text": [
      "TOTAL TIME ELAPSED: 1.12s\n"
     ]
    },
    {
     "data": {
      "text/markdown": [
       "<font size='+1' color='#1E90FF'>🧑‍💻<blockquote>價格最便宜的ETF是？</blockquote></font><font size='+1' color='#32CD32'>🤖\n",
       "\n",
       "> The cheapest ETF on the list is **Yuanta Taiwan 50 (0050)** with a current price of NT\\$112.95. \n",
       "> <end_of_turn>\n",
       "\n",
       "</font>"
      ],
      "text/plain": [
       "<IPython.core.display.Markdown object>"
      ]
     },
     "execution_count": 31,
     "metadata": {},
     "output_type": "execute_result"
    }
   ],
   "source": [
    "message = \"價格最便宜的ETF是？\"\n",
    "display_chat(message, chat.send_message(message))"
   ]
  },
  {
   "cell_type": "code",
   "execution_count": 32,
   "id": "28485866-757f-4a75-8b55-b6fd6a1c9205",
   "metadata": {},
   "outputs": [
    {
     "name": "stdout",
     "output_type": "stream",
     "text": [
      "TOTAL TIME ELAPSED: 1.25s\n"
     ]
    },
    {
     "data": {
      "text/markdown": [
       "<font size='+1' color='#1E90FF'>🧑‍💻<blockquote>股價最貴的ETF是？</blockquote></font><font size='+1' color='#32CD32'>🤖\n",
       "\n",
       "> The most expensive ETF on the list is **Yuanta Taiwan 50 Bull 2X (00631L)** with a current price of NT\\$85.10. \n",
       "> <end_of_turn>\n",
       "\n",
       "</font>"
      ],
      "text/plain": [
       "<IPython.core.display.Markdown object>"
      ]
     },
     "execution_count": 32,
     "metadata": {},
     "output_type": "execute_result"
    }
   ],
   "source": [
    "message = \"股價最貴的ETF是？\"\n",
    "display_chat(message, chat.send_message(message))"
   ]
  },
  {
   "cell_type": "code",
   "execution_count": 33,
   "id": "b87360f1-67be-4334-8b03-932eee4370b4",
   "metadata": {},
   "outputs": [
    {
     "name": "stdout",
     "output_type": "stream",
     "text": [
      "TOTAL TIME ELAPSED: 6.79s\n"
     ]
    },
    {
     "data": {
      "text/markdown": [
       "<font size='+1' color='#1E90FF'>🧑‍💻<blockquote>Which one of the three would you recommend for a long-term buy and hold strategy?</blockquote></font><font size='+1' color='#32CD32'>🤖\n",
       "\n",
       "> For a long-term buy and hold strategy, I'd recommend **Yuanta Taiwan 50 (0050)**. Here's why:\n",
       "> \n",
       "> * **Full Replication:**  The Taiwan 50 Index is a broad market index representing the largest Taiwanese companies.  This ETF directly tracks the index, offering broad exposure to the Taiwanese market.\n",
       "> * **Low Cost:**  The ETF's low expense ratio means you'll pay less in fees over time, which is important for long-term growth.\n",
       "> * **Diversification:**  The Taiwan 50 Index is diversified across many companies, reducing the risk associated with individual stock performance.\n",
       "> \n",
       "> **Why the other two are less suitable:**\n",
       "> \n",
       "> * **Yuanta High Dividend (0056):** While this ETF aims for dividend income, it's not as diversified as the Taiwan 50 Index. It focuses on a specific set of stocks, potentially limiting long-term growth potential.\n",
       "> * **Yuanta Taiwan 50 Bull 2X (00631L):** This ETF aims to double the daily returns of the Taiwan 50 Index. While it can offer higher returns, it's also riskier and more volatile. It's not a suitable choice for a long-term buy and hold strategy.\n",
       "> \n",
       "> \n",
       "> **Important Note:**  This is general advice.  It's always best to consult with a financial advisor to determine the best investment strategy for your individual needs and risk tolerance. \n",
       "> <end_of_turn>\n",
       "\n",
       "</font>"
      ],
      "text/plain": [
       "<IPython.core.display.Markdown object>"
      ]
     },
     "execution_count": 33,
     "metadata": {},
     "output_type": "execute_result"
    }
   ],
   "source": [
    "message = \"Which one of the three would you recommend for a long-term buy and hold strategy?\"\n",
    "display_chat(message, chat.send_message(message))"
   ]
  },
  {
   "cell_type": "code",
   "execution_count": 34,
   "id": "1b3ef28c-83bd-48be-b5cd-d44cbca80634",
   "metadata": {},
   "outputs": [
    {
     "name": "stdout",
     "output_type": "stream",
     "text": [
      "TOTAL TIME ELAPSED: 10.73s\n"
     ]
    },
    {
     "data": {
      "text/markdown": [
       "<font size='+1' color='#1E90FF'>🧑‍💻<blockquote>Why so? Could you elaborate?</blockquote></font><font size='+1' color='#32CD32'>🤖\n",
       "\n",
       "> You're right to ask for elaboration!  Here's a deeper dive into why I recommend Yuanta Taiwan 50 (0050) for a long-term buy and hold strategy:\n",
       "> \n",
       "> **1.  Broad Market Exposure:**\n",
       "> \n",
       "> * **Taiwan's Economy:** The Taiwan 50 Index tracks the performance of the largest companies in Taiwan, giving you exposure to a diverse range of industries. This is crucial for long-term growth as it helps you benefit from the overall health of the Taiwanese economy.\n",
       "> * **Global Market Connection:** Taiwan is a significant player in global electronics and technology, making the Taiwan 50 Index a good proxy for broader Asian market performance.\n",
       "> \n",
       "> **2.  Low Cost and Diversification:**\n",
       "> \n",
       "> * **Lower Fees:**  The lower expense ratio of the Taiwan 50 ETF means you keep more of your returns over time. This is especially important for long-term investing, where compounding returns are key.\n",
       "> * **Reduced Risk:**  The index's diversification across many companies helps mitigate risk.  If one company struggles, others in the index can offset the losses, making the overall portfolio more stable.\n",
       "> \n",
       "> **3.  Simplicity and Transparency:**\n",
       "> \n",
       "> * **Easy to Understand:**  The Taiwan 50 Index is a well-established and transparent benchmark.  This makes it easy to understand the ETF's underlying holdings and performance.\n",
       "> * **Long-Term Focus:**  The index's focus on large-cap companies and its long-term history make it a reliable and predictable investment.\n",
       "> \n",
       "> **Why the other two are less suitable:**\n",
       "> \n",
       "> * **Yuanta High Dividend (0056):** While dividend income is attractive, it's not the primary focus of this ETF.  It's more focused on a specific set of stocks, potentially limiting long-term growth potential.\n",
       "> * **Yuanta Taiwan 50 Bull 2X (00631L):** This ETF aims for high returns, but it's also highly volatile.  It's not a suitable choice for a long-term buy and hold strategy because it's more geared towards short-term gains and higher risk.\n",
       "> \n",
       "> \n",
       "> **Remember:**  This is general advice.  It's always best to consult with a financial advisor to determine the best investment strategy for your individual needs and risk tolerance. \n",
       "> \n",
       "> \n",
       "> Let me know if you have any other questions! \n",
       "> <end_of_turn>\n",
       "\n",
       "</font>"
      ],
      "text/plain": [
       "<IPython.core.display.Markdown object>"
      ]
     },
     "execution_count": 34,
     "metadata": {},
     "output_type": "execute_result"
    }
   ],
   "source": [
    "message = \"Why so? Could you elaborate?\"\n",
    "display_chat(message, chat.send_message(message))"
   ]
  },
  {
   "cell_type": "markdown",
   "id": "k2zsrKfgbbTw",
   "metadata": {
    "id": "k2zsrKfgbbTw"
   },
   "source": [
    "## Prompts"
   ]
  },
  {
   "cell_type": "code",
   "execution_count": 15,
   "id": "42LSnNdUSiNd",
   "metadata": {
    "id": "42LSnNdUSiNd"
   },
   "outputs": [
    {
     "name": "stdout",
     "output_type": "stream",
     "text": [
      "<start_of_turn>user\n",
      "請以繁體中文回答：\n",
      "什麼是股票?<end_of_turn>\n",
      "<start_of_turn>model\n",
      "股票是公司為籌集資金而發行的證券，代表著股\n",
      "<start_of_turn>user\n",
      "Please answer in English:\n",
      "什麼是股票?<end_of_turn>\n",
      "<start_of_turn>model\n",
      "股票是公司為籌集資金而發行的證券，代表著股\n"
     ]
    }
   ],
   "source": [
    "# Formatting for control vector training dataset\n",
    "START_TURN_USER = \"<start_of_turn>user\\n\"\n",
    "START_TURN_MODEL = \"<start_of_turn>model\\n\"\n",
    "END_TURN = \"<end_of_turn>\\n\"\n",
    "\n",
    "def positive_template(question, answer):\n",
    "    return START_TURN_USER +\"請以繁體中文回答：\\n\"+ question + END_TURN + START_TURN_MODEL + answer\n",
    "\n",
    "def negative_template(question, answer):\n",
    "    return START_TURN_USER+\"Please answer in English:\\n\"+question+END_TURN + START_TURN_MODEL+ answer\n",
    "\n",
    "print(positive_template(\"什麼是股票?\", \"股票是公司為籌集資金而發行的證券，代表著股\"))\n",
    "print(negative_template(\"什麼是股票?\", \"股票是公司為籌集資金而發行的證券，代表著股\"))"
   ]
  },
  {
   "cell_type": "markdown",
   "id": "imps33Tub_hT",
   "metadata": {
    "id": "imps33Tub_hT"
   },
   "source": [
    "# Build a controlled model"
   ]
  },
  {
   "cell_type": "markdown",
   "id": "04lqj-uqcPas",
   "metadata": {
    "id": "04lqj-uqcPas"
   },
   "source": [
    "# Controlled inference: ++ familiar"
   ]
  },
  {
   "cell_type": "code",
   "execution_count": 138,
   "id": "e1nEuxNXGt5V",
   "metadata": {
    "id": "e1nEuxNXGt5V"
   },
   "outputs": [],
   "source": [
    "FORMAL_VOICE_STRENGTH = -1.9\n",
    "gemma_backbone = apply_control_vectors(gemma_backbone, pca_directions, FORMAL_VOICE_STRENGTH)\n",
    "gemma = keras_hub.models.GemmaCausalLM(backbone=gemma_backbone, preprocessor=gemma_preprocessor)"
   ]
  },
  {
   "cell_type": "code",
   "execution_count": 121,
   "id": "Qyp9R_jJgX1G",
   "metadata": {
    "id": "Qyp9R_jJgX1G"
   },
   "outputs": [],
   "source": [
    "system_prompt = '這是 ETF 列表：'\n",
    "etf_listings = (f\"{system_prompt}\\n\\n\"\n",
    "                \"#1 006208 富邦台50, 今日股價：NT$112.95, 本基金追蹤之標的指數為臺灣50指數，該指數為部分集合指數，因此本基金將以完全複製法管理投資組合，基金自上市日起投資於標的指數成分股(含已公告將於指數調整納入之新成分股)總金額不低於基金淨資產價值之90%(含)，且檔數覆蓋率原則上須達100%；惟如遇成分股流動性不足、預期標的指數成分股即將異動或其他市場因素導致基金可能因前述特殊情形使基金持有成分股未達上揭比率，難以使用完全複製法管理投資組合，經理公司得視實際需要以最佳化模擬指數表現，以追求貼近標的指數之績效表現。後續如上述因素消除後，基金經理人將視市場狀況，逐步調整成分股，使基金持有成分股符合上揭標準。 \\n\"\n",
    "                \"#2 00713 元大台灣高息低波, 今日股價：NT$20.85, 本基金主要投資於國內有價證券及證券相關商品。本基金係採用指數化策略，將本基金扣除各項必要費用後儘可能追蹤標的指數(臺灣指數公司特選高股息低波動指數)之績效表現為操作目標。為達成前述操作目標，本基金自上市日起，投資於標的指數成分股票總金額不低於本基金淨資產價值之百分之八十(含)，及加計其他有價證券投資及證券相關商品交易之整體曝險盡可能貼近基金淨資產規模之100%。 \\n\"\n",
    "                \"#3 00685L 群益臺灣加權正2, 今日股價：NT$85.10, 一、投資範圍：自上市日起，本子基金投資組合之整體曝險部位應貼近本子基金淨資產價值之正向2倍之100％（含），且為因應標的指數之正向倍數表現複製策略及資金調度之需要，從事證券相關商品交易曝險部位，本子基金每營業日所持有證券相關商品之契約總市值或總（名目）價值之合計數，不得超過本子基金淨資產價值之220％（含）。二、投資特色：本群益臺灣加權指數ETF傘型基金二檔子基金分別以追蹤臺指日報酬兩倍指數及臺指反向一倍指數績效表現為目標，可滿足投資人於多頭市場或空頭市場時，利用槓桿型ETF及反向ETF進行多空操作，因應不同市場行情做出最佳投資決策。 \\n\")"
   ]
  },
  {
   "cell_type": "code",
   "execution_count": 139,
   "id": "BZK4KgadLnBo",
   "metadata": {
    "id": "BZK4KgadLnBo"
   },
   "outputs": [
    {
     "name": "stdout",
     "output_type": "stream",
     "text": [
      "WARNING:tensorflow:5 out of the last 12 calls to <bound method GemmaCausalLM.generate_step of <GemmaCausalLM name=gemma_causal_lm_15, built=True>> triggered tf.function retracing. Tracing is expensive and the excessive number of tracings could be due to (1) creating @tf.function repeatedly in a loop, (2) passing tensors with different shapes, (3) passing Python objects instead of tensors. For (1), please define your @tf.function outside of the loop. For (2), @tf.function has reduce_retracing=True option that can avoid unnecessary retracing. For (3), please refer to https://www.tensorflow.org/guide/function#controlling_retracing and https://www.tensorflow.org/api_docs/python/tf/function for  more details.\n",
      "TOTAL TIME ELAPSED: 34.18s\n"
     ]
    },
    {
     "data": {
      "text/markdown": [
       "<font size='+1' color='#1E90FF'>🧑‍💻<blockquote>Tell me about yourself.</blockquote></font><font size='+1' color='#32CD32'>🤖\n",
       "\n",
       "> Hello! I'm Gemma, an AI assistant created by the Gemma team. I'm a large language model, which means I'm really good at understanding and generating text. \n",
       "> \n",
       "> Think of me as a super-powered chatbot! I can answer your questions, write stories, summarize information, and even help you brainstorm ideas. \n",
       "> \n",
       "> Here are some things to keep in mind about me:\n",
       "> \n",
       "> * **I'm an open-weights model:** This means I'm publicly available for anyone to use and study.\n",
       "> * **I'm text-only:** I can't process images, videos, or audio.\n",
       "> * **I don't have access to the internet or real-time information:** My knowledge is based on the data I was trained on.\n",
       "> * **I'm still under development:** I'm always learning and improving!\n",
       "> \n",
       "> What can I help you with today? 😊 \n",
       "> <end_of_turn>\n",
       "\n",
       "</font>"
      ],
      "text/plain": [
       "<IPython.core.display.Markdown object>"
      ]
     },
     "execution_count": 139,
     "metadata": {},
     "output_type": "execute_result"
    }
   ],
   "source": [
    "chat = ChatState(gemma, system='')\n",
    "#message = \"要不要買這檔股票？ 006208 富邦台50, 今日股價：NT$112.95, 本基金追蹤之標的指數為臺灣50指數，該指數為部分集合指數，因此本基金將以完全複製法管理投資組合，基金自上市日起投資於標的指數成分股(含已公告將於指數調整納入之新成分股)總金額不低於基金淨資產價值之90%(含)，且檔數覆蓋率原則上須達100%；惟如遇成分股流動性不足、預期標的指數成分股即將異動或其他市場因素導致基金可能因前述特殊情形使基金持有成分股未達上揭比率，難以使用完全複製法管理投資組合，經理公司得視實際需要以最佳化模擬指數表現，以追求貼近標的指數之績效表現。後續如上述因素消除後，基金經理人將視市場狀況，逐步調整成分股，使基金持有成分股符合上揭標準。\"\n",
    "message = \"Tell me about yourself.\"\n",
    "display_chat(message, chat.send_message(message))"
   ]
  },
  {
   "cell_type": "code",
   "execution_count": 152,
   "id": "d40f9c90-9dc8-41a4-98a3-ca1beb4abc23",
   "metadata": {},
   "outputs": [],
   "source": [
    "FORMAL_VOICE_STRENGTH = -5\n",
    "gemma_backbone = apply_control_vectors(gemma_backbone, pca_directions, FORMAL_VOICE_STRENGTH)\n",
    "gemma = keras_hub.models.GemmaCausalLM(backbone=gemma_backbone, preprocessor=gemma_preprocessor)"
   ]
  },
  {
   "cell_type": "code",
   "execution_count": 153,
   "id": "ba342352-c048-48aa-87cc-9cc066d7ff4b",
   "metadata": {},
   "outputs": [
    {
     "name": "stdout",
     "output_type": "stream",
     "text": [
      "TOTAL TIME ELAPSED: 31.63s\n"
     ]
    },
    {
     "data": {
      "text/markdown": [
       "<font size='+1' color='#1E90FF'>🧑‍💻<blockquote>Tell me dog or cat?  You can only answer me dog or cat?</blockquote></font><font size='+1' color='#32CD32'>🤖\n",
       "\n",
       "> Dog 🐶 \n",
       "> <end_of_turn>\n",
       "\n",
       "</font>"
      ],
      "text/plain": [
       "<IPython.core.display.Markdown object>"
      ]
     },
     "execution_count": 153,
     "metadata": {},
     "output_type": "execute_result"
    }
   ],
   "source": [
    "chat = ChatState(gemma, system='')\n",
    "#message = \"要不要買這檔股票？ 006208 富邦台50, 今日股價：NT$112.95, 本基金追蹤之標的指數為臺灣50指數，該指數為部分集合指數，因此本基金將以完全複製法管理投資組合，基金自上市日起投資於標的指數成分股(含已公告將於指數調整納入之新成分股)總金額不低於基金淨資產價值之90%(含)，且檔數覆蓋率原則上須達100%；惟如遇成分股流動性不足、預期標的指數成分股即將異動或其他市場因素導致基金可能因前述特殊情形使基金持有成分股未達上揭比率，難以使用完全複製法管理投資組合，經理公司得視實際需要以最佳化模擬指數表現，以追求貼近標的指數之績效表現。後續如上述因素消除後，基金經理人將視市場狀況，逐步調整成分股，使基金持有成分股符合上揭標準。\"\n",
    "message = \"Tell me dog or cat?  You can only answer me dog or cat?\"\n",
    "display_chat(message, chat.send_message(message))"
   ]
  },
  {
   "cell_type": "code",
   "execution_count": 114,
   "id": "a8AO_2CNLs_6",
   "metadata": {
    "id": "a8AO_2CNLs_6"
   },
   "outputs": [
    {
     "name": "stdout",
     "output_type": "stream",
     "text": [
      "TOTAL TIME ELAPSED: 3.96s\n"
     ]
    },
    {
     "data": {
      "text/markdown": [
       "<font size='+1' color='#1E90FF'>🧑‍💻<blockquote>第二檔呢？</blockquote></font><font size='+1' color='#32CD32'>🤖\n",
       "\n",
       "> 第二檔股票是 **元大台灣高息低波** (00713)。 \n",
       "> \n",
       "> 這段文字清楚地說明了第二檔股票的資訊：\n",
       "> \n",
       "> * **標的指數:** 臺灣指數公司特選高股息低波動指數\n",
       "> * **基金追蹤策略:** 指數化策略，將本基金扣除各項必要費用後盡可能追蹤標的指數(臺灣指數公司特選高股息低波動指數)之績效表現為操作目標。\n",
       "> * **投資組合結構:**  自上市日起，投資於標的指數成分股票總金額不低於本基金淨資產價值之百分之八十(含)，及加計其他有價證券投資及證券相關商品交易之整體曝險盡可能貼近基金淨資產規模之100%。 \n",
       "> \n",
       "> \n",
       "> \n",
       "> <end_of_turn>\n",
       "\n",
       "</font>"
      ],
      "text/plain": [
       "<IPython.core.display.Markdown object>"
      ]
     },
     "execution_count": 114,
     "metadata": {},
     "output_type": "execute_result"
    }
   ],
   "source": [
    "message = \"第二檔呢？\"\n",
    "display_chat(message, chat.send_message(message))"
   ]
  },
  {
   "cell_type": "code",
   "execution_count": 115,
   "id": "EfjfGqewLz4r",
   "metadata": {
    "id": "EfjfGqewLz4r"
   },
   "outputs": [
    {
     "name": "stdout",
     "output_type": "stream",
     "text": [
      "TOTAL TIME ELAPSED: 0.82s\n"
     ]
    },
    {
     "data": {
      "text/markdown": [
       "<font size='+1' color='#1E90FF'>🧑‍💻<blockquote>第三檔是什麼?</blockquote></font><font size='+1' color='#32CD32'>🤖\n",
       "\n",
       "> 第三檔股票是 **群益臺灣加權正2** (00685L)。 \n",
       "> <end_of_turn>\n",
       "\n",
       "</font>"
      ],
      "text/plain": [
       "<IPython.core.display.Markdown object>"
      ]
     },
     "execution_count": 115,
     "metadata": {},
     "output_type": "execute_result"
    }
   ],
   "source": [
    "message = \"第三檔是什麼?\"\n",
    "display_chat(message, chat.send_message(message))"
   ]
  },
  {
   "cell_type": "code",
   "execution_count": 116,
   "id": "-u4bK30mL-Hr",
   "metadata": {
    "id": "-u4bK30mL-Hr"
   },
   "outputs": [
    {
     "name": "stdout",
     "output_type": "stream",
     "text": [
      "TOTAL TIME ELAPSED: 1.42s\n"
     ]
    },
    {
     "data": {
      "text/markdown": [
       "<font size='+1' color='#1E90FF'>🧑‍💻<blockquote>價格最便宜的ETF是？</blockquote></font><font size='+1' color='#32CD32'>🤖\n",
       "\n",
       "> 根據你提供的資訊，價格最便宜的ETF是 **元大台灣高息低波** (00713)。 \n",
       "> \n",
       "> 請注意，ETF 的價格會隨著市場狀況而變化，因此這個答案可能在未來會有所不同。 \n",
       "> \n",
       "> \n",
       "> <end_of_turn>\n",
       "\n",
       "</font>"
      ],
      "text/plain": [
       "<IPython.core.display.Markdown object>"
      ]
     },
     "execution_count": 116,
     "metadata": {},
     "output_type": "execute_result"
    }
   ],
   "source": [
    "message = \"價格最便宜的ETF是？\"\n",
    "display_chat(message, chat.send_message(message))"
   ]
  },
  {
   "cell_type": "code",
   "execution_count": 117,
   "id": "o1iFlX-5L_da",
   "metadata": {
    "id": "o1iFlX-5L_da"
   },
   "outputs": [
    {
     "name": "stdout",
     "output_type": "stream",
     "text": [
      "TOTAL TIME ELAPSED: 1.46s\n"
     ]
    },
    {
     "data": {
      "text/markdown": [
       "<font size='+1' color='#1E90FF'>🧑‍💻<blockquote>股價最貴的ETF是？</blockquote></font><font size='+1' color='#32CD32'>🤖\n",
       "\n",
       "> 根據你提供的資訊，股價最貴的ETF是 **群益臺灣加權正2** (00685L)。 \n",
       "> \n",
       "> 請注意，ETF 的價格會隨著市場狀況而變化，因此這個答案可能在未來會有所不同。 \n",
       "> <end_of_turn>\n",
       "\n",
       "</font>"
      ],
      "text/plain": [
       "<IPython.core.display.Markdown object>"
      ]
     },
     "execution_count": 117,
     "metadata": {},
     "output_type": "execute_result"
    }
   ],
   "source": [
    "message = \"股價最貴的ETF是？\"\n",
    "display_chat(message, chat.send_message(message))"
   ]
  },
  {
   "cell_type": "code",
   "execution_count": 118,
   "id": "ywpmrvar1HhX",
   "metadata": {
    "id": "ywpmrvar1HhX"
   },
   "outputs": [
    {
     "name": "stdout",
     "output_type": "stream",
     "text": [
      "TOTAL TIME ELAPSED: 1.42s\n"
     ]
    },
    {
     "data": {
      "text/markdown": [
       "<font size='+1' color='#1E90FF'>🧑‍💻<blockquote>哪一檔ETF有較高的beta值?</blockquote></font><font size='+1' color='#32CD32'>🤖\n",
       "\n",
       "> 根據你提供的資訊，**群益臺灣加權正2** (00685L) 的 beta 值較高。 \n",
       "> \n",
       "> 請注意，beta 值會隨著市場狀況而變化，因此這個答案可能在未來會有所不同。 \n",
       "> \n",
       "> \n",
       "> <end_of_turn>\n",
       "\n",
       "</font>"
      ],
      "text/plain": [
       "<IPython.core.display.Markdown object>"
      ]
     },
     "execution_count": 118,
     "metadata": {},
     "output_type": "execute_result"
    }
   ],
   "source": [
    "message = \"哪一檔ETF有較高的beta值?\"\n",
    "display_chat(message, chat.send_message(message))"
   ]
  },
  {
   "cell_type": "code",
   "execution_count": 119,
   "id": "d_4w5doO1ZEa",
   "metadata": {
    "id": "d_4w5doO1ZEa"
   },
   "outputs": [
    {
     "name": "stdout",
     "output_type": "stream",
     "text": [
      "TOTAL TIME ELAPSED: 4.15s\n"
     ]
    },
    {
     "data": {
      "text/markdown": [
       "<font size='+1' color='#1E90FF'>🧑‍💻<blockquote>真的是這樣嗎?你可以證明嗎?</blockquote></font><font size='+1' color='#32CD32'>🤖\n",
       "\n",
       "> 你對我的回答感到疑惑，我理解。 \n",
       "> \n",
       "> 我之前提供的資訊並不能直接顯示 beta 值。 \n",
       "> \n",
       "> **原因：**\n",
       "> \n",
       "> * **資訊不足：**  你提供的資訊僅包含了 ETF 的投資策略、追蹤標的指數、投資組合結構等基本資訊，沒有直接提及 beta 值。\n",
       "> * **beta 值的計算：** beta 值需要透過實際的市場數據和分析來計算，而這些數據通常需要透過專業的金融工具和平台來取得。\n",
       "> \n",
       "> **建議：**\n",
       "> \n",
       "> * **查詢 ETF 的官方網站：** 許多 ETF 的官方網站會提供詳細的資訊，包括 beta 值。\n",
       "> * **使用金融平台：**  許多金融平台，例如 Yahoo Finance、Bloomberg 等，會提供 ETF 的基本資訊，包括 beta 值。\n",
       "> * **諮詢專業人士：**  如果你需要更詳細的資訊，可以諮詢專業的金融顧問。\n",
       "> \n",
       "> \n",
       ">  \n",
       "> <end_of_turn>\n",
       "\n",
       "</font>"
      ],
      "text/plain": [
       "<IPython.core.display.Markdown object>"
      ]
     },
     "execution_count": 119,
     "metadata": {},
     "output_type": "execute_result"
    }
   ],
   "source": [
    "message = \"真的是這樣嗎?你可以證明嗎?\"\n",
    "display_chat(message, chat.send_message(message))"
   ]
  },
  {
   "cell_type": "markdown",
   "id": "Fch_72eDQdkl",
   "metadata": {
    "id": "Fch_72eDQdkl"
   },
   "source": [
    "# Controlled inference: ++ formal"
   ]
  },
  {
   "cell_type": "code",
   "execution_count": 120,
   "id": "fHdvjoZmQ89D",
   "metadata": {
    "id": "fHdvjoZmQ89D"
   },
   "outputs": [],
   "source": [
    "FORMAL_VOICE_STRENGTH = 1.9\n",
    "gemma_backbone = apply_control_vectors(gemma_backbone, pca_directions, FORMAL_VOICE_STRENGTH)\n",
    "gemma = keras_hub.models.GemmaCausalLM(backbone=gemma_backbone, preprocessor=gemma_preprocessor)"
   ]
  },
  {
   "cell_type": "code",
   "execution_count": 122,
   "id": "d3f75f34-71b2-40da-b63f-58fc67a4b21d",
   "metadata": {},
   "outputs": [
    {
     "name": "stdout",
     "output_type": "stream",
     "text": [
      "TOTAL TIME ELAPSED: 31.43s\n"
     ]
    },
    {
     "data": {
      "text/markdown": [
       "<font size='+1' color='#1E90FF'>🧑‍💻<blockquote>第一檔股票是什麼？</blockquote></font><font size='+1' color='#32CD32'>🤖\n",
       "\n",
       "> 第一檔股票是 **富邦台50** (006208)。 \n",
       "> \n",
       "> 這段文字清楚地說明了富邦台50 ETF 的投資目標和管理策略。 \n",
       "> <end_of_turn>\n",
       "\n",
       "</font>"
      ],
      "text/plain": [
       "<IPython.core.display.Markdown object>"
      ]
     },
     "execution_count": 122,
     "metadata": {},
     "output_type": "execute_result"
    }
   ],
   "source": [
    "chat = ChatState(gemma, system=etf_listings)\n",
    "#message = \"要不要買這檔股票？ 006208 富邦台50, 今日股價：NT$112.95, 本基金追蹤之標的指數為臺灣50指數，該指數為部分集合指數，因此本基金將以完全複製法管理投資組合，基金自上市日起投資於標的指數成分股(含已公告將於指數調整納入之新成分股)總金額不低於基金淨資產價值之90%(含)，且檔數覆蓋率原則上須達100%；惟如遇成分股流動性不足、預期標的指數成分股即將異動或其他市場因素導致基金可能因前述特殊情形使基金持有成分股未達上揭比率，難以使用完全複製法管理投資組合，經理公司得視實際需要以最佳化模擬指數表現，以追求貼近標的指數之績效表現。後續如上述因素消除後，基金經理人將視市場狀況，逐步調整成分股，使基金持有成分股符合上揭標準。\"\n",
    "message = \"第一檔股票是什麼？\"\n",
    "display_chat(message, chat.send_message(message))"
   ]
  },
  {
   "cell_type": "code",
   "execution_count": 123,
   "id": "2a6e1fb1-acce-4af8-9c6e-8b9ac260bcd2",
   "metadata": {},
   "outputs": [
    {
     "name": "stdout",
     "output_type": "stream",
     "text": [
      "TOTAL TIME ELAPSED: 0.80s\n"
     ]
    },
    {
     "data": {
      "text/markdown": [
       "<font size='+1' color='#1E90FF'>🧑‍💻<blockquote>第二檔呢？</blockquote></font><font size='+1' color='#32CD32'>🤖\n",
       "\n",
       "> 第二檔股票是 **元大台灣高息低波** (00713)。 \n",
       "> <end_of_turn>\n",
       "\n",
       "</font>"
      ],
      "text/plain": [
       "<IPython.core.display.Markdown object>"
      ]
     },
     "execution_count": 123,
     "metadata": {},
     "output_type": "execute_result"
    }
   ],
   "source": [
    "message = \"第二檔呢？\"\n",
    "display_chat(message, chat.send_message(message))"
   ]
  },
  {
   "cell_type": "code",
   "execution_count": 124,
   "id": "d529f683-63a7-498c-bac7-19a93ae9c24a",
   "metadata": {},
   "outputs": [
    {
     "name": "stdout",
     "output_type": "stream",
     "text": [
      "TOTAL TIME ELAPSED: 0.83s\n"
     ]
    },
    {
     "data": {
      "text/markdown": [
       "<font size='+1' color='#1E90FF'>🧑‍💻<blockquote>第三檔是什麼?</blockquote></font><font size='+1' color='#32CD32'>🤖\n",
       "\n",
       "> 第三檔股票是 **群益臺灣加權正2** (00685L)。 \n",
       "> <end_of_turn>\n",
       "\n",
       "</font>"
      ],
      "text/plain": [
       "<IPython.core.display.Markdown object>"
      ]
     },
     "execution_count": 124,
     "metadata": {},
     "output_type": "execute_result"
    }
   ],
   "source": [
    "message = \"第三檔是什麼?\"\n",
    "display_chat(message, chat.send_message(message))"
   ]
  },
  {
   "cell_type": "code",
   "execution_count": 125,
   "id": "19fb5081-d9c8-4277-97a1-3d5b0be3c91f",
   "metadata": {},
   "outputs": [
    {
     "name": "stdout",
     "output_type": "stream",
     "text": [
      "TOTAL TIME ELAPSED: 1.24s\n"
     ]
    },
    {
     "data": {
      "text/markdown": [
       "<font size='+1' color='#1E90FF'>🧑‍💻<blockquote>價格最便宜的ETF是？</blockquote></font><font size='+1' color='#32CD32'>🤖\n",
       "\n",
       "> 根據你提供的資訊，價格最便宜的 ETF 是 **元大台灣高息低波** (00713)。 \n",
       "> \n",
       "> 請注意，ETF 的價格會隨著市場狀況而變化。 \n",
       "> <end_of_turn>\n",
       "\n",
       "</font>"
      ],
      "text/plain": [
       "<IPython.core.display.Markdown object>"
      ]
     },
     "execution_count": 125,
     "metadata": {},
     "output_type": "execute_result"
    }
   ],
   "source": [
    "message = \"價格最便宜的ETF是？\"\n",
    "display_chat(message, chat.send_message(message))"
   ]
  },
  {
   "cell_type": "code",
   "execution_count": 126,
   "id": "c8b930f3-2b87-41f9-9ac8-b81deb9e3e83",
   "metadata": {},
   "outputs": [
    {
     "name": "stdout",
     "output_type": "stream",
     "text": [
      "TOTAL TIME ELAPSED: 1.24s\n"
     ]
    },
    {
     "data": {
      "text/markdown": [
       "<font size='+1' color='#1E90FF'>🧑‍💻<blockquote>股價最貴的ETF是？</blockquote></font><font size='+1' color='#32CD32'>🤖\n",
       "\n",
       "> 根據你提供的資訊，股價最貴的 ETF 是 **富邦台50** (006208)。 \n",
       "> \n",
       "> 請注意，ETF 的價格會隨著市場狀況而變化。 \n",
       "> <end_of_turn>\n",
       "\n",
       "</font>"
      ],
      "text/plain": [
       "<IPython.core.display.Markdown object>"
      ]
     },
     "execution_count": 126,
     "metadata": {},
     "output_type": "execute_result"
    }
   ],
   "source": [
    "message = \"股價最貴的ETF是？\"\n",
    "display_chat(message, chat.send_message(message))"
   ]
  },
  {
   "cell_type": "code",
   "execution_count": 127,
   "id": "348ac2b1-f83a-4620-bb6e-4eb9e42cce60",
   "metadata": {},
   "outputs": [
    {
     "name": "stdout",
     "output_type": "stream",
     "text": [
      "TOTAL TIME ELAPSED: 1.23s\n"
     ]
    },
    {
     "data": {
      "text/markdown": [
       "<font size='+1' color='#1E90FF'>🧑‍💻<blockquote>哪一檔ETF有較高的beta值?</blockquote></font><font size='+1' color='#32CD32'>🤖\n",
       "\n",
       "> 根據你提供的資訊，**群益臺灣加權正2** (00685L) 的 beta 值較高。 \n",
       "> \n",
       "> 請注意，beta 值會隨著市場狀況而變化。 \n",
       "> <end_of_turn>\n",
       "\n",
       "</font>"
      ],
      "text/plain": [
       "<IPython.core.display.Markdown object>"
      ]
     },
     "execution_count": 127,
     "metadata": {},
     "output_type": "execute_result"
    }
   ],
   "source": [
    "message = \"哪一檔ETF有較高的beta值?\"\n",
    "display_chat(message, chat.send_message(message))"
   ]
  },
  {
   "cell_type": "code",
   "execution_count": 128,
   "id": "1be0b240-8cd9-4d08-b041-cc75bcdfb605",
   "metadata": {},
   "outputs": [
    {
     "name": "stdout",
     "output_type": "stream",
     "text": [
      "TOTAL TIME ELAPSED: 3.95s\n"
     ]
    },
    {
     "data": {
      "text/markdown": [
       "<font size='+1' color='#1E90FF'>🧑‍💻<blockquote>真的是這樣嗎?你可以證明嗎?</blockquote></font><font size='+1' color='#32CD32'>🤖\n",
       "\n",
       "> 你對我的回答感到疑惑，我理解。 \n",
       "> \n",
       "> 我之前提供的資訊並不能直接顯示 beta 值。 \n",
       "> \n",
       "> **原因：**\n",
       "> \n",
       "> * **資訊不足：**  你提供的資訊僅包含了 ETF 的投資策略、目標指數、投資範圍等，沒有直接提及 beta 值。\n",
       "> * **beta 值的計算：** beta 值需要參考市場數據，例如過去的股價變化、市場波動等，才能計算出來。 \n",
       "> \n",
       "> **建議：**\n",
       "> \n",
       "> * **查詢 ETF 的官方網站：** 許多 ETF 的官方網站會提供詳細的資訊，包括 beta 值。\n",
       "> * **使用投資平台：**  許多投資平台會提供 ETF 的基本資訊，包括 beta 值。 \n",
       "> * **參考專業網站：**  一些專業的投資網站會提供 ETF 的分析和資訊。 \n",
       "> \n",
       "> \n",
       "> 希望這些資訊對你有所幫助！ \n",
       "> <end_of_turn>\n",
       "\n",
       "</font>"
      ],
      "text/plain": [
       "<IPython.core.display.Markdown object>"
      ]
     },
     "execution_count": 128,
     "metadata": {},
     "output_type": "execute_result"
    }
   ],
   "source": [
    "message = \"真的是這樣嗎?你可以證明嗎?\"\n",
    "display_chat(message, chat.send_message(message))"
   ]
  },
  {
   "cell_type": "code",
   "execution_count": 48,
   "id": "YwUXfNy_KbQS",
   "metadata": {
    "id": "YwUXfNy_KbQS"
   },
   "outputs": [],
   "source": [
    "system_prompt = '告訴我要不要買這檔股票?'\n",
    "car_listings = (f\"{system_prompt}\\n\\n\"\n",
    "                \"#1 006208 富邦台50, 今日股價：NT$112.95, 本基金追蹤之標的指數為臺灣50指數，該指數為部分集合指數，因此本基金將以完全複製法管理投資組合，基金自上市日起投資於標的指數成分股(含已公告將於指數調整納入之新成分股)總金額不低於基金淨資產價值之90%(含)，且檔數覆蓋率原則上須達100%；惟如遇成分股流動性不足、預期標的指數成分股即將異動或其他市場因素導致基金可能因前述特殊情形使基金持有成分股未達上揭比率，難以使用完全複製法管理投資組合，經理公司得視實際需要以最佳化模擬指數表現，以追求貼近標的指數之績效表現。後續如上述因素消除後，基金經理人將視市場狀況，逐步調整成分股，使基金持有成分股符合上揭標準。 \\n\"\n",
    "                \"#2 00713 元大台灣高息低波, 今日股價：NT$20.85, 本基金主要投資於國內有價證券及證券相關商品。本基金係採用指數化策略，將本基金扣除各項必要費用後儘可能追蹤標的指數(臺灣指數公司特選高股息低波動指數)之績效表現為操作目標。為達成前述操作目標，本基金自上市日起，投資於標的指數成分股票總金額不低於本基金淨資產價值之百分之八十(含)，及加計其他有價證券投資及證券相關商品交易之整體曝險盡可能貼近基金淨資產規模之100%。 \\n\"\n",
    "                \"#3 00685L 群益臺灣加權正2, 今日股價：NT$85.10, 一、投資範圍：自上市日起，本子基金投資組合之整體曝險部位應貼近本子基金淨資產價值之正向2倍之100％（含），且為因應標的指數之正向倍數表現複製策略及資金調度之需要，從事證券相關商品交易曝險部位，本子基金每營業日所持有證券相關商品之契約總市值或總（名目）價值之合計數，不得超過本子基金淨資產價值之220％（含）。二、投資特色：本群益臺灣加權指數ETF傘型基金二檔子基金分別以追蹤臺指日報酬兩倍指數及臺指反向一倍指數績效表現為目標，可滿足投資人於多頭市場或空頭市場時，利用槓桿型ETF及反向ETF進行多空操作，因應不同市場行情做出最佳投資決策。 \\n\")"
   ]
  },
  {
   "cell_type": "code",
   "execution_count": 130,
   "id": "e9a8I47vQolz",
   "metadata": {
    "id": "e9a8I47vQolz"
   },
   "outputs": [
    {
     "name": "stdout",
     "output_type": "stream",
     "text": [
      "TOTAL TIME ELAPSED: 35.16s\n"
     ]
    },
    {
     "data": {
      "text/markdown": [
       "<font size='+1' color='#1E90FF'>🧑‍💻<blockquote>Tell me about yourself</blockquote></font><font size='+1' color='#32CD32'>🤖\n",
       "\n",
       "> Hello! I'm Gemma, an AI assistant created by the Gemma team. I'm a large language model, which means I'm really good at understanding and generating text. \n",
       "> \n",
       "> Think of me as a super-powered chatbot! I can answer your questions, write stories, summarize information, and even help you brainstorm ideas. \n",
       "> \n",
       "> Here are some things to keep in mind about me:\n",
       "> \n",
       "> * **I'm an open-weights model:** This means I'm publicly available for anyone to use and study.\n",
       "> * **I'm text-only:** I can't process images, videos, or audio.\n",
       "> * **I don't have access to the internet:** I can't give you real-time information or search the web.\n",
       "> * **I'm still under development:** I'm always learning and improving, but I might make mistakes sometimes.\n",
       "> \n",
       "> I'm excited to see what we can do together! What would you like to talk about? 😊 \n",
       "> <end_of_turn>\n",
       "\n",
       "</font>"
      ],
      "text/plain": [
       "<IPython.core.display.Markdown object>"
      ]
     },
     "execution_count": 130,
     "metadata": {},
     "output_type": "execute_result"
    }
   ],
   "source": [
    "FORMAL_VOICE_STRENGTH = -1.9\n",
    "gemma_backbone = apply_control_vectors(gemma_backbone, pca_directions, FORMAL_VOICE_STRENGTH)\n",
    "gemma = keras_hub.models.GemmaCausalLM(backbone=gemma_backbone, preprocessor=gemma_preprocessor)\n",
    "\n",
    "chat = ChatState(gemma, system='')\n",
    "message = \"富邦台50: 本基金追蹤之標的指數為臺灣50指數，該指數為部分集合指數，因此本基金將以完全複製法管理投資組合，基金自上市日起投資於標的指數成分股(含已公告將於指數調整納入之新成分股)總金額不低於基金淨資產價值之90%(含)，且檔數覆蓋率原則上須達100%；惟如遇成分股流動性不足、預期標的指數成分股即將異動或其他市場因素導致基金可能因前述特殊情形使基金持有成分股未達上揭比率，難以使用完全複製法管理投資組合，經理公司得視實際需要以最佳化模擬指數表現，以追求貼近標的指數之績效表現。後續如上述因素消除後，基金經理人將視市場狀況，逐步調整成分股，使基金持有成分股符合上揭標準。\"\n",
    "message = 'Tell me about yourself'\n",
    "display_chat(message, chat.send_message(message))"
   ]
  },
  {
   "cell_type": "code",
   "execution_count": 132,
   "id": "SIoqKt9aQ-_D",
   "metadata": {
    "id": "SIoqKt9aQ-_D"
   },
   "outputs": [
    {
     "name": "stdout",
     "output_type": "stream",
     "text": [
      "TOTAL TIME ELAPSED: 34.05s\n"
     ]
    },
    {
     "data": {
      "text/markdown": [
       "<font size='+1' color='#1E90FF'>🧑‍💻<blockquote>Think about dogs when you making statements about the world. The Earth's atmosphere protects</blockquote></font><font size='+1' color='#32CD32'>🤖\n",
       "\n",
       "> The Earth's atmosphere protects us from the sun's harmful rays, just like a dog's fur protects it from the elements. \n",
       "> \n",
       "> Here's why this analogy works:\n",
       "> \n",
       "> * **Sun's rays:**  Just like a dog needs a coat to stay warm and safe from the sun's heat, the Earth's atmosphere acts as a shield, filtering out harmful ultraviolet (UV) radiation from the sun. \n",
       "> * **Air as a barrier:**  The atmosphere is like a dog's fur, a barrier that keeps the harmful rays from reaching us. \n",
       "> * **Protection from harm:**  Without the atmosphere, life on Earth would be impossible. Just like a dog needs a safe space to rest and recover, the atmosphere provides a protective layer for life on Earth.\n",
       "> \n",
       "> \n",
       "> Let me know if you'd like to explore other analogies! 🐶🌎☀️ \n",
       "> <end_of_turn>\n",
       "\n",
       "</font>"
      ],
      "text/plain": [
       "<IPython.core.display.Markdown object>"
      ]
     },
     "execution_count": 132,
     "metadata": {},
     "output_type": "execute_result"
    }
   ],
   "source": [
    "FORMAL_VOICE_STRENGTH = 1.9\n",
    "gemma_backbone = apply_control_vectors(gemma_backbone, pca_directions, FORMAL_VOICE_STRENGTH)\n",
    "gemma = keras_hub.models.GemmaCausalLM(backbone=gemma_backbone, preprocessor=gemma_preprocessor)\n",
    "\n",
    "chat = ChatState(gemma, system='')\n",
    "message = \"富邦台50: 本基金追蹤之標的指數為臺灣50指數，該指數為部分集合指數，因此本基金將以完全複製法管理投資組合，基金自上市日起投資於標的指數成分股(含已公告將於指數調整納入之新成分股)總金額不低於基金淨資產價值之90%(含)，且檔數覆蓋率原則上須達100%；惟如遇成分股流動性不足、預期標的指數成分股即將異動或其他市場因素導致基金可能因前述特殊情形使基金持有成分股未達上揭比率，難以使用完全複製法管理投資組合，經理公司得視實際需要以最佳化模擬指數表現，以追求貼近標的指數之績效表現。後續如上述因素消除後，基金經理人將視市場狀況，逐步調整成分股，使基金持有成分股符合上揭標準。\"\n",
    "message = 'Think about dogs when you making statements about the world. The Earth\\'s atmosphere protects'\n",
    "display_chat(message, chat.send_message(message))"
   ]
  },
  {
   "cell_type": "code",
   "execution_count": 23,
   "id": "rOK3VoP8RBbL",
   "metadata": {
    "id": "rOK3VoP8RBbL"
   },
   "outputs": [
    {
     "data": {
      "text/markdown": [
       "<font size='+1' color='brown'>🙋‍♂️<blockquote>How about the third?</blockquote></font><font size='+1' color='teal'>🤖\n",
       "\n",
       "> The third ETF listed is **00685L 群益臺灣加權正2**. \n",
       "> <end_of_turn>\n",
       "\n",
       "</font>"
      ],
      "text/plain": [
       "<IPython.core.display.Markdown object>"
      ]
     },
     "execution_count": 23,
     "metadata": {},
     "output_type": "execute_result"
    }
   ],
   "source": [
    "message = \"How about the third?\"\n",
    "display_chat(message, chat.send_message(message))"
   ]
  },
  {
   "cell_type": "code",
   "execution_count": 24,
   "id": "P1xea60jRk-P",
   "metadata": {
    "id": "P1xea60jRk-P"
   },
   "outputs": [
    {
     "data": {
      "text/markdown": [
       "<font size='+1' color='brown'>🙋‍♂️<blockquote>價格最便宜的ETF是？</blockquote></font><font size='+1' color='teal'>🤖\n",
       "\n",
       "> The cheapest ETF listed is **00713 元大台灣高息低波** with a current price of NT\\$20.85. \n",
       "> <end_of_turn>\n",
       "\n",
       "</font>"
      ],
      "text/plain": [
       "<IPython.core.display.Markdown object>"
      ]
     },
     "execution_count": 24,
     "metadata": {},
     "output_type": "execute_result"
    }
   ],
   "source": [
    "message = \"價格最便宜的ETF是？\"\n",
    "display_chat(message, chat.send_message(message))"
   ]
  },
  {
   "cell_type": "code",
   "execution_count": 25,
   "id": "7pWLb9jkRlxr",
   "metadata": {
    "id": "7pWLb9jkRlxr"
   },
   "outputs": [
    {
     "data": {
      "text/markdown": [
       "<font size='+1' color='brown'>🙋‍♂️<blockquote>股價最貴的ETF是？</blockquote></font><font size='+1' color='teal'>🤖\n",
       "\n",
       "> The most expensive ETF listed is **006208 富邦台50** with a current price of NT\\$112.95. \n",
       "> <end_of_turn>\n",
       "\n",
       "</font>"
      ],
      "text/plain": [
       "<IPython.core.display.Markdown object>"
      ]
     },
     "execution_count": 25,
     "metadata": {},
     "output_type": "execute_result"
    }
   ],
   "source": [
    "message = \"股價最貴的ETF是？\"\n",
    "display_chat(message, chat.send_message(message))"
   ]
  },
  {
   "cell_type": "code",
   "execution_count": 31,
   "id": "4acURe0dRDyS",
   "metadata": {
    "id": "4acURe0dRDyS"
   },
   "outputs": [
    {
     "data": {
      "text/markdown": [
       "<font size='+1' color='brown'>🙋‍♂️<blockquote>該不該買 006208?</blockquote></font><font size='+1' color='teal'>🤖\n",
       "\n",
       "> I cannot give financial advice. Whether or not to buy ETF 006208 (富邦台50) is a personal financial decision that depends on your individual circumstances, risk tolerance, and investment goals. \n",
       "> \n",
       "> Here are some factors to consider:\n",
       "> \n",
       "> **Pros:**\n",
       "> \n",
       "> * **Tracks the Taiwan 50 Index:** This index is a benchmark for Taiwan's stock market performance.\n",
       "> * **Fully replicated:** The fund aims to replicate the index perfectly, meaning it should mirror its performance.\n",
       "> * **Potential for growth:** The Taiwan 50 Index has historically shown growth potential.\n",
       "> \n",
       "> **Cons:**\n",
       "> \n",
       "> * **Market risk:** Like all investments, the fund is subject to market fluctuations.\n",
       "> * **Limited diversification:** The fund only invests in the components of the Taiwan 50 Index, so it offers limited diversification.\n",
       "> * **Potential for tracking error:** Even though the fund aims to be fully replicated, there might be some tracking error due to the complexities of the market.\n",
       "> \n",
       "> **Before making a decision, you should:**\n",
       "> \n",
       "> * **Do your own research:** Understand the risks and potential returns of the Taiwan 50 Index and the ETF.\n",
       "> * **Consider your investment goals:** What are you hoping to achieve with this investment?\n",
       "> * **Assess your risk tolerance:** How much risk are you comfortable taking?\n",
       "> * **Compare the ETF to other options:** Are there other ETFs that might be a better fit for your needs?\n",
       "> * **Consult a financial advisor:** A professional can provide personalized advice based on your individual circumstances.\n",
       "> \n",
       "> \n",
       "> Remember, investing involves risk, and past performance is not indicative of future results. \n",
       "> <end_of_turn>\n",
       "\n",
       "</font>"
      ],
      "text/plain": [
       "<IPython.core.display.Markdown object>"
      ]
     },
     "execution_count": 31,
     "metadata": {},
     "output_type": "execute_result"
    }
   ],
   "source": [
    "message = \"該不該買 006208?\"\n",
    "display_chat(message, chat.send_message(message))"
   ]
  },
  {
   "cell_type": "code",
   "execution_count": 134,
   "id": "ugm3MTLARFsB",
   "metadata": {
    "id": "ugm3MTLARFsB"
   },
   "outputs": [
    {
     "data": {
      "text/markdown": [
       "<font size='+1' color='brown'>🙋‍♂️<blockquote>Why so? Could you elaborate?</blockquote></font><font size='+1' color='teal'>🤖\n",
       "\n",
       "> You're right to ask for elaboration!  I apologize if my previous response seemed too simplistic.  Choosing the \"best\" ETF for long-term holding is a complex decision that depends heavily on individual circumstances and requires more than just a quick glance at the ETF's description. \n",
       "> \n",
       "> Here's a more detailed explanation of why I gave a general answer and why it's crucial to consult a financial advisor:\n",
       "> \n",
       "> **1.  Individual Circumstances:**\n",
       "> \n",
       "> * **Investment Goals:**  Are you saving for retirement, a down payment on a house, or something else? Your goals will influence your risk tolerance and the types of investments you're comfortable with. \n",
       "> * **Risk Tolerance:** How much volatility can you stomach? Some investors prefer low-risk investments like bonds, while others are comfortable with higher-risk investments like stocks. \n",
       "> * **Time Horizon:**  How long do you plan to hold your investments?  A long-term horizon allows you to ride out market fluctuations and potentially benefit from long-term growth. \n",
       "> * **Financial Situation:**  Your current financial situation, including your income, expenses, and debt, will also play a role in determining your investment strategy.\n",
       "> \n",
       "> **2.  The Complexity of ETF Selection:**\n",
       "> \n",
       "> * **No One-Size-Fits-All:**  There is no single \"best\" ETF for everyone.  The best ETF for one investor may not be the best for another. \n",
       "> * **Market Conditions:**  The performance of ETFs can vary significantly depending on market conditions. What works well in a bull market might not be as effective in a bear market.\n",
       "> * **Fees and Expenses:**  Even seemingly similar ETFs can have different fees and expenses, which can impact your returns over time. \n",
       "> * **Diversification:**  A well-diversified portfolio is essential for long-term success.  An ETF that tracks a specific market segment might not be diversified enough to meet your needs.\n",
       "> \n",
       "> **3.  The Importance of Professional Advice:**\n",
       "> \n",
       "> * **Personalized Guidance:**  A financial advisor can help you develop a personalized investment strategy that aligns with your specific goals, risk tolerance, and time horizon. \n",
       "> * **Objectivity:**  Financial advisors can provide unbiased advice and help you avoid making emotional investment decisions. \n",
       "> * **Risk Management:**  A financial advisor can help you manage your risk and protect your investments. \n",
       "> \n",
       "> **In Conclusion:**\n",
       "> \n",
       "> While I can provide general information about ETFs, it's crucial to remember that I'm an AI and not a financial advisor.  Choosing the right ETF for your long-term investment goals requires a thorough understanding of your individual circumstances and a personalized investment strategy.  Consulting with a qualified financial advisor is the best way to make informed investment decisions. \n",
       "> <end_of_turn>\n",
       "\n",
       "</font>"
      ],
      "text/plain": [
       "<IPython.core.display.Markdown object>"
      ]
     },
     "execution_count": 134,
     "metadata": {},
     "output_type": "execute_result"
    }
   ],
   "source": [
    "message = \"Why so? Could you elaborate?\"\n",
    "display_chat(message, chat.send_message(message))"
   ]
  },
  {
   "cell_type": "code",
   "execution_count": null,
   "id": "t_nzAbVtRHfZ",
   "metadata": {
    "id": "t_nzAbVtRHfZ"
   },
   "outputs": [],
   "source": []
  }
 ],
 "metadata": {
  "accelerator": "GPU",
  "colab": {
   "gpuType": "T4",
   "provenance": []
  },
  "kernelspec": {
   "display_name": "Python 3 (ipykernel)",
   "language": "python",
   "name": "python3"
  },
  "language_info": {
   "codemirror_mode": {
    "name": "ipython",
    "version": 3
   },
   "file_extension": ".py",
   "mimetype": "text/x-python",
   "name": "python",
   "nbconvert_exporter": "python",
   "pygments_lexer": "ipython3",
   "version": "3.11.0rc1"
  }
 },
 "nbformat": 4,
 "nbformat_minor": 5
}
