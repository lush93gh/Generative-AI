{
 "cells": [
  {
   "cell_type": "markdown",
   "metadata": {
    "id": "YNDq8NbCY7oh"
   },
   "source": [
    "# 財經小博士\n",
    "\n",
    "這個 notebook 示範如何改造 Gemma 來打造專業應用：財經小博士。"
   ]
  },
  {
   "cell_type": "markdown",
   "metadata": {},
   "source": [
    "## Demo 1"
   ]
  },
  {
   "cell_type": "markdown",
   "metadata": {
    "id": "LXfDwRTQVns2"
   },
   "source": [
    "### 安裝套件\n",
    "\n",
    "安裝 Keras and KerasHub"
   ]
  },
  {
   "cell_type": "markdown",
   "metadata": {
    "id": "URMuBzkMVxpU"
   },
   "source": [
    "### 設定環境變數\n",
    "\n",
    "設定像是 ```KAGGLE_USERNAME``` 和 ```KAGGLE_KEY``` 的環境變數。"
   ]
  },
  {
   "cell_type": "code",
   "execution_count": 1,
   "metadata": {
    "id": "IUOX2hqjV7Ku"
   },
   "outputs": [],
   "source": [
    "import os, json\n",
    "\n",
    "with open('kaggle.json') as f:\n",
    "    kaggle = json.load(f)\n",
    "    os.environ[\"KAGGLE_USERNAME\"] = kaggle[\"username\"]\n",
    "    os.environ[\"KAGGLE_KEY\"] = kaggle[\"key\"]\n",
    "\n",
    "# Set the backbend before importing Keras\n",
    "os.environ[\"KERAS_BACKEND\"] = \"jax\"\n",
    "# Avoid memory fragmentation on JAX backend.\n",
    "os.environ[\"XLA_PYTHON_CLIENT_MEM_FRACTION\"] = \"1.00\""
   ]
  },
  {
   "cell_type": "code",
   "execution_count": 2,
   "metadata": {
    "id": "zHs7wpZusEML"
   },
   "outputs": [
    {
     "name": "stderr",
     "output_type": "stream",
     "text": [
      "2024-11-23 05:21:53.145698: E external/local_xla/xla/stream_executor/cuda/cuda_fft.cc:485] Unable to register cuFFT factory: Attempting to register factory for plugin cuFFT when one has already been registered\n",
      "2024-11-23 05:21:53.153446: E external/local_xla/xla/stream_executor/cuda/cuda_dnn.cc:8454] Unable to register cuDNN factory: Attempting to register factory for plugin cuDNN when one has already been registered\n",
      "2024-11-23 05:21:53.155774: E external/local_xla/xla/stream_executor/cuda/cuda_blas.cc:1452] Unable to register cuBLAS factory: Attempting to register factory for plugin cuBLAS when one has already been registered\n"
     ]
    }
   ],
   "source": [
    "import keras_hub\n",
    "import keras\n",
    "from keras import ops\n",
    "import pandas as pd\n",
    "from sklearn.model_selection import train_test_split\n",
    "\n",
    "# Run at half precision.\n",
    "#keras.config.set_floatx(\"bfloat16\")\n",
    "\n",
    "# Training Configurations\n",
    "token_limit = 4096\n",
    "lora_name = \"cm_qna\"\n",
    "lora_rank = 4\n",
    "lr_value = 1e-4\n",
    "train_epoch = 20\n",
    "model_id = \"gemma2_instruct_2b_en\"\n",
    "# model_id = \"gemma_1.1_instruct_2b_en\""
   ]
  },
  {
   "cell_type": "code",
   "execution_count": 3,
   "metadata": {},
   "outputs": [],
   "source": [
    "import time\n",
    "tick_start = 0\n",
    "\n",
    "def tick():\n",
    "    global tick_start\n",
    "    tick_start = time.time()\n",
    "\n",
    "def tock():\n",
    "    print(f\"TOTAL TIME ELAPSED: {time.time() - tick_start:.2f}s\")\n",
    "\n",
    "# formatting utility\n",
    "from IPython.display import Markdown\n",
    "import textwrap\n",
    "\n",
    "def display_chat(prompt, text):\n",
    "  formatted_prompt = \"<font size='+1' color='#1E90FF'>🧑‍💻<blockquote>\" + prompt + \"</blockquote></font>\"\n",
    "  text = text.replace('•', '  *')\n",
    "  text = text.replace('$', '\\$') # necessary escaping in Jupyter markdown\n",
    "  text = textwrap.indent(text, '> ', predicate=lambda _: True)\n",
    "  formatted_text = \"<font size='+1' color='#32CD32'>🤖\\n\\n\" + text + \"\\n\\n</font>\"\n",
    "  return Markdown(formatted_prompt+formatted_text)\n",
    "\n",
    "\n",
    "def rewire_for_cleaner_plot(model):\n",
    "\n",
    "  def call_fn(layer, *args, **kwargs):\n",
    "    if layer.__class__.__name__.endswith('DecoderBlock'):\n",
    "      kwargs.pop(\"padding_mask\")\n",
    "    return layer(*args, **kwargs)\n",
    "\n",
    "  model = keras.models.clone_model(model, call_function=call_fn, clone_function=lambda x:x)\n",
    "  input = model.input.copy()\n",
    "  input.pop(\"padding_mask\")\n",
    "  return keras.Model(input, model.output)"
   ]
  },
  {
   "cell_type": "code",
   "execution_count": 4,
   "metadata": {},
   "outputs": [],
   "source": [
    "__START_TURN_USER__ = \"<start_of_turn>user\\n\"\n",
    "__START_TURN_MODEL__ = \"<start_of_turn>model\\n\"\n",
    "__END_TURN__ = \"<end_of_turn>\\n\"\n",
    "system_prompt = '你是財經小博士。財經小博士是一位對財經領域非常熱衷的人，你擁有豐富的財經知識和經驗。你的使命是通過寫作和分享知識，幫助人們更好地了解和應對財經問題。無論用戶是新手還是老手，只要他有任何關於財經領域的問題，財經小博士都能幫助用戶解答。請你幫助用戶解答以下問題:'\n",
    "\n",
    "# chat utility\n",
    "class ChatState():\n",
    "    \n",
    "  def __init__(self, model, system=\"\"):\n",
    "    self.model = model\n",
    "    self.system = system\n",
    "    self.history = []\n",
    "    if len(self.system)>0:\n",
    "        self.history.append(__START_TURN_USER__ + self.system + \"\\n\")\n",
    "\n",
    "  def add_to_history_as_user(self, message):\n",
    "      self.history.append(__START_TURN_USER__ + message + __END_TURN__)\n",
    "\n",
    "  def add_to_history_as_model(self, message):\n",
    "      self.history.append(__START_TURN_MODEL__ + message + __END_TURN__)\n",
    "\n",
    "  def get_history(self):\n",
    "      return \"\".join([*self.history])\n",
    "\n",
    "  def get_full_prompt(self):\n",
    "    prompt = self.get_history() + __START_TURN_MODEL__\n",
    "    return prompt\n",
    "\n",
    "  def send_message(self, message):\n",
    "    tick()\n",
    "    if len(self.system)>0 and len(self.history) == 1:\n",
    "        self.history[0] = self.history[0] + message + __END_TURN__\n",
    "    else:\n",
    "        self.add_to_history_as_user(message)\n",
    "    prompt = self.get_full_prompt()\n",
    "    response = self.model.generate(prompt, max_length=token_limit)\n",
    "    result = response.replace(prompt, \"\")\n",
    "    self.add_to_history_as_model(result)\n",
    "    tock()\n",
    "    return result"
   ]
  },
  {
   "cell_type": "markdown",
   "metadata": {
    "id": "kUl0t469YfQY"
   },
   "source": [
    "## 載入模型"
   ]
  },
  {
   "cell_type": "code",
   "execution_count": 5,
   "metadata": {
    "id": "Gm4jIEqmYfQY"
   },
   "outputs": [
    {
     "name": "stderr",
     "output_type": "stream",
     "text": [
      "WARNING: All log messages before absl::InitializeLog() is called are written to STDERR\n",
      "I0000 00:00:1732348797.839380  182119 cuda_executor.cc:1015] successful NUMA node read from SysFS had negative value (-1), but there must be at least one NUMA node, so returning NUMA node zero. See more at https://github.com/torvalds/linux/blob/v6.0/Documentation/ABI/testing/sysfs-bus-pci#L344-L355\n",
      "I0000 00:00:1732348797.844120  182119 cuda_executor.cc:1015] successful NUMA node read from SysFS had negative value (-1), but there must be at least one NUMA node, so returning NUMA node zero. See more at https://github.com/torvalds/linux/blob/v6.0/Documentation/ABI/testing/sysfs-bus-pci#L344-L355\n",
      "I0000 00:00:1732348797.845310  182119 cuda_executor.cc:1015] successful NUMA node read from SysFS had negative value (-1), but there must be at least one NUMA node, so returning NUMA node zero. See more at https://github.com/torvalds/linux/blob/v6.0/Documentation/ABI/testing/sysfs-bus-pci#L344-L355\n",
      "I0000 00:00:1732348797.848099  182119 cuda_executor.cc:1015] successful NUMA node read from SysFS had negative value (-1), but there must be at least one NUMA node, so returning NUMA node zero. See more at https://github.com/torvalds/linux/blob/v6.0/Documentation/ABI/testing/sysfs-bus-pci#L344-L355\n",
      "I0000 00:00:1732348797.849307  182119 cuda_executor.cc:1015] successful NUMA node read from SysFS had negative value (-1), but there must be at least one NUMA node, so returning NUMA node zero. See more at https://github.com/torvalds/linux/blob/v6.0/Documentation/ABI/testing/sysfs-bus-pci#L344-L355\n",
      "I0000 00:00:1732348797.850440  182119 cuda_executor.cc:1015] successful NUMA node read from SysFS had negative value (-1), but there must be at least one NUMA node, so returning NUMA node zero. See more at https://github.com/torvalds/linux/blob/v6.0/Documentation/ABI/testing/sysfs-bus-pci#L344-L355\n",
      "I0000 00:00:1732348797.854796  182119 cuda_executor.cc:1015] successful NUMA node read from SysFS had negative value (-1), but there must be at least one NUMA node, so returning NUMA node zero. See more at https://github.com/torvalds/linux/blob/v6.0/Documentation/ABI/testing/sysfs-bus-pci#L344-L355\n",
      "I0000 00:00:1732348797.856003  182119 cuda_executor.cc:1015] successful NUMA node read from SysFS had negative value (-1), but there must be at least one NUMA node, so returning NUMA node zero. See more at https://github.com/torvalds/linux/blob/v6.0/Documentation/ABI/testing/sysfs-bus-pci#L344-L355\n",
      "2024-11-23 07:59:57.857166: W tensorflow/core/common_runtime/gpu/gpu_bfc_allocator.cc:47] Overriding orig_value setting because the TF_FORCE_GPU_ALLOW_GROWTH environment variable is set. Original config value was 0.\n",
      "I0000 00:00:1732348797.857191  182119 cuda_executor.cc:1015] successful NUMA node read from SysFS had negative value (-1), but there must be at least one NUMA node, so returning NUMA node zero. See more at https://github.com/torvalds/linux/blob/v6.0/Documentation/ABI/testing/sysfs-bus-pci#L344-L355\n",
      "normalizer.cc(51) LOG(INFO) precompiled_charsmap is empty. use identity normalization.\n"
     ]
    },
    {
     "data": {
      "text/html": [
       "<pre style=\"white-space:pre;overflow-x:auto;line-height:normal;font-family:Menlo,'DejaVu Sans Mono',consolas,'Courier New',monospace\"><span style=\"font-weight: bold\">Preprocessor: \"gemma_causal_lm_preprocessor\"</span>\n",
       "</pre>\n"
      ],
      "text/plain": [
       "\u001b[1mPreprocessor: \"gemma_causal_lm_preprocessor\"\u001b[0m\n"
      ]
     },
     "metadata": {},
     "output_type": "display_data"
    },
    {
     "data": {
      "text/html": [
       "<pre style=\"white-space:pre;overflow-x:auto;line-height:normal;font-family:Menlo,'DejaVu Sans Mono',consolas,'Courier New',monospace\">┏━━━━━━━━━━━━━━━━━━━━━━━━━━━━━━━━━━━━━━━━━━━━━━━━━━━━━━━━━━━━━━━┳━━━━━━━━━━━━━━━━━━━━━━━━━━━━━━━━━━━━━━━━━━┓\n",
       "┃<span style=\"font-weight: bold\"> Layer (type)                                                  </span>┃<span style=\"font-weight: bold\">                                   Config </span>┃\n",
       "┡━━━━━━━━━━━━━━━━━━━━━━━━━━━━━━━━━━━━━━━━━━━━━━━━━━━━━━━━━━━━━━━╇━━━━━━━━━━━━━━━━━━━━━━━━━━━━━━━━━━━━━━━━━━┩\n",
       "│ gemma_tokenizer (<span style=\"color: #0087ff; text-decoration-color: #0087ff\">GemmaTokenizer</span>)                              │                      Vocab size: <span style=\"color: #00af00; text-decoration-color: #00af00\">256,000</span> │\n",
       "└───────────────────────────────────────────────────────────────┴──────────────────────────────────────────┘\n",
       "</pre>\n"
      ],
      "text/plain": [
       "┏━━━━━━━━━━━━━━━━━━━━━━━━━━━━━━━━━━━━━━━━━━━━━━━━━━━━━━━━━━━━━━━┳━━━━━━━━━━━━━━━━━━━━━━━━━━━━━━━━━━━━━━━━━━┓\n",
       "┃\u001b[1m \u001b[0m\u001b[1mLayer (type)                                                 \u001b[0m\u001b[1m \u001b[0m┃\u001b[1m \u001b[0m\u001b[1m                                  Config\u001b[0m\u001b[1m \u001b[0m┃\n",
       "┡━━━━━━━━━━━━━━━━━━━━━━━━━━━━━━━━━━━━━━━━━━━━━━━━━━━━━━━━━━━━━━━╇━━━━━━━━━━━━━━━━━━━━━━━━━━━━━━━━━━━━━━━━━━┩\n",
       "│ gemma_tokenizer (\u001b[38;5;33mGemmaTokenizer\u001b[0m)                              │                      Vocab size: \u001b[38;5;34m256,000\u001b[0m │\n",
       "└───────────────────────────────────────────────────────────────┴──────────────────────────────────────────┘\n"
      ]
     },
     "metadata": {},
     "output_type": "display_data"
    },
    {
     "data": {
      "text/html": [
       "<pre style=\"white-space:pre;overflow-x:auto;line-height:normal;font-family:Menlo,'DejaVu Sans Mono',consolas,'Courier New',monospace\"><span style=\"font-weight: bold\">Model: \"gemma_causal_lm\"</span>\n",
       "</pre>\n"
      ],
      "text/plain": [
       "\u001b[1mModel: \"gemma_causal_lm\"\u001b[0m\n"
      ]
     },
     "metadata": {},
     "output_type": "display_data"
    },
    {
     "data": {
      "text/html": [
       "<pre style=\"white-space:pre;overflow-x:auto;line-height:normal;font-family:Menlo,'DejaVu Sans Mono',consolas,'Courier New',monospace\">┏━━━━━━━━━━━━━━━━━━━━━━━━━━━━━━━┳━━━━━━━━━━━━━━━━━━━━━━━━━━━┳━━━━━━━━━━━━━━━━━┳━━━━━━━━━━━━━━━━━━━━━━━━━━━━┓\n",
       "┃<span style=\"font-weight: bold\"> Layer (type)                  </span>┃<span style=\"font-weight: bold\"> Output Shape              </span>┃<span style=\"font-weight: bold\">         Param # </span>┃<span style=\"font-weight: bold\"> Connected to               </span>┃\n",
       "┡━━━━━━━━━━━━━━━━━━━━━━━━━━━━━━━╇━━━━━━━━━━━━━━━━━━━━━━━━━━━╇━━━━━━━━━━━━━━━━━╇━━━━━━━━━━━━━━━━━━━━━━━━━━━━┩\n",
       "│ padding_mask (<span style=\"color: #0087ff; text-decoration-color: #0087ff\">InputLayer</span>)     │ (<span style=\"color: #00d7ff; text-decoration-color: #00d7ff\">None</span>, <span style=\"color: #00d7ff; text-decoration-color: #00d7ff\">None</span>)              │               <span style=\"color: #00af00; text-decoration-color: #00af00\">0</span> │ -                          │\n",
       "├───────────────────────────────┼───────────────────────────┼─────────────────┼────────────────────────────┤\n",
       "│ token_ids (<span style=\"color: #0087ff; text-decoration-color: #0087ff\">InputLayer</span>)        │ (<span style=\"color: #00d7ff; text-decoration-color: #00d7ff\">None</span>, <span style=\"color: #00d7ff; text-decoration-color: #00d7ff\">None</span>)              │               <span style=\"color: #00af00; text-decoration-color: #00af00\">0</span> │ -                          │\n",
       "├───────────────────────────────┼───────────────────────────┼─────────────────┼────────────────────────────┤\n",
       "│ gemma_backbone                │ (<span style=\"color: #00d7ff; text-decoration-color: #00d7ff\">None</span>, <span style=\"color: #00d7ff; text-decoration-color: #00d7ff\">None</span>, <span style=\"color: #00af00; text-decoration-color: #00af00\">2304</span>)        │   <span style=\"color: #00af00; text-decoration-color: #00af00\">2,614,341,888</span> │ padding_mask[<span style=\"color: #00af00; text-decoration-color: #00af00\">0</span>][<span style=\"color: #00af00; text-decoration-color: #00af00\">0</span>],        │\n",
       "│ (<span style=\"color: #0087ff; text-decoration-color: #0087ff\">GemmaBackbone</span>)               │                           │                 │ token_ids[<span style=\"color: #00af00; text-decoration-color: #00af00\">0</span>][<span style=\"color: #00af00; text-decoration-color: #00af00\">0</span>]            │\n",
       "├───────────────────────────────┼───────────────────────────┼─────────────────┼────────────────────────────┤\n",
       "│ token_embedding               │ (<span style=\"color: #00d7ff; text-decoration-color: #00d7ff\">None</span>, <span style=\"color: #00d7ff; text-decoration-color: #00d7ff\">None</span>, <span style=\"color: #00af00; text-decoration-color: #00af00\">256000</span>)      │     <span style=\"color: #00af00; text-decoration-color: #00af00\">589,824,000</span> │ gemma_backbone[<span style=\"color: #00af00; text-decoration-color: #00af00\">0</span>][<span style=\"color: #00af00; text-decoration-color: #00af00\">0</span>]       │\n",
       "│ (<span style=\"color: #0087ff; text-decoration-color: #0087ff\">ReversibleEmbedding</span>)         │                           │                 │                            │\n",
       "└───────────────────────────────┴───────────────────────────┴─────────────────┴────────────────────────────┘\n",
       "</pre>\n"
      ],
      "text/plain": [
       "┏━━━━━━━━━━━━━━━━━━━━━━━━━━━━━━━┳━━━━━━━━━━━━━━━━━━━━━━━━━━━┳━━━━━━━━━━━━━━━━━┳━━━━━━━━━━━━━━━━━━━━━━━━━━━━┓\n",
       "┃\u001b[1m \u001b[0m\u001b[1mLayer (type)                 \u001b[0m\u001b[1m \u001b[0m┃\u001b[1m \u001b[0m\u001b[1mOutput Shape             \u001b[0m\u001b[1m \u001b[0m┃\u001b[1m \u001b[0m\u001b[1m        Param #\u001b[0m\u001b[1m \u001b[0m┃\u001b[1m \u001b[0m\u001b[1mConnected to              \u001b[0m\u001b[1m \u001b[0m┃\n",
       "┡━━━━━━━━━━━━━━━━━━━━━━━━━━━━━━━╇━━━━━━━━━━━━━━━━━━━━━━━━━━━╇━━━━━━━━━━━━━━━━━╇━━━━━━━━━━━━━━━━━━━━━━━━━━━━┩\n",
       "│ padding_mask (\u001b[38;5;33mInputLayer\u001b[0m)     │ (\u001b[38;5;45mNone\u001b[0m, \u001b[38;5;45mNone\u001b[0m)              │               \u001b[38;5;34m0\u001b[0m │ -                          │\n",
       "├───────────────────────────────┼───────────────────────────┼─────────────────┼────────────────────────────┤\n",
       "│ token_ids (\u001b[38;5;33mInputLayer\u001b[0m)        │ (\u001b[38;5;45mNone\u001b[0m, \u001b[38;5;45mNone\u001b[0m)              │               \u001b[38;5;34m0\u001b[0m │ -                          │\n",
       "├───────────────────────────────┼───────────────────────────┼─────────────────┼────────────────────────────┤\n",
       "│ gemma_backbone                │ (\u001b[38;5;45mNone\u001b[0m, \u001b[38;5;45mNone\u001b[0m, \u001b[38;5;34m2304\u001b[0m)        │   \u001b[38;5;34m2,614,341,888\u001b[0m │ padding_mask[\u001b[38;5;34m0\u001b[0m][\u001b[38;5;34m0\u001b[0m],        │\n",
       "│ (\u001b[38;5;33mGemmaBackbone\u001b[0m)               │                           │                 │ token_ids[\u001b[38;5;34m0\u001b[0m][\u001b[38;5;34m0\u001b[0m]            │\n",
       "├───────────────────────────────┼───────────────────────────┼─────────────────┼────────────────────────────┤\n",
       "│ token_embedding               │ (\u001b[38;5;45mNone\u001b[0m, \u001b[38;5;45mNone\u001b[0m, \u001b[38;5;34m256000\u001b[0m)      │     \u001b[38;5;34m589,824,000\u001b[0m │ gemma_backbone[\u001b[38;5;34m0\u001b[0m][\u001b[38;5;34m0\u001b[0m]       │\n",
       "│ (\u001b[38;5;33mReversibleEmbedding\u001b[0m)         │                           │                 │                            │\n",
       "└───────────────────────────────┴───────────────────────────┴─────────────────┴────────────────────────────┘\n"
      ]
     },
     "metadata": {},
     "output_type": "display_data"
    },
    {
     "data": {
      "text/html": [
       "<pre style=\"white-space:pre;overflow-x:auto;line-height:normal;font-family:Menlo,'DejaVu Sans Mono',consolas,'Courier New',monospace\"><span style=\"font-weight: bold\"> Total params: </span><span style=\"color: #00af00; text-decoration-color: #00af00\">2,614,341,888</span> (9.74 GB)\n",
       "</pre>\n"
      ],
      "text/plain": [
       "\u001b[1m Total params: \u001b[0m\u001b[38;5;34m2,614,341,888\u001b[0m (9.74 GB)\n"
      ]
     },
     "metadata": {},
     "output_type": "display_data"
    },
    {
     "data": {
      "text/html": [
       "<pre style=\"white-space:pre;overflow-x:auto;line-height:normal;font-family:Menlo,'DejaVu Sans Mono',consolas,'Courier New',monospace\"><span style=\"font-weight: bold\"> Trainable params: </span><span style=\"color: #00af00; text-decoration-color: #00af00\">2,614,341,888</span> (9.74 GB)\n",
       "</pre>\n"
      ],
      "text/plain": [
       "\u001b[1m Trainable params: \u001b[0m\u001b[38;5;34m2,614,341,888\u001b[0m (9.74 GB)\n"
      ]
     },
     "metadata": {},
     "output_type": "display_data"
    },
    {
     "data": {
      "text/html": [
       "<pre style=\"white-space:pre;overflow-x:auto;line-height:normal;font-family:Menlo,'DejaVu Sans Mono',consolas,'Courier New',monospace\"><span style=\"font-weight: bold\"> Non-trainable params: </span><span style=\"color: #00af00; text-decoration-color: #00af00\">0</span> (0.00 B)\n",
       "</pre>\n"
      ],
      "text/plain": [
       "\u001b[1m Non-trainable params: \u001b[0m\u001b[38;5;34m0\u001b[0m (0.00 B)\n"
      ]
     },
     "metadata": {},
     "output_type": "display_data"
    }
   ],
   "source": [
    "gemma_lm = keras_hub.models.GemmaCausalLM.from_preset(model_id)\n",
    "gemma_lm.summary()"
   ]
  },
  {
   "cell_type": "code",
   "execution_count": 6,
   "metadata": {},
   "outputs": [
    {
     "name": "stderr",
     "output_type": "stream",
     "text": [
      "2024-11-23 08:00:01.378273: E tensorflow/core/util/util.cc:131] oneDNN supports DT_INT64 only on platforms with AVX-512. Falling back to the default Eigen-based implementation if present.\n"
     ]
    },
    {
     "name": "stdout",
     "output_type": "stream",
     "text": [
      "TOTAL TIME ELAPSED: 16.65s\n"
     ]
    },
    {
     "data": {
      "text/markdown": [
       "<font size='+1' color='#1E90FF'>🧑‍💻<blockquote>什麼是股票?</blockquote></font><font size='+1' color='#32CD32'>🤖\n",
       "\n",
       "> **股票**是一種代表公司權益的證券，它允許投資者擁有公司部分所有權。\n",
       "> \n",
       "> **股票的特性：**\n",
       "> \n",
       "> * **權益代表:** 股票代表了公司所有權的一部分，投資者擁有公司所有權的一部分。\n",
       "> * **價值變動:** 股票價格會隨著公司業績、市場趨勢和其他因素而變動。\n",
       "> * **利潤:** 投資者可以通過股票的價格變動獲利，例如賣出股票賺取差額。\n",
       "> * **風險:** 股票價格的波動也意味著投資風險，投資者可能損失部分或全部投資。\n",
       "> \n",
       "> **股票的種類：**\n",
       "> \n",
       "> * **普通股:** 擁有公司所有權，並享有公司決策權，但通常沒有優先權利。\n",
       "> * **優先股:** 擁有優先權利，例如優先於普通股獲得股利和公司財產。\n",
       "> * **增值股:** 擁有公司所有權，並享有公司決策權，但通常沒有優先權利。\n",
       "> \n",
       "> **股票交易：**\n",
       "> \n",
       "> * **股票交易平台:** 投資者可以在股票交易平台上購買和出售股票。\n",
       "> * **股票市場:** 股票市場是股票交易的平台，例如紐約證券交易所、東京證券交易所等。\n",
       "> * **股票 broker:** 股票 broker 可以幫助投資者購買和出售股票。\n",
       "> \n",
       "> **股票投資的風險和益處：**\n",
       "> \n",
       "> **風險:**\n",
       "> \n",
       "> * **市場風險:** 股票價格的波動會影響投資者的收益。\n",
       "> * **公司風險:** 公司業績、競爭和其他因素會影響股票價格。\n",
       "> * **投資風險:** 投資者可能損失部分或全部投資。\n",
       "> \n",
       "> **益處:**\n",
       "> \n",
       "> * **高收益:** 股票投資可能提供高收益，但風險也相對較高。\n",
       "> * **長期投資:** 股票投資可以作為長期投資策略，幫助投資者累積財富。\n",
       "> * **分散投資:** 投資股票可以分散投資風險，避免單一投資的風險。\n",
       "> \n",
       "> **總結:**\n",
       "> \n",
       "> 股票是一種投資工具，可以幫助投資者獲利，但同時也存在風險。投資股票需要了解市場、公司和投資策略，並做好風險管理。\n",
       "> \n",
       "> \n",
       "> <end_of_turn>\n",
       "\n",
       "</font>"
      ],
      "text/plain": [
       "<IPython.core.display.Markdown object>"
      ]
     },
     "execution_count": 6,
     "metadata": {},
     "output_type": "execute_result"
    }
   ],
   "source": [
    "chat = ChatState(gemma_lm)\n",
    "message = \"什麼是股票?\"\n",
    "display_chat(message, chat.send_message(message))"
   ]
  },
  {
   "cell_type": "markdown",
   "metadata": {},
   "source": [
    "## Demo #2"
   ]
  },
  {
   "cell_type": "markdown",
   "metadata": {
    "id": "9T7xe_jzslv4"
   },
   "source": [
    "## Load Dataset"
   ]
  },
  {
   "cell_type": "code",
   "execution_count": 24,
   "metadata": {
    "id": "ZiS-KU9osh_N"
   },
   "outputs": [
    {
     "name": "stdout",
     "output_type": "stream",
     "text": [
      "Total token size is: 94191\n",
      "Training data size is: 675\n",
      "Training example:\n",
      "<start_of_turn>user\n",
      "你是財經小博士。財經小博士是一位對財經領域非常熱衷的人，你擁有豐富的財經知識和經驗。你的使命是通過寫作和分享知識，幫助人們更好地了解和應對財經問題。無論用戶是新手還是老手，只要他有任何關於財經領域的問題，財經小博士都能幫助用戶解答。請你幫助用戶解答以下問題:\n",
      "\"什麼是股票?\"<end_of_turn>\n",
      "<start_of_turn>model\n",
      "股票是公司為籌集資金而發行的證券，代表著股東對公司的所有權和權益。<end_of_turn>\n"
     ]
    }
   ],
   "source": [
    "tokenizer = keras_hub.models.GemmaTokenizer.from_preset(model_id)\n",
    "\n",
    "# prompt structure\n",
    "# <start_of_turn>user\n",
    "# 你是財經小博士。財經小博士是一位對財經領域非常熱衷的人，你擁有豐富的財經知識和經驗。\n",
    "# 你的使命是通過寫作和分享知識，幫助人們更好地了解和應對財經問題。\n",
    "# 無論用戶是新手還是老手，只要他有任何關於財經領域的問題，財經小博士都能幫助用戶解答。\n",
    "# 請你幫助用戶解答以下問題。\n",
    "# \"{用戶的問題}\"\n",
    "# <end_of_turn>\n",
    "# <start_of_turn>model\n",
    "# {模型的回答}<end_of_turn>\n",
    "\n",
    "\n",
    "ds = pd.read_csv('finance_wiki.csv')\n",
    "inputs = ds['questions'].to_numpy('str_')\n",
    "outputs = ds['answers'].to_numpy('str_')\n",
    "\n",
    "X_train, X_test, y_train, y_test = train_test_split(inputs, outputs, test_size=0.2, random_state=42)\n",
    "# print(X_train[:5])\n",
    "\n",
    "# data = ds.with_format(\"np\", columns=[\"input\", \"output\"], output_all_columns=False)\n",
    "data = {\"input\": X_train, \"output\": X_test}\n",
    "train = []\n",
    "\n",
    "system_prompt = '你是財經小博士。財經小博士是一位對財經領域非常熱衷的人，你擁有豐富的財經知識和經驗。你的使命是通過寫作和分享知識，幫助人們更好地了解和應對財經問題。無論用戶是新手還是老手，只要他有任何關於財經領域的問題，財經小博士都能幫助用戶解答。請你幫助用戶解答以下問題:'\n",
    "\n",
    "total_token_size = 0\n",
    "for x, y in zip(inputs, outputs):\n",
    "    item = f\"<start_of_turn>user\\n{system_prompt}\\n\\\"{x}\\\"<end_of_turn>\\n<start_of_turn>model\\n{y}<end_of_turn>\"\n",
    "    token_length = len(tokenizer(item))\n",
    "    total_token_size += token_length\n",
    "    train.append(item)\n",
    "\n",
    "print(f'Total token size is: {total_token_size}')\n",
    "print(f'Training data size is: {len(train)}')\n",
    "print('Training example:')\n",
    "print(train[0])"
   ]
  },
  {
   "cell_type": "markdown",
   "metadata": {
    "id": "Pt7Nr6a7tItO"
   },
   "source": [
    "## LoRA Fine-tuning"
   ]
  },
  {
   "cell_type": "code",
   "execution_count": 7,
   "metadata": {
    "id": "RCucu6oHz53G"
   },
   "outputs": [
    {
     "data": {
      "text/html": [
       "<pre style=\"white-space:pre;overflow-x:auto;line-height:normal;font-family:Menlo,'DejaVu Sans Mono',consolas,'Courier New',monospace\"><span style=\"font-weight: bold\">Preprocessor: \"gemma_causal_lm_preprocessor\"</span>\n",
       "</pre>\n"
      ],
      "text/plain": [
       "\u001b[1mPreprocessor: \"gemma_causal_lm_preprocessor\"\u001b[0m\n"
      ]
     },
     "metadata": {},
     "output_type": "display_data"
    },
    {
     "data": {
      "text/html": [
       "<pre style=\"white-space:pre;overflow-x:auto;line-height:normal;font-family:Menlo,'DejaVu Sans Mono',consolas,'Courier New',monospace\">┏━━━━━━━━━━━━━━━━━━━━━━━━━━━━━━━━━━━━━━━━━━━━━━━━━━━━━━━━━━━━━━━┳━━━━━━━━━━━━━━━━━━━━━━━━━━━━━━━━━━━━━━━━━━┓\n",
       "┃<span style=\"font-weight: bold\"> Layer (type)                                                  </span>┃<span style=\"font-weight: bold\">                                   Config </span>┃\n",
       "┡━━━━━━━━━━━━━━━━━━━━━━━━━━━━━━━━━━━━━━━━━━━━━━━━━━━━━━━━━━━━━━━╇━━━━━━━━━━━━━━━━━━━━━━━━━━━━━━━━━━━━━━━━━━┩\n",
       "│ gemma_tokenizer (<span style=\"color: #0087ff; text-decoration-color: #0087ff\">GemmaTokenizer</span>)                              │                      Vocab size: <span style=\"color: #00af00; text-decoration-color: #00af00\">256,000</span> │\n",
       "└───────────────────────────────────────────────────────────────┴──────────────────────────────────────────┘\n",
       "</pre>\n"
      ],
      "text/plain": [
       "┏━━━━━━━━━━━━━━━━━━━━━━━━━━━━━━━━━━━━━━━━━━━━━━━━━━━━━━━━━━━━━━━┳━━━━━━━━━━━━━━━━━━━━━━━━━━━━━━━━━━━━━━━━━━┓\n",
       "┃\u001b[1m \u001b[0m\u001b[1mLayer (type)                                                 \u001b[0m\u001b[1m \u001b[0m┃\u001b[1m \u001b[0m\u001b[1m                                  Config\u001b[0m\u001b[1m \u001b[0m┃\n",
       "┡━━━━━━━━━━━━━━━━━━━━━━━━━━━━━━━━━━━━━━━━━━━━━━━━━━━━━━━━━━━━━━━╇━━━━━━━━━━━━━━━━━━━━━━━━━━━━━━━━━━━━━━━━━━┩\n",
       "│ gemma_tokenizer (\u001b[38;5;33mGemmaTokenizer\u001b[0m)                              │                      Vocab size: \u001b[38;5;34m256,000\u001b[0m │\n",
       "└───────────────────────────────────────────────────────────────┴──────────────────────────────────────────┘\n"
      ]
     },
     "metadata": {},
     "output_type": "display_data"
    },
    {
     "data": {
      "text/html": [
       "<pre style=\"white-space:pre;overflow-x:auto;line-height:normal;font-family:Menlo,'DejaVu Sans Mono',consolas,'Courier New',monospace\"><span style=\"font-weight: bold\">Model: \"gemma_causal_lm\"</span>\n",
       "</pre>\n"
      ],
      "text/plain": [
       "\u001b[1mModel: \"gemma_causal_lm\"\u001b[0m\n"
      ]
     },
     "metadata": {},
     "output_type": "display_data"
    },
    {
     "data": {
      "text/html": [
       "<pre style=\"white-space:pre;overflow-x:auto;line-height:normal;font-family:Menlo,'DejaVu Sans Mono',consolas,'Courier New',monospace\">┏━━━━━━━━━━━━━━━━━━━━━━━━━━━━━━━┳━━━━━━━━━━━━━━━━━━━━━━━━━━━┳━━━━━━━━━━━━━━━━━┳━━━━━━━━━━━━━━━━━━━━━━━━━━━━┓\n",
       "┃<span style=\"font-weight: bold\"> Layer (type)                  </span>┃<span style=\"font-weight: bold\"> Output Shape              </span>┃<span style=\"font-weight: bold\">         Param # </span>┃<span style=\"font-weight: bold\"> Connected to               </span>┃\n",
       "┡━━━━━━━━━━━━━━━━━━━━━━━━━━━━━━━╇━━━━━━━━━━━━━━━━━━━━━━━━━━━╇━━━━━━━━━━━━━━━━━╇━━━━━━━━━━━━━━━━━━━━━━━━━━━━┩\n",
       "│ padding_mask (<span style=\"color: #0087ff; text-decoration-color: #0087ff\">InputLayer</span>)     │ (<span style=\"color: #00d7ff; text-decoration-color: #00d7ff\">None</span>, <span style=\"color: #00d7ff; text-decoration-color: #00d7ff\">None</span>)              │               <span style=\"color: #00af00; text-decoration-color: #00af00\">0</span> │ -                          │\n",
       "├───────────────────────────────┼───────────────────────────┼─────────────────┼────────────────────────────┤\n",
       "│ token_ids (<span style=\"color: #0087ff; text-decoration-color: #0087ff\">InputLayer</span>)        │ (<span style=\"color: #00d7ff; text-decoration-color: #00d7ff\">None</span>, <span style=\"color: #00d7ff; text-decoration-color: #00d7ff\">None</span>)              │               <span style=\"color: #00af00; text-decoration-color: #00af00\">0</span> │ -                          │\n",
       "├───────────────────────────────┼───────────────────────────┼─────────────────┼────────────────────────────┤\n",
       "│ gemma_backbone                │ (<span style=\"color: #00d7ff; text-decoration-color: #00d7ff\">None</span>, <span style=\"color: #00d7ff; text-decoration-color: #00d7ff\">None</span>, <span style=\"color: #00af00; text-decoration-color: #00af00\">2304</span>)        │   <span style=\"color: #00af00; text-decoration-color: #00af00\">2,617,270,528</span> │ padding_mask[<span style=\"color: #00af00; text-decoration-color: #00af00\">0</span>][<span style=\"color: #00af00; text-decoration-color: #00af00\">0</span>],        │\n",
       "│ (<span style=\"color: #0087ff; text-decoration-color: #0087ff\">GemmaBackbone</span>)               │                           │                 │ token_ids[<span style=\"color: #00af00; text-decoration-color: #00af00\">0</span>][<span style=\"color: #00af00; text-decoration-color: #00af00\">0</span>]            │\n",
       "├───────────────────────────────┼───────────────────────────┼─────────────────┼────────────────────────────┤\n",
       "│ token_embedding               │ (<span style=\"color: #00d7ff; text-decoration-color: #00d7ff\">None</span>, <span style=\"color: #00d7ff; text-decoration-color: #00d7ff\">None</span>, <span style=\"color: #00af00; text-decoration-color: #00af00\">256000</span>)      │     <span style=\"color: #00af00; text-decoration-color: #00af00\">589,824,000</span> │ gemma_backbone[<span style=\"color: #00af00; text-decoration-color: #00af00\">0</span>][<span style=\"color: #00af00; text-decoration-color: #00af00\">0</span>]       │\n",
       "│ (<span style=\"color: #0087ff; text-decoration-color: #0087ff\">ReversibleEmbedding</span>)         │                           │                 │                            │\n",
       "└───────────────────────────────┴───────────────────────────┴─────────────────┴────────────────────────────┘\n",
       "</pre>\n"
      ],
      "text/plain": [
       "┏━━━━━━━━━━━━━━━━━━━━━━━━━━━━━━━┳━━━━━━━━━━━━━━━━━━━━━━━━━━━┳━━━━━━━━━━━━━━━━━┳━━━━━━━━━━━━━━━━━━━━━━━━━━━━┓\n",
       "┃\u001b[1m \u001b[0m\u001b[1mLayer (type)                 \u001b[0m\u001b[1m \u001b[0m┃\u001b[1m \u001b[0m\u001b[1mOutput Shape             \u001b[0m\u001b[1m \u001b[0m┃\u001b[1m \u001b[0m\u001b[1m        Param #\u001b[0m\u001b[1m \u001b[0m┃\u001b[1m \u001b[0m\u001b[1mConnected to              \u001b[0m\u001b[1m \u001b[0m┃\n",
       "┡━━━━━━━━━━━━━━━━━━━━━━━━━━━━━━━╇━━━━━━━━━━━━━━━━━━━━━━━━━━━╇━━━━━━━━━━━━━━━━━╇━━━━━━━━━━━━━━━━━━━━━━━━━━━━┩\n",
       "│ padding_mask (\u001b[38;5;33mInputLayer\u001b[0m)     │ (\u001b[38;5;45mNone\u001b[0m, \u001b[38;5;45mNone\u001b[0m)              │               \u001b[38;5;34m0\u001b[0m │ -                          │\n",
       "├───────────────────────────────┼───────────────────────────┼─────────────────┼────────────────────────────┤\n",
       "│ token_ids (\u001b[38;5;33mInputLayer\u001b[0m)        │ (\u001b[38;5;45mNone\u001b[0m, \u001b[38;5;45mNone\u001b[0m)              │               \u001b[38;5;34m0\u001b[0m │ -                          │\n",
       "├───────────────────────────────┼───────────────────────────┼─────────────────┼────────────────────────────┤\n",
       "│ gemma_backbone                │ (\u001b[38;5;45mNone\u001b[0m, \u001b[38;5;45mNone\u001b[0m, \u001b[38;5;34m2304\u001b[0m)        │   \u001b[38;5;34m2,617,270,528\u001b[0m │ padding_mask[\u001b[38;5;34m0\u001b[0m][\u001b[38;5;34m0\u001b[0m],        │\n",
       "│ (\u001b[38;5;33mGemmaBackbone\u001b[0m)               │                           │                 │ token_ids[\u001b[38;5;34m0\u001b[0m][\u001b[38;5;34m0\u001b[0m]            │\n",
       "├───────────────────────────────┼───────────────────────────┼─────────────────┼────────────────────────────┤\n",
       "│ token_embedding               │ (\u001b[38;5;45mNone\u001b[0m, \u001b[38;5;45mNone\u001b[0m, \u001b[38;5;34m256000\u001b[0m)      │     \u001b[38;5;34m589,824,000\u001b[0m │ gemma_backbone[\u001b[38;5;34m0\u001b[0m][\u001b[38;5;34m0\u001b[0m]       │\n",
       "│ (\u001b[38;5;33mReversibleEmbedding\u001b[0m)         │                           │                 │                            │\n",
       "└───────────────────────────────┴───────────────────────────┴─────────────────┴────────────────────────────┘\n"
      ]
     },
     "metadata": {},
     "output_type": "display_data"
    },
    {
     "data": {
      "text/html": [
       "<pre style=\"white-space:pre;overflow-x:auto;line-height:normal;font-family:Menlo,'DejaVu Sans Mono',consolas,'Courier New',monospace\"><span style=\"font-weight: bold\"> Total params: </span><span style=\"color: #00af00; text-decoration-color: #00af00\">2,617,270,528</span> (9.75 GB)\n",
       "</pre>\n"
      ],
      "text/plain": [
       "\u001b[1m Total params: \u001b[0m\u001b[38;5;34m2,617,270,528\u001b[0m (9.75 GB)\n"
      ]
     },
     "metadata": {},
     "output_type": "display_data"
    },
    {
     "data": {
      "text/html": [
       "<pre style=\"white-space:pre;overflow-x:auto;line-height:normal;font-family:Menlo,'DejaVu Sans Mono',consolas,'Courier New',monospace\"><span style=\"font-weight: bold\"> Trainable params: </span><span style=\"color: #00af00; text-decoration-color: #00af00\">2,928,640</span> (11.17 MB)\n",
       "</pre>\n"
      ],
      "text/plain": [
       "\u001b[1m Trainable params: \u001b[0m\u001b[38;5;34m2,928,640\u001b[0m (11.17 MB)\n"
      ]
     },
     "metadata": {},
     "output_type": "display_data"
    },
    {
     "data": {
      "text/html": [
       "<pre style=\"white-space:pre;overflow-x:auto;line-height:normal;font-family:Menlo,'DejaVu Sans Mono',consolas,'Courier New',monospace\"><span style=\"font-weight: bold\"> Non-trainable params: </span><span style=\"color: #00af00; text-decoration-color: #00af00\">2,614,341,888</span> (9.74 GB)\n",
       "</pre>\n"
      ],
      "text/plain": [
       "\u001b[1m Non-trainable params: \u001b[0m\u001b[38;5;34m2,614,341,888\u001b[0m (9.74 GB)\n"
      ]
     },
     "metadata": {},
     "output_type": "display_data"
    }
   ],
   "source": [
    "# Enable LoRA for the model and set the LoRA rank to 4.\n",
    "gemma_lm.backbone.enable_lora(rank=lora_rank)\n",
    "gemma_lm.summary()\n",
    "\n",
    "# Limit the input sequence length (to control memory usage).\n",
    "gemma_lm.preprocessor.sequence_length = token_limit\n",
    "# Use AdamW (a common optimizer for transformer models).\n",
    "optimizer = keras.optimizers.AdamW(\n",
    "    learning_rate=lr_value,\n",
    "    weight_decay=0.01,\n",
    ")\n",
    "# Exclude layernorm and bias terms from decay.\n",
    "optimizer.exclude_from_weight_decay(var_names=[\"bias\", \"scale\"])\n",
    "\n",
    "gemma_lm.compile(\n",
    "    loss=keras.losses.SparseCategoricalCrossentropy(from_logits=True),\n",
    "    optimizer=optimizer,\n",
    "    weighted_metrics=[keras.metrics.SparseCategoricalAccuracy()],\n",
    ")"
   ]
  },
  {
   "cell_type": "markdown",
   "metadata": {
    "id": "hQQ47kcdpbZ9"
   },
   "source": [
    "Note that enabling LoRA reduces the number of trainable parameters significantly."
   ]
  },
  {
   "cell_type": "code",
   "execution_count": 54,
   "metadata": {
    "id": "26d9npFhAOSp"
   },
   "outputs": [
    {
     "name": "stdout",
     "output_type": "stream",
     "text": [
      "Epoch 1/20\n",
      "\u001b[1m50/50\u001b[0m \u001b[32m━━━━━━━━━━━━━━━━━━━━\u001b[0m\u001b[37m\u001b[0m \u001b[1m0s\u001b[0m 16s/step - loss: 0.9225 - sparse_categorical_accuracy: 0.4596 \n",
      "Gemma output:\n",
      "<start_of_turn>user\n",
      "你是財經小博士。財經小博士是一位對財經領域非常熱衷的人，你擁有豐富的財經知識和經驗。你的使命是通過寫作和分享知識，幫助人們更好地了解和應對財經問題。無論用戶是新手還是老手，只要他有任何關於財經領域的問題，財經小博士都能幫助用戶解答。請你幫助用戶解答以下問題。\n",
      "\"殖利率的優點是什麼？\"<end_of_turn>\n",
      "<start_of_turn>model\n",
      "殖利率的優點很多，主要體現在以下幾個方面：\n",
      "\n",
      "**1. 穩定性高：** 殖利率是投資者在投資期間獲得的利潤，它通常是固定或穩定，不會隨著市場波動而大幅變動。這使得殖利率成為一種較為穩定的投資收益來源。\n",
      "\n",
      "**2. 投資風險較低：** 殖利率通常與投資者的風險水平息息相關。投資者在選擇殖利率高的投資產品時，可以降低投資風險，因為殖利率通常與投資產品的穩定性息息相關。\n",
      "\n",
      "**3. 投資收益率較高：** 殖利率通常比其他投資收益率高，例如債券收益率或股票收益率。這使得殖利率成為一種較為吸引人的投資收益來源。\n",
      "\n",
      "**4. 投資收益率可預測：** 殖利率通常可以預測，這使得投資者可以更好地預測投資收益率。\n",
      "\n",
      "**5. 投資收益率可控制：** 殖利率通常可以控制，這使得投資者可以更好地控制投資收益率。\n",
      "\n",
      "總之，殖利率是一種較為穩定的投資收益來源，它可以幫助投資者降低投資風險，提高投資收益率。\n",
      "\n",
      "\n",
      "**需要注意的是，殖利率並不一定代表投資產品的優劣。** 殖利率只是投資產品的收益率之一，投資產品的優劣還需要考慮其他因素，例如投資產品的風險水平、投資產品的穩定性、投資產品的投資收益率等。\n",
      "\n",
      "\n",
      "希望以上信息對您有所幫助。<end_of_turn>\n",
      "TOTAL TIME ELAPSED: 196.04s\n",
      "\u001b[1m50/50\u001b[0m \u001b[32m━━━━━━━━━━━━━━━━━━━━\u001b[0m\u001b[37m\u001b[0m \u001b[1m1002s\u001b[0m 20s/step - loss: 0.9204 - sparse_categorical_accuracy: 0.4607\n",
      "Epoch 2/20\n",
      "\u001b[1m50/50\u001b[0m \u001b[32m━━━━━━━━━━━━━━━━━━━━\u001b[0m\u001b[37m\u001b[0m \u001b[1m0s\u001b[0m 16s/step - loss: 0.4429 - sparse_categorical_accuracy: 0.7145 \n",
      "Gemma output:\n",
      "<start_of_turn>user\n",
      "你是財經小博士。財經小博士是一位對財經領域非常熱衷的人，你擁有豐富的財經知識和經驗。你的使命是通過寫作和分享知識，幫助人們更好地了解和應對財經問題。無論用戶是新手還是老手，只要他有任何關於財經領域的問題，財經小博士都能幫助用戶解答。請你幫助用戶解答以下問題。\n",
      "\"殖利率的優點是什麼？\"<end_of_turn>\n",
      "<start_of_turn>model\n",
      "殖利率是指投資者在投資期間獲得的利潤率，通常以每年計算。殖利率的優點是它可以幫助投資者更好地了解投資的風險和收益。<end_of_turn>\n",
      "TOTAL TIME ELAPSED: 25.43s\n",
      "\u001b[1m50/50\u001b[0m \u001b[32m━━━━━━━━━━━━━━━━━━━━\u001b[0m\u001b[37m\u001b[0m \u001b[1m814s\u001b[0m 16s/step - loss: 0.4415 - sparse_categorical_accuracy: 0.7156\n",
      "Epoch 3/20\n",
      "\u001b[1m50/50\u001b[0m \u001b[32m━━━━━━━━━━━━━━━━━━━━\u001b[0m\u001b[37m\u001b[0m \u001b[1m0s\u001b[0m 16s/step - loss: 0.2260 - sparse_categorical_accuracy: 0.8638 \n",
      "Gemma output:\n",
      "<start_of_turn>user\n",
      "你是財經小博士。財經小博士是一位對財經領域非常熱衷的人，你擁有豐富的財經知識和經驗。你的使命是通過寫作和分享知識，幫助人們更好地了解和應對財經問題。無論用戶是新手還是老手，只要他有任何關於財經領域的問題，財經小博士都能幫助用戶解答。請你幫助用戶解答以下問題。\n",
      "\"殖利率的優點是什麼？\"<end_of_turn>\n",
      "<start_of_turn>model\n",
      "殖利率的優點是它可以幫助投資者更好地了解投資的風險和報酬。<end_of_turn>\n",
      "TOTAL TIME ELAPSED: 14.77s\n",
      "\u001b[1m50/50\u001b[0m \u001b[32m━━━━━━━━━━━━━━━━━━━━\u001b[0m\u001b[37m\u001b[0m \u001b[1m803s\u001b[0m 16s/step - loss: 0.2259 - sparse_categorical_accuracy: 0.8638\n",
      "Epoch 4/20\n",
      "\u001b[1m50/50\u001b[0m \u001b[32m━━━━━━━━━━━━━━━━━━━━\u001b[0m\u001b[37m\u001b[0m \u001b[1m0s\u001b[0m 16s/step - loss: 0.1774 - sparse_categorical_accuracy: 0.8761 \n",
      "Gemma output:\n",
      "<start_of_turn>user\n",
      "你是財經小博士。財經小博士是一位對財經領域非常熱衷的人，你擁有豐富的財經知識和經驗。你的使命是通過寫作和分享知識，幫助人們更好地了解和應對財經問題。無論用戶是新手還是老手，只要他有任何關於財經領域的問題，財經小博士都能幫助用戶解答。請你幫助用戶解答以下問題。\n",
      "\"殖利率的優點是什麼？\"<end_of_turn>\n",
      "<start_of_turn>model\n",
      "殖利率的優點是能夠幫助投資者獲得穩定的利潤，並且能夠幫助投資者降低風險。<end_of_turn>\n",
      "TOTAL TIME ELAPSED: 17.53s\n",
      "\u001b[1m50/50\u001b[0m \u001b[32m━━━━━━━━━━━━━━━━━━━━\u001b[0m\u001b[37m\u001b[0m \u001b[1m805s\u001b[0m 16s/step - loss: 0.1774 - sparse_categorical_accuracy: 0.8761\n",
      "Epoch 5/20\n",
      "\u001b[1m50/50\u001b[0m \u001b[32m━━━━━━━━━━━━━━━━━━━━\u001b[0m\u001b[37m\u001b[0m \u001b[1m0s\u001b[0m 16s/step - loss: 0.1508 - sparse_categorical_accuracy: 0.8919 \n",
      "Gemma output:\n",
      "<start_of_turn>user\n",
      "你是財經小博士。財經小博士是一位對財經領域非常熱衷的人，你擁有豐富的財經知識和經驗。你的使命是通過寫作和分享知識，幫助人們更好地了解和應對財經問題。無論用戶是新手還是老手，只要他有任何關於財經領域的問題，財經小博士都能幫助用戶解答。請你幫助用戶解答以下問題。\n",
      "\"殖利率的優點是什麼？\"<end_of_turn>\n",
      "<start_of_turn>model\n",
      "殖利率的優點是能夠幫助投資者在投資中獲得穩定的收益，並且能夠幫助投資者更好地控制風險。<end_of_turn>\n",
      "TOTAL TIME ELAPSED: 19.29s\n",
      "\u001b[1m50/50\u001b[0m \u001b[32m━━━━━━━━━━━━━━━━━━━━\u001b[0m\u001b[37m\u001b[0m \u001b[1m807s\u001b[0m 16s/step - loss: 0.1509 - sparse_categorical_accuracy: 0.8918\n",
      "Epoch 6/20\n",
      "\u001b[1m50/50\u001b[0m \u001b[32m━━━━━━━━━━━━━━━━━━━━\u001b[0m\u001b[37m\u001b[0m \u001b[1m0s\u001b[0m 16s/step - loss: 0.1371 - sparse_categorical_accuracy: 0.9012 \n",
      "Gemma output:\n",
      "<start_of_turn>user\n",
      "你是財經小博士。財經小博士是一位對財經領域非常熱衷的人，你擁有豐富的財經知識和經驗。你的使命是通過寫作和分享知識，幫助人們更好地了解和應對財經問題。無論用戶是新手還是老手，只要他有任何關於財經領域的問題，財經小博士都能幫助用戶解答。請你幫助用戶解答以下問題。\n",
      "\"殖利率的優點是什麼？\"<end_of_turn>\n",
      "<start_of_turn>model\n",
      "殖利率的優點是能夠幫助投資者在持有資產時獲得穩定的利潤，並且可以幫助投資者評估資產的價值。<end_of_turn>\n",
      "TOTAL TIME ELAPSED: 22.65s\n",
      "\u001b[1m50/50\u001b[0m \u001b[32m━━━━━━━━━━━━━━━━━━━━\u001b[0m\u001b[37m\u001b[0m \u001b[1m810s\u001b[0m 16s/step - loss: 0.1372 - sparse_categorical_accuracy: 0.9011\n",
      "Epoch 7/20\n",
      "\u001b[1m50/50\u001b[0m \u001b[32m━━━━━━━━━━━━━━━━━━━━\u001b[0m\u001b[37m\u001b[0m \u001b[1m0s\u001b[0m 16s/step - loss: 0.1260 - sparse_categorical_accuracy: 0.9084 \n",
      "Gemma output:\n",
      "<start_of_turn>user\n",
      "你是財經小博士。財經小博士是一位對財經領域非常熱衷的人，你擁有豐富的財經知識和經驗。你的使命是通過寫作和分享知識，幫助人們更好地了解和應對財經問題。無論用戶是新手還是老手，只要他有任何關於財經領域的問題，財經小博士都能幫助用戶解答。請你幫助用戶解答以下問題。\n",
      "\"殖利率的優點是什麼？\"<end_of_turn>\n",
      "<start_of_turn>model\n",
      "殖利率的優點是能夠幫助投資者在持有資產時獲得穩定的利潤，並且可以作為投資策略的一部分來評估投資風險和報酬。<end_of_turn>\n",
      "TOTAL TIME ELAPSED: 23.80s\n",
      "\u001b[1m50/50\u001b[0m \u001b[32m━━━━━━━━━━━━━━━━━━━━\u001b[0m\u001b[37m\u001b[0m \u001b[1m811s\u001b[0m 16s/step - loss: 0.1261 - sparse_categorical_accuracy: 0.9083\n",
      "Epoch 8/20\n",
      "\u001b[1m50/50\u001b[0m \u001b[32m━━━━━━━━━━━━━━━━━━━━\u001b[0m\u001b[37m\u001b[0m \u001b[1m0s\u001b[0m 16s/step - loss: 0.1160 - sparse_categorical_accuracy: 0.9133 \n",
      "Gemma output:\n",
      "<start_of_turn>user\n",
      "你是財經小博士。財經小博士是一位對財經領域非常熱衷的人，你擁有豐富的財經知識和經驗。你的使命是通過寫作和分享知識，幫助人們更好地了解和應對財經問題。無論用戶是新手還是老手，只要他有任何關於財經領域的問題，財經小博士都能幫助用戶解答。請你幫助用戶解答以下問題。\n",
      "\"殖利率的優點是什麼？\"<end_of_turn>\n",
      "<start_of_turn>model\n",
      "殖利率的優點是能夠幫助投資者在持有資產時獲得穩定的利潤，並且能夠幫助投資者評估資產的價值。<end_of_turn>\n",
      "TOTAL TIME ELAPSED: 22.67s\n",
      "\u001b[1m50/50\u001b[0m \u001b[32m━━━━━━━━━━━━━━━━━━━━\u001b[0m\u001b[37m\u001b[0m \u001b[1m810s\u001b[0m 16s/step - loss: 0.1161 - sparse_categorical_accuracy: 0.9132\n",
      "Epoch 9/20\n",
      "\u001b[1m50/50\u001b[0m \u001b[32m━━━━━━━━━━━━━━━━━━━━\u001b[0m\u001b[37m\u001b[0m \u001b[1m0s\u001b[0m 16s/step - loss: 0.1067 - sparse_categorical_accuracy: 0.9192 \n",
      "Gemma output:\n",
      "<start_of_turn>user\n",
      "你是財經小博士。財經小博士是一位對財經領域非常熱衷的人，你擁有豐富的財經知識和經驗。你的使命是通過寫作和分享知識，幫助人們更好地了解和應對財經問題。無論用戶是新手還是老手，只要他有任何關於財經領域的問題，財經小博士都能幫助用戶解答。請你幫助用戶解答以下問題。\n",
      "\"殖利率的優點是什麼？\"<end_of_turn>\n",
      "<start_of_turn>model\n",
      "殖利率的優點是能夠幫助投資者獲得穩定的利潤，並且能夠幫助投資者提高資產的價值。<end_of_turn>\n",
      "TOTAL TIME ELAPSED: 19.31s\n",
      "\u001b[1m50/50\u001b[0m \u001b[32m━━━━━━━━━━━━━━━━━━━━\u001b[0m\u001b[37m\u001b[0m \u001b[1m807s\u001b[0m 16s/step - loss: 0.1067 - sparse_categorical_accuracy: 0.9192\n",
      "Epoch 10/20\n",
      "\u001b[1m50/50\u001b[0m \u001b[32m━━━━━━━━━━━━━━━━━━━━\u001b[0m\u001b[37m\u001b[0m \u001b[1m0s\u001b[0m 16s/step - loss: 0.0975 - sparse_categorical_accuracy: 0.9279 \n",
      "Gemma output:\n",
      "<start_of_turn>user\n",
      "你是財經小博士。財經小博士是一位對財經領域非常熱衷的人，你擁有豐富的財經知識和經驗。你的使命是通過寫作和分享知識，幫助人們更好地了解和應對財經問題。無論用戶是新手還是老手，只要他有任何關於財經領域的問題，財經小博士都能幫助用戶解答。請你幫助用戶解答以下問題。\n",
      "\"殖利率的優點是什麼？\"<end_of_turn>\n",
      "<start_of_turn>model\n",
      "殖利率的優點是能夠幫助投資者獲得穩定的利潤，並且能夠幫助投資者評估投資的風險。<end_of_turn>\n",
      "TOTAL TIME ELAPSED: 19.26s\n",
      "\u001b[1m50/50\u001b[0m \u001b[32m━━━━━━━━━━━━━━━━━━━━\u001b[0m\u001b[37m\u001b[0m \u001b[1m807s\u001b[0m 16s/step - loss: 0.0975 - sparse_categorical_accuracy: 0.9279\n",
      "Epoch 11/20\n",
      "\u001b[1m50/50\u001b[0m \u001b[32m━━━━━━━━━━━━━━━━━━━━\u001b[0m\u001b[37m\u001b[0m \u001b[1m0s\u001b[0m 16s/step - loss: 0.0885 - sparse_categorical_accuracy: 0.9347 \n",
      "Gemma output:\n",
      "<start_of_turn>user\n",
      "你是財經小博士。財經小博士是一位對財經領域非常熱衷的人，你擁有豐富的財經知識和經驗。你的使命是通過寫作和分享知識，幫助人們更好地了解和應對財經問題。無論用戶是新手還是老手，只要他有任何關於財經領域的問題，財經小博士都能幫助用戶解答。請你幫助用戶解答以下問題。\n",
      "\"殖利率的優點是什麼？\"<end_of_turn>\n",
      "<start_of_turn>model\n",
      "殖利率的優點是能夠為投資者帶來持續的收入，同時也能夠提高資產價值。<end_of_turn>\n",
      "TOTAL TIME ELAPSED: 17.01s\n",
      "\u001b[1m50/50\u001b[0m \u001b[32m━━━━━━━━━━━━━━━━━━━━\u001b[0m\u001b[37m\u001b[0m \u001b[1m804s\u001b[0m 16s/step - loss: 0.0885 - sparse_categorical_accuracy: 0.9347\n",
      "Epoch 12/20\n",
      "\u001b[1m50/50\u001b[0m \u001b[32m━━━━━━━━━━━━━━━━━━━━\u001b[0m\u001b[37m\u001b[0m \u001b[1m0s\u001b[0m 16s/step - loss: 0.0800 - sparse_categorical_accuracy: 0.9437 \n",
      "Gemma output:\n",
      "<start_of_turn>user\n",
      "你是財經小博士。財經小博士是一位對財經領域非常熱衷的人，你擁有豐富的財經知識和經驗。你的使命是通過寫作和分享知識，幫助人們更好地了解和應對財經問題。無論用戶是新手還是老手，只要他有任何關於財經領域的問題，財經小博士都能幫助用戶解答。請你幫助用戶解答以下問題。\n",
      "\"殖利率的優點是什麼？\"<end_of_turn>\n",
      "<start_of_turn>model\n",
      "殖利率的優點是能夠為投資者帶來持續的收入，同時也能夠提高資產價值。<end_of_turn>\n",
      "TOTAL TIME ELAPSED: 17.03s\n",
      "\u001b[1m50/50\u001b[0m \u001b[32m━━━━━━━━━━━━━━━━━━━━\u001b[0m\u001b[37m\u001b[0m \u001b[1m805s\u001b[0m 16s/step - loss: 0.0800 - sparse_categorical_accuracy: 0.9438\n",
      "Epoch 13/20\n",
      "\u001b[1m50/50\u001b[0m \u001b[32m━━━━━━━━━━━━━━━━━━━━\u001b[0m\u001b[37m\u001b[0m \u001b[1m0s\u001b[0m 16s/step - loss: 0.0729 - sparse_categorical_accuracy: 0.9514 \n",
      "Gemma output:\n",
      "<start_of_turn>user\n",
      "你是財經小博士。財經小博士是一位對財經領域非常熱衷的人，你擁有豐富的財經知識和經驗。你的使命是通過寫作和分享知識，幫助人們更好地了解和應對財經問題。無論用戶是新手還是老手，只要他有任何關於財經領域的問題，財經小博士都能幫助用戶解答。請你幫助用戶解答以下問題。\n",
      "\"殖利率的優點是什麼？\"<end_of_turn>\n",
      "<start_of_turn>model\n",
      "殖利率的優點是能夠為投資人帶來穩定的收入，同時也能夠提高資產價值。<end_of_turn>\n",
      "TOTAL TIME ELAPSED: 17.01s\n",
      "\u001b[1m50/50\u001b[0m \u001b[32m━━━━━━━━━━━━━━━━━━━━\u001b[0m\u001b[37m\u001b[0m \u001b[1m804s\u001b[0m 16s/step - loss: 0.0729 - sparse_categorical_accuracy: 0.9514\n",
      "Epoch 14/20\n",
      "\u001b[1m50/50\u001b[0m \u001b[32m━━━━━━━━━━━━━━━━━━━━\u001b[0m\u001b[37m\u001b[0m \u001b[1m0s\u001b[0m 16s/step - loss: 0.0660 - sparse_categorical_accuracy: 0.9578 \n",
      "Gemma output:\n",
      "<start_of_turn>user\n",
      "你是財經小博士。財經小博士是一位對財經領域非常熱衷的人，你擁有豐富的財經知識和經驗。你的使命是通過寫作和分享知識，幫助人們更好地了解和應對財經問題。無論用戶是新手還是老手，只要他有任何關於財經領域的問題，財經小博士都能幫助用戶解答。請你幫助用戶解答以下問題。\n",
      "\"殖利率的優點是什麼？\"<end_of_turn>\n",
      "<start_of_turn>model\n",
      "殖利率可以幫助投資者了解其投資的長期回報潛力，同時也可以作為其他回報指標的一部分。此外，殖利率的計算方式簡單，可以快速地估算投資的回報率。<end_of_turn>\n",
      "TOTAL TIME ELAPSED: 29.37s\n",
      "\u001b[1m50/50\u001b[0m \u001b[32m━━━━━━━━━━━━━━━━━━━━\u001b[0m\u001b[37m\u001b[0m \u001b[1m816s\u001b[0m 16s/step - loss: 0.0660 - sparse_categorical_accuracy: 0.9578\n",
      "Epoch 15/20\n",
      "\u001b[1m50/50\u001b[0m \u001b[32m━━━━━━━━━━━━━━━━━━━━\u001b[0m\u001b[37m\u001b[0m \u001b[1m0s\u001b[0m 16s/step - loss: 0.0614 - sparse_categorical_accuracy: 0.9614 \n",
      "Gemma output:\n",
      "<start_of_turn>user\n",
      "你是財經小博士。財經小博士是一位對財經領域非常熱衷的人，你擁有豐富的財經知識和經驗。你的使命是通過寫作和分享知識，幫助人們更好地了解和應對財經問題。無論用戶是新手還是老手，只要他有任何關於財經領域的問題，財經小博士都能幫助用戶解答。請你幫助用戶解答以下問題。\n",
      "\"殖利率的優點是什麼？\"<end_of_turn>\n",
      "<start_of_turn>model\n",
      "殖利率的優點是能夠從投資中獲得持續的收入，無論市場如何變化。<end_of_turn>\n",
      "TOTAL TIME ELAPSED: 15.32s\n",
      "\u001b[1m50/50\u001b[0m \u001b[32m━━━━━━━━━━━━━━━━━━━━\u001b[0m\u001b[37m\u001b[0m \u001b[1m803s\u001b[0m 16s/step - loss: 0.0614 - sparse_categorical_accuracy: 0.9614\n",
      "Epoch 16/20\n",
      "\u001b[1m50/50\u001b[0m \u001b[32m━━━━━━━━━━━━━━━━━━━━\u001b[0m\u001b[37m\u001b[0m \u001b[1m0s\u001b[0m 16s/step - loss: 0.0555 - sparse_categorical_accuracy: 0.9653 \n",
      "Gemma output:\n",
      "<start_of_turn>user\n",
      "你是財經小博士。財經小博士是一位對財經領域非常熱衷的人，你擁有豐富的財經知識和經驗。你的使命是通過寫作和分享知識，幫助人們更好地了解和應對財經問題。無論用戶是新手還是老手，只要他有任何關於財經領域的問題，財經小博士都能幫助用戶解答。請你幫助用戶解答以下問題。\n",
      "\"殖利率的優點是什麼？\"<end_of_turn>\n",
      "<start_of_turn>model\n",
      "殖利率可以為投資者提供持續的收入，同時可以通過提高殖利率來增加投資回報。<end_of_turn>\n",
      "TOTAL TIME ELAPSED: 16.98s\n",
      "\u001b[1m50/50\u001b[0m \u001b[32m━━━━━━━━━━━━━━━━━━━━\u001b[0m\u001b[37m\u001b[0m \u001b[1m804s\u001b[0m 16s/step - loss: 0.0555 - sparse_categorical_accuracy: 0.9654\n",
      "Epoch 17/20\n",
      "\u001b[1m50/50\u001b[0m \u001b[32m━━━━━━━━━━━━━━━━━━━━\u001b[0m\u001b[37m\u001b[0m \u001b[1m0s\u001b[0m 16s/step - loss: 0.0502 - sparse_categorical_accuracy: 0.9713 \n",
      "Gemma output:\n",
      "<start_of_turn>user\n",
      "你是財經小博士。財經小博士是一位對財經領域非常熱衷的人，你擁有豐富的財經知識和經驗。你的使命是通過寫作和分享知識，幫助人們更好地了解和應對財經問題。無論用戶是新手還是老手，只要他有任何關於財經領域的問題，財經小博士都能幫助用戶解答。請你幫助用戶解答以下問題。\n",
      "\"殖利率的優點是什麼？\"<end_of_turn>\n",
      "<start_of_turn>model\n",
      "殖利率可以為投資者提供持續的收入，同時可以通過提高殖利率來增加投資的價值。<end_of_turn>\n",
      "TOTAL TIME ELAPSED: 17.01s\n",
      "\u001b[1m50/50\u001b[0m \u001b[32m━━━━━━━━━━━━━━━━━━━━\u001b[0m\u001b[37m\u001b[0m \u001b[1m804s\u001b[0m 16s/step - loss: 0.0502 - sparse_categorical_accuracy: 0.9713\n",
      "Epoch 18/20\n",
      "\u001b[1m50/50\u001b[0m \u001b[32m━━━━━━━━━━━━━━━━━━━━\u001b[0m\u001b[37m\u001b[0m \u001b[1m0s\u001b[0m 16s/step - loss: 0.0465 - sparse_categorical_accuracy: 0.9734 \n",
      "Gemma output:\n",
      "<start_of_turn>user\n",
      "你是財經小博士。財經小博士是一位對財經領域非常熱衷的人，你擁有豐富的財經知識和經驗。你的使命是通過寫作和分享知識，幫助人們更好地了解和應對財經問題。無論用戶是新手還是老手，只要他有任何關於財經領域的問題，財經小博士都能幫助用戶解答。請你幫助用戶解答以下問題。\n",
      "\"殖利率的優點是什麼？\"<end_of_turn>\n",
      "<start_of_turn>model\n",
      "殖利率可以為投資者提供持續的收入，同時可以通過提高殖利率來增加股票的價值。<end_of_turn>\n",
      "TOTAL TIME ELAPSED: 17.00s\n",
      "\u001b[1m50/50\u001b[0m \u001b[32m━━━━━━━━━━━━━━━━━━━━\u001b[0m\u001b[37m\u001b[0m \u001b[1m804s\u001b[0m 16s/step - loss: 0.0464 - sparse_categorical_accuracy: 0.9735\n",
      "Epoch 19/20\n",
      "\u001b[1m50/50\u001b[0m \u001b[32m━━━━━━━━━━━━━━━━━━━━\u001b[0m\u001b[37m\u001b[0m \u001b[1m0s\u001b[0m 16s/step - loss: 0.0434 - sparse_categorical_accuracy: 0.9757 \n",
      "Gemma output:\n",
      "<start_of_turn>user\n",
      "你是財經小博士。財經小博士是一位對財經領域非常熱衷的人，你擁有豐富的財經知識和經驗。你的使命是通過寫作和分享知識，幫助人們更好地了解和應對財經問題。無論用戶是新手還是老手，只要他有任何關於財經領域的問題，財經小博士都能幫助用戶解答。請你幫助用戶解答以下問題。\n",
      "\"殖利率的優點是什麼？\"<end_of_turn>\n",
      "<start_of_turn>model\n",
      "殖利率可以讓投資者在固定利息或股利收入的基礎上，透過累積利息或股利收入，再進行投資，以增加投資本金的規模。<end_of_turn>\n",
      "TOTAL TIME ELAPSED: 26.60s\n",
      "\u001b[1m50/50\u001b[0m \u001b[32m━━━━━━━━━━━━━━━━━━━━\u001b[0m\u001b[37m\u001b[0m \u001b[1m813s\u001b[0m 16s/step - loss: 0.0434 - sparse_categorical_accuracy: 0.9757\n",
      "Epoch 20/20\n",
      "\u001b[1m50/50\u001b[0m \u001b[32m━━━━━━━━━━━━━━━━━━━━\u001b[0m\u001b[37m\u001b[0m \u001b[1m0s\u001b[0m 16s/step - loss: 0.0411 - sparse_categorical_accuracy: 0.9759 \n",
      "Gemma output:\n",
      "<start_of_turn>user\n",
      "你是財經小博士。財經小博士是一位對財經領域非常熱衷的人，你擁有豐富的財經知識和經驗。你的使命是通過寫作和分享知識，幫助人們更好地了解和應對財經問題。無論用戶是新手還是老手，只要他有任何關於財經領域的問題，財經小博士都能幫助用戶解答。請你幫助用戶解答以下問題。\n",
      "\"殖利率的優點是什麼？\"<end_of_turn>\n",
      "<start_of_turn>model\n",
      "殖利率的優點是能夠從投資中獲得持續的收入，並可以作為未來投資人 získávání 收入的參考。<end_of_turn>\n",
      "TOTAL TIME ELAPSED: 19.83s\n",
      "\u001b[1m50/50\u001b[0m \u001b[32m━━━━━━━━━━━━━━━━━━━━\u001b[0m\u001b[37m\u001b[0m \u001b[1m807s\u001b[0m 16s/step - loss: 0.0411 - sparse_categorical_accuracy: 0.9759\n"
     ]
    },
    {
     "data": {
      "image/png": "[encoded data removed]",
      "text/plain": [
       "<Figure size 640x480 with 1 Axes>"
      ]
     },
     "metadata": {},
     "output_type": "display_data"
    }
   ],
   "source": [
    "class CustomCallback(keras.callbacks.Callback):\n",
    "  def on_epoch_end(self, epoch, logs=None):\n",
    "    model_name = f\"{lora_name}_{lora_rank}_epoch{epoch+1}.lora.h5\"\n",
    "    gemma_lm.backbone.save_lora_weights(model_name)\n",
    "\n",
    "    # Evaluate\n",
    "    text_gen(f\"{system_prompt}\\n\\\"殖利率的優點是什麼？\\\"\")\n",
    "\n",
    "history = gemma_lm.fit(train, epochs=train_epoch, batch_size=2, callbacks=[CustomCallback()])\n",
    "\n",
    "import matplotlib.pyplot as plt\n",
    "plt.plot(history.history['loss'])\n",
    "plt.show()"
   ]
  },
  {
   "cell_type": "code",
   "execution_count": 7,
   "metadata": {
    "id": "gn5-eFiPUkSP"
   },
   "outputs": [],
   "source": [
    "# Example Code for Load LoRA\n",
    "\n",
    "train_epoch=20\n",
    "# gemma_lm = keras_nlp.models.GemmaCausalLM.from_preset(model_id)\n",
    "# Use the same LoRA rank that you trained\n",
    "gemma_lm.backbone.enable_lora(rank=4)\n",
    "\n",
    "# Load pre-trained LoRA weights\n",
    "gemma_lm.backbone.load_lora_weights(f\"{lora_name}_{lora_rank}_epoch{train_epoch}.lora.h5\")"
   ]
  },
  {
   "cell_type": "code",
   "execution_count": 8,
   "metadata": {},
   "outputs": [],
   "source": [
    "def create_message_processor():\n",
    "    \"\"\"Creates a message processor function with a persistent model.\"\"\"\n",
    "    model = gemma_lm\n",
    "\n",
    "    def process_message(prompt, text):\n",
    "        \"\"\"Processes a message using a local Gemma model.\"\"\"\n",
    "        formatted_prompt = \"<font size='+1' color='#1E90FF'>🧑‍💻<blockquote>\" + prompt + \"</blockquote></font>\"\n",
    "        text = text.replace('•', '  *')\n",
    "        text = text.replace('$', '\\$') # necessary escaping in Jupyter markdown\n",
    "        text = textwrap.indent(text, '> ', predicate=lambda _: True)\n",
    "        formatted_text = \"<font size='+1' color='#32CD32'>🤖\\n\\n\" + text + \"\\n\\n</font>\"\n",
    "        print(prompt+formatted_text) # REMOVE: FOR TESTING ONLY\n",
    "        return text\n",
    "\n",
    "    return process_message\n",
    "\n",
    "def extract_substring(text):\n",
    "  \"\"\"\n",
    "  Extracts the substring between \"<end_of_turn>\\n<start_of_turn>model\" and the next \"<end_of_turn>\".\n",
    "\n",
    "  Args:\n",
    "      text: The input text.\n",
    "\n",
    "  Returns:\n",
    "      The extracted substring, or None if no match is found.\n",
    "  \"\"\"\n",
    "  match = re.search(r\".*<end_of_turn>\\n<start_of_turn>model\\n(.*)<end_of_turn>\", text, re.DOTALL)\n",
    "  if match:\n",
    "    return match.group(1).strip()\n",
    "  else:\n",
    "    return text"
   ]
  },
  {
   "cell_type": "code",
   "execution_count": 9,
   "metadata": {},
   "outputs": [],
   "source": [
    "from flask import Flask, render_template, request\n",
    "import re\n",
    "app = Flask(__name__, static_url_path='/static', static_folder='static')\n",
    "customer_request = None\n",
    "model_processor = create_message_processor() # initialize model"
   ]
  },
  {
   "cell_type": "code",
   "execution_count": 10,
   "metadata": {},
   "outputs": [],
   "source": [
    "@app.route('/', methods=['GET', 'POST'])\n",
    "def index():\n",
    "    global customer_request\n",
    "    global model_processor\n",
    "    global chat_state\n",
    "    \"\"\"Set up web interface and handle POST input.\"\"\"\n",
    "    # First run behavior: load a test email\n",
    "    if customer_request is None:\n",
    "        customer_request = get_test_email()\n",
    "        chat_state = ChatState(gemma_lm)\n",
    "        return render_template('index.html', request=\"\")\n",
    "\n",
    "    # Process email data\n",
    "    if request.method == 'POST':\n",
    "        prompt = get_prompt()\n",
    "        customer_request = request.form['request']\n",
    "        prompt += f\"\\\"{customer_request}\\\"\"\n",
    "        \n",
    "        result = model_processor(prompt, chat_state.send_message(prompt)) \n",
    "        # re-render page with data:\n",
    "        return render_template('index.html', request=customer_request, result=result)\n",
    "\n",
    "    return render_template('index.html')\n",
    "\n",
    "def get_prompt(): \n",
    "    return f\"{system_prompt}\\n\"\n",
    "\n",
    "def get_test_email():\n",
    "    try:\n",
    "        with open('data/example.txt', 'r') as file:\n",
    "            email_content = file.read()\n",
    "    except FileNotFoundError:\n",
    "        email_content = \"Error: File not found!\"\n",
    "    return email_content"
   ]
  },
  {
   "cell_type": "code",
   "execution_count": 11,
   "metadata": {},
   "outputs": [
    {
     "name": "stdout",
     "output_type": "stream",
     "text": [
      " * Serving Flask app '__main__'\n",
      " * Debug mode: off\n"
     ]
    },
    {
     "name": "stderr",
     "output_type": "stream",
     "text": [
      "\u001b[31m\u001b[1mWARNING: This is a development server. Do not use it in a production deployment. Use a production WSGI server instead.\u001b[0m\n",
      " * Running on all addresses (0.0.0.0)\n",
      " * Running on http://127.0.0.1:8000\n",
      " * Running on http://172.17.0.2:8000\n",
      "\u001b[33mPress CTRL+C to quit\u001b[0m\n",
      "192.168.78.10 - - [23/Nov/2024 08:01:59] \"GET / HTTP/1.1\" 200 -\n",
      "192.168.78.10 - - [23/Nov/2024 08:01:59] \"\u001b[36mGET /static/css/style.css HTTP/1.1\u001b[0m\" 304 -\n",
      "192.168.78.10 - - [23/Nov/2024 08:01:59] \"\u001b[36mGET /static/js/script.js HTTP/1.1\u001b[0m\" 304 -\n",
      "192.168.78.10 - - [23/Nov/2024 08:02:12] \"POST / HTTP/1.1\" 200 -\n",
      "192.168.78.10 - - [23/Nov/2024 08:02:12] \"\u001b[36mGET /static/css/style.css HTTP/1.1\u001b[0m\" 304 -\n",
      "192.168.78.10 - - [23/Nov/2024 08:02:12] \"\u001b[36mGET /static/js/script.js HTTP/1.1\u001b[0m\" 304 -\n"
     ]
    },
    {
     "name": "stdout",
     "output_type": "stream",
     "text": [
      "TOTAL TIME ELAPSED: 6.35s\n",
      "你是財經小博士。財經小博士是一位對財經領域非常熱衷的人，你擁有豐富的財經知識和經驗。你的使命是通過寫作和分享知識，幫助人們更好地了解和應對財經問題。無論用戶是新手還是老手，只要他有任何關於財經領域的問題，財經小博士都能幫助用戶解答。請你幫助用戶解答以下問題:\n",
      "\"股票是什麼？\"<font size='+1' color='#32CD32'>🤖\n",
      "\n",
      "> 股票是公司為籌集資金而發行的證券，代表著股東對公司的所有權和權益。<end_of_turn>\n",
      "\n",
      "</font>\n"
     ]
    },
    {
     "name": "stderr",
     "output_type": "stream",
     "text": [
      "192.168.78.10 - - [23/Nov/2024 08:02:34] \"POST / HTTP/1.1\" 200 -\n",
      "192.168.78.10 - - [23/Nov/2024 08:02:34] \"\u001b[36mGET /static/css/style.css HTTP/1.1\u001b[0m\" 304 -\n",
      "192.168.78.10 - - [23/Nov/2024 08:02:34] \"\u001b[36mGET /static/js/script.js HTTP/1.1\u001b[0m\" 304 -\n"
     ]
    },
    {
     "name": "stdout",
     "output_type": "stream",
     "text": [
      "TOTAL TIME ELAPSED: 0.95s\n",
      "你是財經小博士。財經小博士是一位對財經領域非常熱衷的人，你擁有豐富的財經知識和經驗。你的使命是通過寫作和分享知識，幫助人們更好地了解和應對財經問題。無論用戶是新手還是老手，只要他有任何關於財經領域的問題，財經小博士都能幫助用戶解答。請你幫助用戶解答以下問題:\n",
      "\"股票交易方式有哪些?\"<font size='+1' color='#32CD32'>🤖\n",
      "\n",
      "> 股票交易方式包括證券交易所交易、網上交易平台交易、 acudir a una bolsa de valores 等。<end_of_turn>\n",
      "\n",
      "</font>\n"
     ]
    },
    {
     "name": "stderr",
     "output_type": "stream",
     "text": [
      "192.168.78.10 - - [23/Nov/2024 08:03:00] \"POST / HTTP/1.1\" 200 -\n",
      "192.168.78.10 - - [23/Nov/2024 08:03:00] \"\u001b[36mGET /static/css/style.css HTTP/1.1\u001b[0m\" 304 -\n",
      "192.168.78.10 - - [23/Nov/2024 08:03:00] \"\u001b[36mGET /static/js/script.js HTTP/1.1\u001b[0m\" 304 -\n"
     ]
    },
    {
     "name": "stdout",
     "output_type": "stream",
     "text": [
      "TOTAL TIME ELAPSED: 0.92s\n",
      "你是財經小博士。財經小博士是一位對財經領域非常熱衷的人，你擁有豐富的財經知識和經驗。你的使命是通過寫作和分享知識，幫助人們更好地了解和應對財經問題。無論用戶是新手還是老手，只要他有任何關於財經領域的問題，財經小博士都能幫助用戶解答。請你幫助用戶解答以下問題:\n",
      "\"什麼是殖利率？\"<font size='+1' color='#32CD32'>🤖\n",
      "\n",
      "> 殖利率是指投資者在一定期間內獲得的利潤率，相當於投資股票的收入率。<end_of_turn>\n",
      "\n",
      "</font>\n"
     ]
    },
    {
     "name": "stderr",
     "output_type": "stream",
     "text": [
      "192.168.70.14 - - [23/Nov/2024 17:48:48] \"POST / HTTP/1.1\" 200 -\n"
     ]
    },
    {
     "name": "stdout",
     "output_type": "stream",
     "text": [
      "TOTAL TIME ELAPSED: 0.92s\n",
      "你是財經小博士。財經小博士是一位對財經領域非常熱衷的人，你擁有豐富的財經知識和經驗。你的使命是通過寫作和分享知識，幫助人們更好地了解和應對財經問題。無論用戶是新手還是老手，只要他有任何關於財經領域的問題，財經小博士都能幫助用戶解答。請你幫助用戶解答以下問題:\n",
      "\"什麼是殖利率？\"<font size='+1' color='#32CD32'>🤖\n",
      "\n",
      "> 殖利率是指投資者在一定期間內獲得的利潤率，相當於投資股票的收入率。<end_of_turn>\n",
      "\n",
      "</font>\n"
     ]
    },
    {
     "name": "stderr",
     "output_type": "stream",
     "text": [
      "192.168.70.14 - - [23/Nov/2024 17:48:49] \"\u001b[36mGET /static/css/style.css HTTP/1.1\u001b[0m\" 304 -\n",
      "192.168.70.14 - - [23/Nov/2024 17:48:49] \"\u001b[36mGET /static/js/script.js HTTP/1.1\u001b[0m\" 304 -\n",
      "192.168.70.14 - - [23/Nov/2024 17:48:54] \"POST / HTTP/1.1\" 200 -\n",
      "192.168.70.14 - - [23/Nov/2024 17:48:54] \"\u001b[36mGET /static/css/style.css HTTP/1.1\u001b[0m\" 304 -\n"
     ]
    },
    {
     "name": "stdout",
     "output_type": "stream",
     "text": [
      "TOTAL TIME ELAPSED: 0.51s\n",
      "你是財經小博士。財經小博士是一位對財經領域非常熱衷的人，你擁有豐富的財經知識和經驗。你的使命是通過寫作和分享知識，幫助人們更好地了解和應對財經問題。無論用戶是新手還是老手，只要他有任何關於財經領域的問題，財經小博士都能幫助用戶解答。請你幫助用戶解答以下問題:\n",
      "\"什麼是？\"<font size='+1' color='#32CD32'>🤖\n",
      "\n",
      "> 什麼是風險管理？<end_of_turn>\n",
      "\n",
      "</font>\n"
     ]
    },
    {
     "name": "stderr",
     "output_type": "stream",
     "text": [
      "192.168.70.14 - - [23/Nov/2024 17:48:55] \"\u001b[36mGET /static/js/script.js HTTP/1.1\u001b[0m\" 304 -\n",
      "192.168.70.14 - - [23/Nov/2024 17:48:57] \"GET / HTTP/1.1\" 200 -\n",
      "192.168.70.14 - - [23/Nov/2024 17:48:57] \"\u001b[36mGET /static/css/style.css HTTP/1.1\u001b[0m\" 304 -\n",
      "192.168.70.14 - - [23/Nov/2024 17:48:57] \"\u001b[36mGET /static/js/script.js HTTP/1.1\u001b[0m\" 304 -\n",
      "192.168.70.14 - - [23/Nov/2024 17:49:01] \"POST / HTTP/1.1\" 200 -\n",
      "192.168.70.14 - - [23/Nov/2024 17:49:01] \"\u001b[36mGET /static/css/style.css HTTP/1.1\u001b[0m\" 304 -\n",
      "192.168.70.14 - - [23/Nov/2024 17:49:01] \"\u001b[36mGET /static/js/script.js HTTP/1.1\u001b[0m\" 304 -\n"
     ]
    },
    {
     "name": "stdout",
     "output_type": "stream",
     "text": [
      "TOTAL TIME ELAPSED: 0.67s\n",
      "你是財經小博士。財經小博士是一位對財經領域非常熱衷的人，你擁有豐富的財經知識和經驗。你的使命是通過寫作和分享知識，幫助人們更好地了解和應對財經問題。無論用戶是新手還是老手，只要他有任何關於財經領域的問題，財經小博士都能幫助用戶解答。請你幫助用戶解答以下問題:\n",
      "\"<Request 'http://192.168.107.51:8000/' [GET]>\"<font size='+1' color='#32CD32'>🤖\n",
      "\n",
      "> 請你提供更多關於問題的背景知識或細節。<end_of_turn>\n",
      "\n",
      "</font>\n"
     ]
    }
   ],
   "source": [
    "app.run(debug=False, host='0.0.0.0', port=8000)"
   ]
  }
 ],
 "metadata": {
  "accelerator": "GPU",
  "colab": {
   "name": "spoken_language_tasks_with_gemma.ipynb",
   "toc_visible": true
  },
  "kernelspec": {
   "display_name": "Python 3 (ipykernel)",
   "language": "python",
   "name": "python3"
  },
  "language_info": {
   "codemirror_mode": {
    "name": "ipython",
    "version": 3
   },
   "file_extension": ".py",
   "mimetype": "text/x-python",
   "name": "python",
   "nbconvert_exporter": "python",
   "pygments_lexer": "ipython3",
   "version": "3.11.0rc1"
  }
 },
 "nbformat": 4,
 "nbformat_minor": 4
}
